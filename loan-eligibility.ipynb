{
 "cells": [
  {
   "cell_type": "code",
   "execution_count": 103,
   "id": "fd11b38f-8389-4172-afe7-eb6250afe7f6",
   "metadata": {},
   "outputs": [],
   "source": [
    "# Pandas dan Numpy\n",
    "import pandas as pd\n",
    "import numpy as np\n",
    "\n",
    "# Visualization Library\n",
    "import matplotlib.pyplot as plt\n",
    "import seaborn as sns\n",
    "\n",
    "import scipy.stats as st\n",
    "\n",
    "import warnings\n",
    "warnings.simplefilter(action='ignore', category= FutureWarning)"
   ]
  },
  {
   "cell_type": "markdown",
   "id": "b683908d-9dfe-4c3d-803e-69cfb235c25f",
   "metadata": {},
   "source": [
    "# Problem Statement\n",
    "Sebagai tugas akhir dari masa kontrakmu sebagai intern Data Scientist di ID/X Partners, kali ini kamu akan dilibatkan dalam projek dari sebuah lending company. Kamu akan berkolaborasi dengan berbagai departemen lain dalam projek ini untuk menyediakan solusi teknologi bagi company tersebut. \n",
    "\n",
    "Kamu diminta untuk membangun model yang dapat memprediksi credit risk menggunakan dataset yang disediakan oleh company yang terdiri dari data pinjaman yang diterima dan yang ditolak. Selain itu kamu juga perlu mempersiapkan media visual untuk mempresentasikan solusi ke klien. Pastikan media visual yang kamu buat jelas, mudah dibaca, dan komunikatif. Pengerjaan end-to-end solution ini dapat dilakukan di Programming Language pilihanmu dengan tetap mengacu kepada framework/methodology Data Science."
   ]
  },
  {
   "cell_type": "markdown",
   "id": "f1a02bbf-5856-48dc-ae04-90252ce36d7d",
   "metadata": {},
   "source": [
    "# Goal"
   ]
  },
  {
   "cell_type": "markdown",
   "id": "19927f90-baea-4354-842d-aef2c76dbbbc",
   "metadata": {},
   "source": [
    "Determine credit risk category of bank customers: Good or Bad."
   ]
  },
  {
   "cell_type": "markdown",
   "id": "ce00cc80-fe4b-4431-ac8d-5c7cdc2848d6",
   "metadata": {},
   "source": [
    "# Exploring Data"
   ]
  },
  {
   "cell_type": "code",
   "execution_count": 104,
   "id": "836493f4-8d0c-4671-b595-2fef553ba7d1",
   "metadata": {},
   "outputs": [],
   "source": [
    "df = pd.read_csv('loan_data_2007_2014.csv', engine='python', sep=None)"
   ]
  },
  {
   "cell_type": "code",
   "execution_count": 105,
   "id": "03e54cdd-da24-4669-9232-eb4984c9eea8",
   "metadata": {},
   "outputs": [
    {
     "data": {
      "text/html": [
       "<div>\n",
       "<style scoped>\n",
       "    .dataframe tbody tr th:only-of-type {\n",
       "        vertical-align: middle;\n",
       "    }\n",
       "\n",
       "    .dataframe tbody tr th {\n",
       "        vertical-align: top;\n",
       "    }\n",
       "\n",
       "    .dataframe thead th {\n",
       "        text-align: right;\n",
       "    }\n",
       "</style>\n",
       "<table border=\"1\" class=\"dataframe\">\n",
       "  <thead>\n",
       "    <tr style=\"text-align: right;\">\n",
       "      <th></th>\n",
       "      <th>Unnamed: 0</th>\n",
       "      <th>id</th>\n",
       "      <th>member_id</th>\n",
       "      <th>loan_amnt</th>\n",
       "      <th>funded_amnt</th>\n",
       "      <th>funded_amnt_inv</th>\n",
       "      <th>term</th>\n",
       "      <th>int_rate</th>\n",
       "      <th>installment</th>\n",
       "      <th>grade</th>\n",
       "      <th>sub_grade</th>\n",
       "      <th>emp_title</th>\n",
       "      <th>emp_length</th>\n",
       "      <th>home_ownership</th>\n",
       "      <th>annual_inc</th>\n",
       "      <th>verification_status</th>\n",
       "      <th>issue_d</th>\n",
       "      <th>loan_status</th>\n",
       "      <th>pymnt_plan</th>\n",
       "      <th>url</th>\n",
       "      <th>desc</th>\n",
       "      <th>purpose</th>\n",
       "      <th>title</th>\n",
       "      <th>zip_code</th>\n",
       "      <th>addr_state</th>\n",
       "      <th>dti</th>\n",
       "      <th>delinq_2yrs</th>\n",
       "      <th>earliest_cr_line</th>\n",
       "      <th>inq_last_6mths</th>\n",
       "      <th>mths_since_last_delinq</th>\n",
       "      <th>mths_since_last_record</th>\n",
       "      <th>open_acc</th>\n",
       "      <th>pub_rec</th>\n",
       "      <th>revol_bal</th>\n",
       "      <th>revol_util</th>\n",
       "      <th>total_acc</th>\n",
       "      <th>initial_list_status</th>\n",
       "      <th>out_prncp</th>\n",
       "      <th>out_prncp_inv</th>\n",
       "      <th>total_pymnt</th>\n",
       "      <th>total_pymnt_inv</th>\n",
       "      <th>total_rec_prncp</th>\n",
       "      <th>total_rec_int</th>\n",
       "      <th>total_rec_late_fee</th>\n",
       "      <th>recoveries</th>\n",
       "      <th>collection_recovery_fee</th>\n",
       "      <th>last_pymnt_d</th>\n",
       "      <th>last_pymnt_amnt</th>\n",
       "      <th>next_pymnt_d</th>\n",
       "      <th>last_credit_pull_d</th>\n",
       "      <th>collections_12_mths_ex_med</th>\n",
       "      <th>mths_since_last_major_derog</th>\n",
       "      <th>policy_code</th>\n",
       "      <th>application_type</th>\n",
       "      <th>annual_inc_joint</th>\n",
       "      <th>dti_joint</th>\n",
       "      <th>verification_status_joint</th>\n",
       "      <th>acc_now_delinq</th>\n",
       "      <th>tot_coll_amt</th>\n",
       "      <th>tot_cur_bal</th>\n",
       "      <th>open_acc_6m</th>\n",
       "      <th>open_il_6m</th>\n",
       "      <th>open_il_12m</th>\n",
       "      <th>open_il_24m</th>\n",
       "      <th>mths_since_rcnt_il</th>\n",
       "      <th>total_bal_il</th>\n",
       "      <th>il_util</th>\n",
       "      <th>open_rv_12m</th>\n",
       "      <th>open_rv_24m</th>\n",
       "      <th>max_bal_bc</th>\n",
       "      <th>all_util</th>\n",
       "      <th>total_rev_hi_lim</th>\n",
       "      <th>inq_fi</th>\n",
       "      <th>total_cu_tl</th>\n",
       "      <th>inq_last_12m</th>\n",
       "    </tr>\n",
       "  </thead>\n",
       "  <tbody>\n",
       "    <tr>\n",
       "      <th>244891</th>\n",
       "      <td>244891</td>\n",
       "      <td>35653466</td>\n",
       "      <td>38348905</td>\n",
       "      <td>20000</td>\n",
       "      <td>20000</td>\n",
       "      <td>20000.0</td>\n",
       "      <td>36 months</td>\n",
       "      <td>10.49</td>\n",
       "      <td>649.96</td>\n",
       "      <td>B</td>\n",
       "      <td>B3</td>\n",
       "      <td>Video Technican</td>\n",
       "      <td>10+ years</td>\n",
       "      <td>MORTGAGE</td>\n",
       "      <td>70000.0</td>\n",
       "      <td>Verified</td>\n",
       "      <td>Nov-14</td>\n",
       "      <td>Current</td>\n",
       "      <td>n</td>\n",
       "      <td>https://www.lendingclub.com/browse/loanDetail.action?loan_id=35653466</td>\n",
       "      <td>NaN</td>\n",
       "      <td>debt_consolidation</td>\n",
       "      <td>Debt consolidation</td>\n",
       "      <td>809xx</td>\n",
       "      <td>CO</td>\n",
       "      <td>16.49</td>\n",
       "      <td>0.0</td>\n",
       "      <td>Jul-88</td>\n",
       "      <td>1.0</td>\n",
       "      <td>27.0</td>\n",
       "      <td>NaN</td>\n",
       "      <td>10.0</td>\n",
       "      <td>0.0</td>\n",
       "      <td>20729</td>\n",
       "      <td>64.0</td>\n",
       "      <td>35.0</td>\n",
       "      <td>f</td>\n",
       "      <td>13488.78</td>\n",
       "      <td>13488.78</td>\n",
       "      <td>8454.04</td>\n",
       "      <td>8454.04</td>\n",
       "      <td>6511.22</td>\n",
       "      <td>1942.82</td>\n",
       "      <td>0.0</td>\n",
       "      <td>0.0</td>\n",
       "      <td>0.0</td>\n",
       "      <td>Dec-15</td>\n",
       "      <td>649.96</td>\n",
       "      <td>Jan-16</td>\n",
       "      <td>Jan-16</td>\n",
       "      <td>0.0</td>\n",
       "      <td>32.0</td>\n",
       "      <td>1</td>\n",
       "      <td>INDIVIDUAL</td>\n",
       "      <td>NaN</td>\n",
       "      <td>NaN</td>\n",
       "      <td>NaN</td>\n",
       "      <td>0.0</td>\n",
       "      <td>3840.0</td>\n",
       "      <td>191458.0</td>\n",
       "      <td>NaN</td>\n",
       "      <td>NaN</td>\n",
       "      <td>NaN</td>\n",
       "      <td>NaN</td>\n",
       "      <td>NaN</td>\n",
       "      <td>NaN</td>\n",
       "      <td>NaN</td>\n",
       "      <td>NaN</td>\n",
       "      <td>NaN</td>\n",
       "      <td>NaN</td>\n",
       "      <td>NaN</td>\n",
       "      <td>32400.0</td>\n",
       "      <td>NaN</td>\n",
       "      <td>NaN</td>\n",
       "      <td>NaN</td>\n",
       "    </tr>\n",
       "  </tbody>\n",
       "</table>\n",
       "</div>"
      ],
      "text/plain": [
       "        Unnamed: 0        id  member_id  loan_amnt  funded_amnt  \\\n",
       "244891      244891  35653466   38348905      20000        20000   \n",
       "\n",
       "        funded_amnt_inv        term  int_rate  installment grade sub_grade  \\\n",
       "244891          20000.0   36 months     10.49       649.96     B        B3   \n",
       "\n",
       "               emp_title emp_length home_ownership  annual_inc  \\\n",
       "244891  Video Technican   10+ years       MORTGAGE     70000.0   \n",
       "\n",
       "       verification_status issue_d loan_status pymnt_plan  \\\n",
       "244891            Verified  Nov-14     Current          n   \n",
       "\n",
       "                                                                          url  \\\n",
       "244891  https://www.lendingclub.com/browse/loanDetail.action?loan_id=35653466   \n",
       "\n",
       "       desc             purpose               title zip_code addr_state  \\\n",
       "244891  NaN  debt_consolidation  Debt consolidation    809xx         CO   \n",
       "\n",
       "          dti  delinq_2yrs earliest_cr_line  inq_last_6mths  \\\n",
       "244891  16.49          0.0           Jul-88             1.0   \n",
       "\n",
       "        mths_since_last_delinq  mths_since_last_record  open_acc  pub_rec  \\\n",
       "244891                    27.0                     NaN      10.0      0.0   \n",
       "\n",
       "        revol_bal  revol_util  total_acc initial_list_status  out_prncp  \\\n",
       "244891      20729        64.0       35.0                   f   13488.78   \n",
       "\n",
       "        out_prncp_inv  total_pymnt  total_pymnt_inv  total_rec_prncp  \\\n",
       "244891       13488.78      8454.04          8454.04          6511.22   \n",
       "\n",
       "        total_rec_int  total_rec_late_fee  recoveries  \\\n",
       "244891        1942.82                 0.0         0.0   \n",
       "\n",
       "        collection_recovery_fee last_pymnt_d  last_pymnt_amnt next_pymnt_d  \\\n",
       "244891                      0.0       Dec-15           649.96       Jan-16   \n",
       "\n",
       "       last_credit_pull_d  collections_12_mths_ex_med  \\\n",
       "244891             Jan-16                         0.0   \n",
       "\n",
       "        mths_since_last_major_derog  policy_code application_type  \\\n",
       "244891                         32.0            1       INDIVIDUAL   \n",
       "\n",
       "        annual_inc_joint  dti_joint  verification_status_joint  \\\n",
       "244891               NaN        NaN                        NaN   \n",
       "\n",
       "        acc_now_delinq  tot_coll_amt  tot_cur_bal  open_acc_6m  open_il_6m  \\\n",
       "244891             0.0        3840.0     191458.0          NaN         NaN   \n",
       "\n",
       "        open_il_12m  open_il_24m  mths_since_rcnt_il  total_bal_il  il_util  \\\n",
       "244891          NaN          NaN                 NaN           NaN      NaN   \n",
       "\n",
       "        open_rv_12m  open_rv_24m  max_bal_bc  all_util  total_rev_hi_lim  \\\n",
       "244891          NaN          NaN         NaN       NaN           32400.0   \n",
       "\n",
       "        inq_fi  total_cu_tl  inq_last_12m  \n",
       "244891     NaN          NaN           NaN  "
      ]
     },
     "execution_count": 105,
     "metadata": {},
     "output_type": "execute_result"
    }
   ],
   "source": [
    "pd.set_option('display.max_columns', None)\n",
    "df.sample(1)"
   ]
  },
  {
   "cell_type": "markdown",
   "id": "4647d62f-11a1-4f17-86da-5a98ee2de834",
   "metadata": {},
   "source": [
    "**Feature Explanation**"
   ]
  },
  {
   "cell_type": "code",
   "execution_count": 106,
   "id": "712945cf-e2f0-4730-9cce-c5aee8cb13c6",
   "metadata": {},
   "outputs": [],
   "source": [
    "fd = pd.read_excel('LCDataDictionary.xlsx')"
   ]
  },
  {
   "cell_type": "code",
   "execution_count": 107,
   "id": "b2fe63a9-1206-4bec-a824-1528459158b1",
   "metadata": {},
   "outputs": [
    {
     "data": {
      "text/html": [
       "<div>\n",
       "<style scoped>\n",
       "    .dataframe tbody tr th:only-of-type {\n",
       "        vertical-align: middle;\n",
       "    }\n",
       "\n",
       "    .dataframe tbody tr th {\n",
       "        vertical-align: top;\n",
       "    }\n",
       "\n",
       "    .dataframe thead th {\n",
       "        text-align: right;\n",
       "    }\n",
       "</style>\n",
       "<table border=\"1\" class=\"dataframe\">\n",
       "  <thead>\n",
       "    <tr style=\"text-align: right;\">\n",
       "      <th></th>\n",
       "      <th>Unnamed: 0</th>\n",
       "      <th>Description</th>\n",
       "      <th>Unnamed: 2</th>\n",
       "    </tr>\n",
       "  </thead>\n",
       "  <tbody>\n",
       "    <tr>\n",
       "      <th>0</th>\n",
       "      <td>_rec</td>\n",
       "      <td>The total amount committed by investors for that loan at that point in time.</td>\n",
       "      <td>Jumlah total yang dilakukan oleh investor untuk pinjaman itu pada saat itu.</td>\n",
       "    </tr>\n",
       "    <tr>\n",
       "      <th>1</th>\n",
       "      <td>acc_now_delinq</td>\n",
       "      <td>The number of accounts on which the borrower is now delinquent.</td>\n",
       "      <td>Jumlah akun di mana peminjam sekarang nakal.</td>\n",
       "    </tr>\n",
       "    <tr>\n",
       "      <th>2</th>\n",
       "      <td>addr_state</td>\n",
       "      <td>The state provided by the borrower in the loan application</td>\n",
       "      <td>Negara yang disediakan oleh peminjam dalam aplikasi pinjaman</td>\n",
       "    </tr>\n",
       "    <tr>\n",
       "      <th>3</th>\n",
       "      <td>all_util</td>\n",
       "      <td>Balance to credit limit on all trades</td>\n",
       "      <td>Saldo ke batas kredit untuk semua perdagangan</td>\n",
       "    </tr>\n",
       "    <tr>\n",
       "      <th>4</th>\n",
       "      <td>annual_inc</td>\n",
       "      <td>The self-reported annual income provided by the borrower during registration.</td>\n",
       "      <td>v</td>\n",
       "    </tr>\n",
       "    <tr>\n",
       "      <th>5</th>\n",
       "      <td>annual_inc_joint</td>\n",
       "      <td>The combined self-reported annual income provided by the co-borrowers during registration</td>\n",
       "      <td>Penghasilan tahunan yang dilaporkan sendiri gabungan yang disediakan oleh co-peminjam selama pen...</td>\n",
       "    </tr>\n",
       "    <tr>\n",
       "      <th>6</th>\n",
       "      <td>application_type</td>\n",
       "      <td>Indicates whether the loan is an individual application or a joint application with two co-borro...</td>\n",
       "      <td>NaN</td>\n",
       "    </tr>\n",
       "    <tr>\n",
       "      <th>7</th>\n",
       "      <td>collection_recovery_fee</td>\n",
       "      <td>post charge off collection fee</td>\n",
       "      <td>Biaya pengumpulan biaya pengumpulan pos</td>\n",
       "    </tr>\n",
       "    <tr>\n",
       "      <th>8</th>\n",
       "      <td>collections_12_mths_ex_med</td>\n",
       "      <td>Number of collections in 12 months excluding medical collections</td>\n",
       "      <td>Jumlah koleksi dalam 12 bulan tidak termasuk koleksi medis</td>\n",
       "    </tr>\n",
       "    <tr>\n",
       "      <th>9</th>\n",
       "      <td>delinq_2yrs</td>\n",
       "      <td>The number of 30+ days past-due incidences of delinquency in the borrower's credit file for the ...</td>\n",
       "      <td>Jumlah 30+ hari insiden kenakalan yang lewat dalam file kredit peminjam selama 2 tahun terakhir</td>\n",
       "    </tr>\n",
       "    <tr>\n",
       "      <th>10</th>\n",
       "      <td>desc</td>\n",
       "      <td>Loan description provided by the borrower</td>\n",
       "      <td>Deskripsi pinjaman yang disediakan oleh peminjam</td>\n",
       "    </tr>\n",
       "    <tr>\n",
       "      <th>11</th>\n",
       "      <td>dti_joint</td>\n",
       "      <td>A ratio calculated using the co-borrowers' total monthly payments on the total debt obligations,...</td>\n",
       "      <td>Rasio yang dihitung menggunakan total pembayaran bulanan peminjam bersama atas total kewajiban u...</td>\n",
       "    </tr>\n",
       "    <tr>\n",
       "      <th>12</th>\n",
       "      <td>earliest_cr_line</td>\n",
       "      <td>The month the borrower's earliest reported credit line was opened</td>\n",
       "      <td>Bulan jalur kredit yang paling awal yang dilaporkan peminjam dibuka</td>\n",
       "    </tr>\n",
       "    <tr>\n",
       "      <th>13</th>\n",
       "      <td>emp_length</td>\n",
       "      <td>Employment length in years. Possible values are between 0 and 10 where 0 means less than one yea...</td>\n",
       "      <td>Panjang pekerjaan dalam beberapa tahun. Nilai yang mungkin adalah antara 0 dan 10 di mana 0 bera...</td>\n",
       "    </tr>\n",
       "    <tr>\n",
       "      <th>14</th>\n",
       "      <td>emp_title</td>\n",
       "      <td>The job title supplied by the Borrower when applying for the loan.*</td>\n",
       "      <td>Judul pekerjaan yang disediakan oleh peminjam saat mengajukan pinjaman.*</td>\n",
       "    </tr>\n",
       "    <tr>\n",
       "      <th>15</th>\n",
       "      <td>Femp</td>\n",
       "      <td>A ratio calculated using the borrower’s total monthly debt payments on the total debt obligation...</td>\n",
       "      <td>Rasio yang dihitung menggunakan total pembayaran utang bulanan peminjam atas total kewajiban uta...</td>\n",
       "    </tr>\n",
       "    <tr>\n",
       "      <th>16</th>\n",
       "      <td>fico_range_high</td>\n",
       "      <td>The upper boundary range the borrower’s FICO at loan origination belongs to.</td>\n",
       "      <td>Kisaran batas atas fico peminjam dengan pinjaman originasi milik.</td>\n",
       "    </tr>\n",
       "    <tr>\n",
       "      <th>17</th>\n",
       "      <td>fico_range_low</td>\n",
       "      <td>The lower boundary range the borrower’s FICO at loan origination belongs to.</td>\n",
       "      <td>Rentang batas bawah fico peminjam dengan pinjaman originasi milik.</td>\n",
       "    </tr>\n",
       "    <tr>\n",
       "      <th>18</th>\n",
       "      <td>funded_amnt</td>\n",
       "      <td>The total amount committed to that loan at that point in time.</td>\n",
       "      <td>Jumlah total yang berkomitmen untuk pinjaman itu pada saat itu.</td>\n",
       "    </tr>\n",
       "    <tr>\n",
       "      <th>19</th>\n",
       "      <td>grade</td>\n",
       "      <td>LC assigned loan grade</td>\n",
       "      <td>LC menugaskan nilai pinjaman</td>\n",
       "    </tr>\n",
       "    <tr>\n",
       "      <th>20</th>\n",
       "      <td>home_ownership</td>\n",
       "      <td>The home ownership status provided by the borrower during registration. Our values are: RENT, OW...</td>\n",
       "      <td>Status kepemilikan rumah yang disediakan oleh peminjam selama pendaftaran. Nilai -nilai kami ada...</td>\n",
       "    </tr>\n",
       "    <tr>\n",
       "      <th>21</th>\n",
       "      <td>id</td>\n",
       "      <td>A unique LC assigned ID for the loan listing.</td>\n",
       "      <td>ID yang ditugaskan LC yang unik untuk daftar pinjaman.</td>\n",
       "    </tr>\n",
       "    <tr>\n",
       "      <th>22</th>\n",
       "      <td>il_util</td>\n",
       "      <td>Ratio of total current balance to high credit/credit limit on all install acct</td>\n",
       "      <td>Rasio total saldo saat ini dengan batas kredit/kredit tinggi pada semua instal acct</td>\n",
       "    </tr>\n",
       "    <tr>\n",
       "      <th>23</th>\n",
       "      <td>initial_list_status</td>\n",
       "      <td>The initial listing status of the loan. Possible values are – Whole, Fractional</td>\n",
       "      <td>Status daftar awal pinjaman. Nilai yang mungkin adalah - utuh, fraksional</td>\n",
       "    </tr>\n",
       "    <tr>\n",
       "      <th>24</th>\n",
       "      <td>inq_fi</td>\n",
       "      <td>Number of personal finance inquiries</td>\n",
       "      <td>Jumlah pertanyaan keuangan pribadi</td>\n",
       "    </tr>\n",
       "    <tr>\n",
       "      <th>25</th>\n",
       "      <td>inq_last_12m</td>\n",
       "      <td>Number of credit inquiries in past 12 months</td>\n",
       "      <td>Jumlah pertanyaan kredit dalam 12 bulan terakhir</td>\n",
       "    </tr>\n",
       "    <tr>\n",
       "      <th>26</th>\n",
       "      <td>inq_last_6mths</td>\n",
       "      <td>The number of inquiries in past 6 months (excluding auto and mortgage inquiries)</td>\n",
       "      <td>Jumlah pertanyaan dalam 6 bulan terakhir (tidak termasuk penyelidikan mobil dan hipotek)</td>\n",
       "    </tr>\n",
       "    <tr>\n",
       "      <th>27</th>\n",
       "      <td>installment</td>\n",
       "      <td>The monthly payment owed by the borrower if the loan originates.</td>\n",
       "      <td>Pembayaran bulanan yang terutang oleh peminjam jika pinjaman berasal.</td>\n",
       "    </tr>\n",
       "    <tr>\n",
       "      <th>28</th>\n",
       "      <td>int_rate</td>\n",
       "      <td>Indicates if income was verified by LC, not verified, or if the income source was verified</td>\n",
       "      <td>Menunjukkan jika pendapatan diverifikasi oleh LC, tidak diverifikasi, atau jika sumber pendapata...</td>\n",
       "    </tr>\n",
       "    <tr>\n",
       "      <th>29</th>\n",
       "      <td>is_inc_v</td>\n",
       "      <td>NaN</td>\n",
       "      <td>Menunjukkan jika pendapatan diverifikasi oleh LC, tidak diverifikasi, atau jika sumber pendapata...</td>\n",
       "    </tr>\n",
       "    <tr>\n",
       "      <th>30</th>\n",
       "      <td>issue_d</td>\n",
       "      <td>The month which the loan was funded</td>\n",
       "      <td>Bulan yang didanai pinjaman</td>\n",
       "    </tr>\n",
       "    <tr>\n",
       "      <th>31</th>\n",
       "      <td>id</td>\n",
       "      <td>The most recent month LC pulled credit for this loan</td>\n",
       "      <td>Bulan terbaru LC menarik kredit untuk pinjaman ini</td>\n",
       "    </tr>\n",
       "    <tr>\n",
       "      <th>32</th>\n",
       "      <td>last_fico_range_high</td>\n",
       "      <td>The upper boundary range the borrower’s last FICO pulled belongs to.</td>\n",
       "      <td>Rentang batas atas yang ditarik oleh fico terakhir peminjam.</td>\n",
       "    </tr>\n",
       "    <tr>\n",
       "      <th>33</th>\n",
       "      <td>last_fico_range_low</td>\n",
       "      <td>The lower boundary range the borrower’s last FICO pulled belongs to.</td>\n",
       "      <td>Rentang batas bawah yang dimiliki oleh fico terakhir peminjam.</td>\n",
       "    </tr>\n",
       "    <tr>\n",
       "      <th>34</th>\n",
       "      <td>last_pymnt_amnt</td>\n",
       "      <td>Last total payment amount received</td>\n",
       "      <td>Jumlah total pembayaran terakhir yang diterima</td>\n",
       "    </tr>\n",
       "    <tr>\n",
       "      <th>35</th>\n",
       "      <td>last_pymnt_d</td>\n",
       "      <td>Last month payment was received</td>\n",
       "      <td>Bulan lalu pembayaran diterima</td>\n",
       "    </tr>\n",
       "    <tr>\n",
       "      <th>36</th>\n",
       "      <td>loan_amnt</td>\n",
       "      <td>Last month payment was received</td>\n",
       "      <td>Bulan lalu pembayaran diterima</td>\n",
       "    </tr>\n",
       "    <tr>\n",
       "      <th>37</th>\n",
       "      <td>loan_status</td>\n",
       "      <td>Current status of the loan</td>\n",
       "      <td>Status pinjaman saat ini</td>\n",
       "    </tr>\n",
       "    <tr>\n",
       "      <th>38</th>\n",
       "      <td>max_bal_bc</td>\n",
       "      <td>Maximum current balance owed on all revolving accounts</td>\n",
       "      <td>Saldo arus maksimum terutang pada semua akun bergulir</td>\n",
       "    </tr>\n",
       "    <tr>\n",
       "      <th>39</th>\n",
       "      <td>member_id</td>\n",
       "      <td>A unique LC assigned Id for the borrower member.</td>\n",
       "      <td>ID yang ditugaskan LC yang unik untuk anggota peminjam.</td>\n",
       "    </tr>\n",
       "    <tr>\n",
       "      <th>40</th>\n",
       "      <td>mths_since_last_delinq</td>\n",
       "      <td>The number of months since the borrower's last delinquency.</td>\n",
       "      <td>Jumlah bulan sejak kenakalan terakhir peminjam.</td>\n",
       "    </tr>\n",
       "    <tr>\n",
       "      <th>41</th>\n",
       "      <td>mths_since_last_major_derog</td>\n",
       "      <td>Months since most recent 90-day or worse rating</td>\n",
       "      <td>Bulan sejak peringkat 90 hari atau lebih buruk terakhir</td>\n",
       "    </tr>\n",
       "    <tr>\n",
       "      <th>42</th>\n",
       "      <td>mths_since_last_record</td>\n",
       "      <td>The number of months since the last public record.</td>\n",
       "      <td>Jumlah bulan sejak catatan publik terakhir.</td>\n",
       "    </tr>\n",
       "    <tr>\n",
       "      <th>43</th>\n",
       "      <td>mths_since_rcnt_il</td>\n",
       "      <td>Months since most recent installment accounts opened</td>\n",
       "      <td>Bulan sejak akun angsuran terbaru dibuka</td>\n",
       "    </tr>\n",
       "    <tr>\n",
       "      <th>44</th>\n",
       "      <td>next_pymnt_d</td>\n",
       "      <td>Next scheduled payment date</td>\n",
       "      <td>Tanggal Pembayaran Terjadwal Berikutnya</td>\n",
       "    </tr>\n",
       "    <tr>\n",
       "      <th>45</th>\n",
       "      <td>open_acc</td>\n",
       "      <td>The number of open credit lines in the borrower's credit file.</td>\n",
       "      <td>Jumlah jalur kredit terbuka dalam file kredit peminjam.</td>\n",
       "    </tr>\n",
       "    <tr>\n",
       "      <th>46</th>\n",
       "      <td>open_acc_6m</td>\n",
       "      <td>Number of open trades in last 6 months</td>\n",
       "      <td>Jumlah perdagangan terbuka dalam 6 bulan terakhir</td>\n",
       "    </tr>\n",
       "    <tr>\n",
       "      <th>47</th>\n",
       "      <td>open_il_12m</td>\n",
       "      <td>NaN</td>\n",
       "      <td>Jumlah perdagangan terbuka dalam 6 bulan terakhir</td>\n",
       "    </tr>\n",
       "    <tr>\n",
       "      <th>48</th>\n",
       "      <td>open_il_24m</td>\n",
       "      <td>Number of installment accounts opened in past 24 months</td>\n",
       "      <td>Jumlah akun angsuran yang dibuka dalam 24 bulan terakhir</td>\n",
       "    </tr>\n",
       "    <tr>\n",
       "      <th>49</th>\n",
       "      <td>open_il_6m</td>\n",
       "      <td>Number of installment accounts opened in past 12 months</td>\n",
       "      <td>Jumlah akun angsuran yang dibuka dalam 12 bulan terakhir</td>\n",
       "    </tr>\n",
       "    <tr>\n",
       "      <th>50</th>\n",
       "      <td>open_rv_12m</td>\n",
       "      <td>Number of revolving trades opened in past 12 months</td>\n",
       "      <td>Jumlah Perdagangan Revolving Dibuka dalam 12 Bulan Terakhir</td>\n",
       "    </tr>\n",
       "    <tr>\n",
       "      <th>51</th>\n",
       "      <td>open_rv_24m</td>\n",
       "      <td>Number of revolving trades opened in past 24 months</td>\n",
       "      <td>Jumlah perdagangan revolving dibuka dalam 24 bulan terakhir</td>\n",
       "    </tr>\n",
       "    <tr>\n",
       "      <th>52</th>\n",
       "      <td>out_prncp</td>\n",
       "      <td>Remaining outstanding principal for total amount funded</td>\n",
       "      <td>Kepala sekolah yang tersisa untuk jumlah total yang didanai</td>\n",
       "    </tr>\n",
       "    <tr>\n",
       "      <th>53</th>\n",
       "      <td>out_prncp_inv</td>\n",
       "      <td>Remaining outstanding principal for portion of total amount funded by investors</td>\n",
       "      <td>Kepala sekolah yang tersisa untuk sebagian dari jumlah total yang didanai oleh investor</td>\n",
       "    </tr>\n",
       "    <tr>\n",
       "      <th>54</th>\n",
       "      <td>policy_code</td>\n",
       "      <td>publicly available policy_code=1\\nnew products not publicly available policy_code=2</td>\n",
       "      <td>Policy_code yang tersedia untuk umum = 1\\nProduk Baru Tidak Tersedia Umum Kebijakan_Code = 2</td>\n",
       "    </tr>\n",
       "    <tr>\n",
       "      <th>55</th>\n",
       "      <td>pub_rec</td>\n",
       "      <td>Number of derogatory public records</td>\n",
       "      <td>Jumlah catatan publik yang menghina</td>\n",
       "    </tr>\n",
       "    <tr>\n",
       "      <th>56</th>\n",
       "      <td>purpose</td>\n",
       "      <td>A category provided by the borrower for the loan request.</td>\n",
       "      <td>Kategori yang disediakan oleh peminjam untuk permintaan pinjaman.</td>\n",
       "    </tr>\n",
       "    <tr>\n",
       "      <th>57</th>\n",
       "      <td>NaN</td>\n",
       "      <td>Indicates if a payment plan has been put in place for the loan</td>\n",
       "      <td>Menunjukkan jika rencana pembayaran telah diberlakukan untuk pinjaman</td>\n",
       "    </tr>\n",
       "    <tr>\n",
       "      <th>58</th>\n",
       "      <td>recoveries</td>\n",
       "      <td>Indicates if a payment plan has been put in place for the loan</td>\n",
       "      <td>Menunjukkan jika rencana pembayaran telah diberlakukan untuk pinjaman</td>\n",
       "    </tr>\n",
       "    <tr>\n",
       "      <th>59</th>\n",
       "      <td>revol_bal</td>\n",
       "      <td>Total credit revolving balance</td>\n",
       "      <td>Total Saldo Revolving Credit</td>\n",
       "    </tr>\n",
       "    <tr>\n",
       "      <th>60</th>\n",
       "      <td>revol_util</td>\n",
       "      <td>Revolving line utilization rate, or the amount of credit the borrower is using relative to all a...</td>\n",
       "      <td>Tingkat pemanfaatan jalur bergulir, atau jumlah kredit yang digunakan peminjam relatif terhadap ...</td>\n",
       "    </tr>\n",
       "    <tr>\n",
       "      <th>61</th>\n",
       "      <td>sub_grade</td>\n",
       "      <td>LC assigned loan subgrade</td>\n",
       "      <td>LC Ditugaskan Subgrade Pinjaman</td>\n",
       "    </tr>\n",
       "    <tr>\n",
       "      <th>62</th>\n",
       "      <td>term</td>\n",
       "      <td>The number of payments on the loan. Values are in months and can be either 36 or 60.</td>\n",
       "      <td>Jumlah pembayaran atas pinjaman. Nilai dalam beberapa bulan dan dapat berupa 36 atau 60.</td>\n",
       "    </tr>\n",
       "    <tr>\n",
       "      <th>63</th>\n",
       "      <td>title</td>\n",
       "      <td>The loan title provided by the borrower</td>\n",
       "      <td>Judul pinjaman yang disediakan oleh peminjam</td>\n",
       "    </tr>\n",
       "    <tr>\n",
       "      <th>64</th>\n",
       "      <td>tot_coll_amt</td>\n",
       "      <td>Total collection amounts ever owed</td>\n",
       "      <td>Total jumlah pengumpulan yang pernah ada</td>\n",
       "    </tr>\n",
       "    <tr>\n",
       "      <th>65</th>\n",
       "      <td>tot_cur_bal</td>\n",
       "      <td>Total current balance of all accounts</td>\n",
       "      <td>Total Saldo Saat Ini dari Semua Akun</td>\n",
       "    </tr>\n",
       "    <tr>\n",
       "      <th>66</th>\n",
       "      <td>total_acc</td>\n",
       "      <td>The total number of credit lines currently in the borrower's credit file</td>\n",
       "      <td>Jumlah total jalur kredit saat ini dalam file kredit peminjam</td>\n",
       "    </tr>\n",
       "    <tr>\n",
       "      <th>67</th>\n",
       "      <td>total_bal_il</td>\n",
       "      <td>Total current balance of all installment accounts</td>\n",
       "      <td>Total saldo saat ini dari semua akun angsuran</td>\n",
       "    </tr>\n",
       "    <tr>\n",
       "      <th>68</th>\n",
       "      <td>total_cu_tl</td>\n",
       "      <td>Number of finance trades</td>\n",
       "      <td>Jumlah Perdagangan Keuangan</td>\n",
       "    </tr>\n",
       "    <tr>\n",
       "      <th>69</th>\n",
       "      <td>total_pymnt</td>\n",
       "      <td>Payments received to date for total amount funded</td>\n",
       "      <td>Pembayaran diterima hingga saat ini untuk jumlah total yang didanai</td>\n",
       "    </tr>\n",
       "    <tr>\n",
       "      <th>70</th>\n",
       "      <td>total_pymnt_inv</td>\n",
       "      <td>Payments received to date for portion of total amount funded by investors</td>\n",
       "      <td>Pembayaran diterima hingga saat ini untuk sebagian dari jumlah total yang didanai oleh investor</td>\n",
       "    </tr>\n",
       "    <tr>\n",
       "      <th>71</th>\n",
       "      <td>total_rec_int</td>\n",
       "      <td>Interest received to date</td>\n",
       "      <td>Bunga diterima hingga saat ini</td>\n",
       "    </tr>\n",
       "    <tr>\n",
       "      <th>72</th>\n",
       "      <td>total_rec_late_fee</td>\n",
       "      <td>Late fees received to date</td>\n",
       "      <td>Biaya keterlambatan yang diterima hingga saat ini</td>\n",
       "    </tr>\n",
       "    <tr>\n",
       "      <th>73</th>\n",
       "      <td>total_rec_prncp</td>\n",
       "      <td>Principal received to date</td>\n",
       "      <td>Kepala sekolah diterima hingga saat ini</td>\n",
       "    </tr>\n",
       "    <tr>\n",
       "      <th>74</th>\n",
       "      <td>total_rev_hi_lim</td>\n",
       "      <td>Total revolving high credit/credit limit</td>\n",
       "      <td>Total Batas Kredit/Kredit Tinggi Revolving</td>\n",
       "    </tr>\n",
       "    <tr>\n",
       "      <th>75</th>\n",
       "      <td>url</td>\n",
       "      <td>URL for the LC page with listing data.</td>\n",
       "      <td>URL untuk halaman LC dengan data daftar.</td>\n",
       "    </tr>\n",
       "    <tr>\n",
       "      <th>76</th>\n",
       "      <td>verified_status_joint</td>\n",
       "      <td>Indicates if the co-borrowers' joint income was verified by LC, not verified, or if the income s...</td>\n",
       "      <td>Menunjukkan jika pendapatan bersama co-peminjam diverifikasi oleh LC, tidak diverifikasi, atau j...</td>\n",
       "    </tr>\n",
       "    <tr>\n",
       "      <th>77</th>\n",
       "      <td>zip_code</td>\n",
       "      <td>The first 3 numbers of the zip code provided by the borrower in the loan application.</td>\n",
       "      <td>3 nomor pertama dari kode pos yang disediakan oleh peminjam dalam aplikasi pinjaman.</td>\n",
       "    </tr>\n",
       "  </tbody>\n",
       "</table>\n",
       "</div>"
      ],
      "text/plain": [
       "                     Unnamed: 0  \\\n",
       "0                          _rec   \n",
       "1                acc_now_delinq   \n",
       "2                    addr_state   \n",
       "3                      all_util   \n",
       "4                    annual_inc   \n",
       "5              annual_inc_joint   \n",
       "6              application_type   \n",
       "7       collection_recovery_fee   \n",
       "8    collections_12_mths_ex_med   \n",
       "9                   delinq_2yrs   \n",
       "10                         desc   \n",
       "11                    dti_joint   \n",
       "12             earliest_cr_line   \n",
       "13                   emp_length   \n",
       "14                    emp_title   \n",
       "15                         Femp   \n",
       "16              fico_range_high   \n",
       "17               fico_range_low   \n",
       "18                  funded_amnt   \n",
       "19                        grade   \n",
       "20               home_ownership   \n",
       "21                           id   \n",
       "22                      il_util   \n",
       "23          initial_list_status   \n",
       "24                       inq_fi   \n",
       "25                 inq_last_12m   \n",
       "26               inq_last_6mths   \n",
       "27                  installment   \n",
       "28                     int_rate   \n",
       "29                     is_inc_v   \n",
       "30                      issue_d   \n",
       "31                           id   \n",
       "32         last_fico_range_high   \n",
       "33          last_fico_range_low   \n",
       "34              last_pymnt_amnt   \n",
       "35                 last_pymnt_d   \n",
       "36                    loan_amnt   \n",
       "37                  loan_status   \n",
       "38                   max_bal_bc   \n",
       "39                    member_id   \n",
       "40       mths_since_last_delinq   \n",
       "41  mths_since_last_major_derog   \n",
       "42       mths_since_last_record   \n",
       "43           mths_since_rcnt_il   \n",
       "44                 next_pymnt_d   \n",
       "45                     open_acc   \n",
       "46                  open_acc_6m   \n",
       "47                  open_il_12m   \n",
       "48                  open_il_24m   \n",
       "49                   open_il_6m   \n",
       "50                  open_rv_12m   \n",
       "51                  open_rv_24m   \n",
       "52                    out_prncp   \n",
       "53                out_prncp_inv   \n",
       "54                  policy_code   \n",
       "55                      pub_rec   \n",
       "56                      purpose   \n",
       "57                          NaN   \n",
       "58                   recoveries   \n",
       "59                    revol_bal   \n",
       "60                   revol_util   \n",
       "61                    sub_grade   \n",
       "62                         term   \n",
       "63                        title   \n",
       "64                 tot_coll_amt   \n",
       "65                  tot_cur_bal   \n",
       "66                    total_acc   \n",
       "67                 total_bal_il   \n",
       "68                  total_cu_tl   \n",
       "69                  total_pymnt   \n",
       "70              total_pymnt_inv   \n",
       "71                total_rec_int   \n",
       "72           total_rec_late_fee   \n",
       "73              total_rec_prncp   \n",
       "74           total_rev_hi_lim     \n",
       "75                          url   \n",
       "76        verified_status_joint   \n",
       "77                     zip_code   \n",
       "\n",
       "                                                                                            Description  \\\n",
       "0                          The total amount committed by investors for that loan at that point in time.   \n",
       "1                                       The number of accounts on which the borrower is now delinquent.   \n",
       "2                                            The state provided by the borrower in the loan application   \n",
       "3                                                                 Balance to credit limit on all trades   \n",
       "4                         The self-reported annual income provided by the borrower during registration.   \n",
       "5             The combined self-reported annual income provided by the co-borrowers during registration   \n",
       "6   Indicates whether the loan is an individual application or a joint application with two co-borro...   \n",
       "7                                                                        post charge off collection fee   \n",
       "8                                      Number of collections in 12 months excluding medical collections   \n",
       "9   The number of 30+ days past-due incidences of delinquency in the borrower's credit file for the ...   \n",
       "10                                                            Loan description provided by the borrower   \n",
       "11  A ratio calculated using the co-borrowers' total monthly payments on the total debt obligations,...   \n",
       "12                                    The month the borrower's earliest reported credit line was opened   \n",
       "13  Employment length in years. Possible values are between 0 and 10 where 0 means less than one yea...   \n",
       "14                                  The job title supplied by the Borrower when applying for the loan.*   \n",
       "15  A ratio calculated using the borrower’s total monthly debt payments on the total debt obligation...   \n",
       "16                         The upper boundary range the borrower’s FICO at loan origination belongs to.   \n",
       "17                         The lower boundary range the borrower’s FICO at loan origination belongs to.   \n",
       "18                                       The total amount committed to that loan at that point in time.   \n",
       "19                                                                               LC assigned loan grade   \n",
       "20  The home ownership status provided by the borrower during registration. Our values are: RENT, OW...   \n",
       "21                                                        A unique LC assigned ID for the loan listing.   \n",
       "22                       Ratio of total current balance to high credit/credit limit on all install acct   \n",
       "23                      The initial listing status of the loan. Possible values are – Whole, Fractional   \n",
       "24                                                                 Number of personal finance inquiries   \n",
       "25                                                         Number of credit inquiries in past 12 months   \n",
       "26                     The number of inquiries in past 6 months (excluding auto and mortgage inquiries)   \n",
       "27                                     The monthly payment owed by the borrower if the loan originates.   \n",
       "28           Indicates if income was verified by LC, not verified, or if the income source was verified   \n",
       "29                                                                                                  NaN   \n",
       "30                                                                  The month which the loan was funded   \n",
       "31                                                 The most recent month LC pulled credit for this loan   \n",
       "32                                 The upper boundary range the borrower’s last FICO pulled belongs to.   \n",
       "33                                 The lower boundary range the borrower’s last FICO pulled belongs to.   \n",
       "34                                                                   Last total payment amount received   \n",
       "35                                                                      Last month payment was received   \n",
       "36                                                                      Last month payment was received   \n",
       "37                                                                           Current status of the loan   \n",
       "38                                               Maximum current balance owed on all revolving accounts   \n",
       "39                                                     A unique LC assigned Id for the borrower member.   \n",
       "40                                          The number of months since the borrower's last delinquency.   \n",
       "41                                                      Months since most recent 90-day or worse rating   \n",
       "42                                                   The number of months since the last public record.   \n",
       "43                                                 Months since most recent installment accounts opened   \n",
       "44                                                                          Next scheduled payment date   \n",
       "45                                       The number of open credit lines in the borrower's credit file.   \n",
       "46                                                               Number of open trades in last 6 months   \n",
       "47                                                                                                  NaN   \n",
       "48                                              Number of installment accounts opened in past 24 months   \n",
       "49                                              Number of installment accounts opened in past 12 months   \n",
       "50                                                  Number of revolving trades opened in past 12 months   \n",
       "51                                                  Number of revolving trades opened in past 24 months   \n",
       "52                                              Remaining outstanding principal for total amount funded   \n",
       "53                      Remaining outstanding principal for portion of total amount funded by investors   \n",
       "54                  publicly available policy_code=1\\nnew products not publicly available policy_code=2   \n",
       "55                                                                  Number of derogatory public records   \n",
       "56                                           A category provided by the borrower for the loan request.    \n",
       "57                                       Indicates if a payment plan has been put in place for the loan   \n",
       "58                                       Indicates if a payment plan has been put in place for the loan   \n",
       "59                                                                       Total credit revolving balance   \n",
       "60  Revolving line utilization rate, or the amount of credit the borrower is using relative to all a...   \n",
       "61                                                                            LC assigned loan subgrade   \n",
       "62                 The number of payments on the loan. Values are in months and can be either 36 or 60.   \n",
       "63                                                              The loan title provided by the borrower   \n",
       "64                                                                   Total collection amounts ever owed   \n",
       "65                                                                Total current balance of all accounts   \n",
       "66                             The total number of credit lines currently in the borrower's credit file   \n",
       "67                                                    Total current balance of all installment accounts   \n",
       "68                                                                             Number of finance trades   \n",
       "69                                                    Payments received to date for total amount funded   \n",
       "70                            Payments received to date for portion of total amount funded by investors   \n",
       "71                                                                            Interest received to date   \n",
       "72                                                                           Late fees received to date   \n",
       "73                                                                           Principal received to date   \n",
       "74                                                             Total revolving high credit/credit limit   \n",
       "75                                                               URL for the LC page with listing data.   \n",
       "76  Indicates if the co-borrowers' joint income was verified by LC, not verified, or if the income s...   \n",
       "77                The first 3 numbers of the zip code provided by the borrower in the loan application.   \n",
       "\n",
       "                                                                                             Unnamed: 2  \n",
       "0                           Jumlah total yang dilakukan oleh investor untuk pinjaman itu pada saat itu.  \n",
       "1                                                          Jumlah akun di mana peminjam sekarang nakal.  \n",
       "2                                          Negara yang disediakan oleh peminjam dalam aplikasi pinjaman  \n",
       "3                                                         Saldo ke batas kredit untuk semua perdagangan  \n",
       "4                                                                                                     v  \n",
       "5   Penghasilan tahunan yang dilaporkan sendiri gabungan yang disediakan oleh co-peminjam selama pen...  \n",
       "6                                                                                                   NaN  \n",
       "7                                                               Biaya pengumpulan biaya pengumpulan pos  \n",
       "8                                            Jumlah koleksi dalam 12 bulan tidak termasuk koleksi medis  \n",
       "9       Jumlah 30+ hari insiden kenakalan yang lewat dalam file kredit peminjam selama 2 tahun terakhir  \n",
       "10                                                     Deskripsi pinjaman yang disediakan oleh peminjam  \n",
       "11  Rasio yang dihitung menggunakan total pembayaran bulanan peminjam bersama atas total kewajiban u...  \n",
       "12                                  Bulan jalur kredit yang paling awal yang dilaporkan peminjam dibuka  \n",
       "13  Panjang pekerjaan dalam beberapa tahun. Nilai yang mungkin adalah antara 0 dan 10 di mana 0 bera...  \n",
       "14                             Judul pekerjaan yang disediakan oleh peminjam saat mengajukan pinjaman.*  \n",
       "15  Rasio yang dihitung menggunakan total pembayaran utang bulanan peminjam atas total kewajiban uta...  \n",
       "16                                    Kisaran batas atas fico peminjam dengan pinjaman originasi milik.  \n",
       "17                                   Rentang batas bawah fico peminjam dengan pinjaman originasi milik.  \n",
       "18                                      Jumlah total yang berkomitmen untuk pinjaman itu pada saat itu.  \n",
       "19                                                                         LC menugaskan nilai pinjaman  \n",
       "20  Status kepemilikan rumah yang disediakan oleh peminjam selama pendaftaran. Nilai -nilai kami ada...  \n",
       "21                                               ID yang ditugaskan LC yang unik untuk daftar pinjaman.  \n",
       "22                  Rasio total saldo saat ini dengan batas kredit/kredit tinggi pada semua instal acct  \n",
       "23                            Status daftar awal pinjaman. Nilai yang mungkin adalah - utuh, fraksional  \n",
       "24                                                                   Jumlah pertanyaan keuangan pribadi  \n",
       "25                                                     Jumlah pertanyaan kredit dalam 12 bulan terakhir  \n",
       "26             Jumlah pertanyaan dalam 6 bulan terakhir (tidak termasuk penyelidikan mobil dan hipotek)  \n",
       "27                                Pembayaran bulanan yang terutang oleh peminjam jika pinjaman berasal.  \n",
       "28  Menunjukkan jika pendapatan diverifikasi oleh LC, tidak diverifikasi, atau jika sumber pendapata...  \n",
       "29  Menunjukkan jika pendapatan diverifikasi oleh LC, tidak diverifikasi, atau jika sumber pendapata...  \n",
       "30                                                                          Bulan yang didanai pinjaman  \n",
       "31                                                   Bulan terbaru LC menarik kredit untuk pinjaman ini  \n",
       "32                                         Rentang batas atas yang ditarik oleh fico terakhir peminjam.  \n",
       "33                                       Rentang batas bawah yang dimiliki oleh fico terakhir peminjam.  \n",
       "34                                                       Jumlah total pembayaran terakhir yang diterima  \n",
       "35                                                                       Bulan lalu pembayaran diterima  \n",
       "36                                                                       Bulan lalu pembayaran diterima  \n",
       "37                                                                             Status pinjaman saat ini  \n",
       "38                                                Saldo arus maksimum terutang pada semua akun bergulir  \n",
       "39                                              ID yang ditugaskan LC yang unik untuk anggota peminjam.  \n",
       "40                                                      Jumlah bulan sejak kenakalan terakhir peminjam.  \n",
       "41                                              Bulan sejak peringkat 90 hari atau lebih buruk terakhir  \n",
       "42                                                          Jumlah bulan sejak catatan publik terakhir.  \n",
       "43                                                             Bulan sejak akun angsuran terbaru dibuka  \n",
       "44                                                              Tanggal Pembayaran Terjadwal Berikutnya  \n",
       "45                                              Jumlah jalur kredit terbuka dalam file kredit peminjam.  \n",
       "46                                                    Jumlah perdagangan terbuka dalam 6 bulan terakhir  \n",
       "47                                                    Jumlah perdagangan terbuka dalam 6 bulan terakhir  \n",
       "48                                             Jumlah akun angsuran yang dibuka dalam 24 bulan terakhir  \n",
       "49                                             Jumlah akun angsuran yang dibuka dalam 12 bulan terakhir  \n",
       "50                                          Jumlah Perdagangan Revolving Dibuka dalam 12 Bulan Terakhir  \n",
       "51                                          Jumlah perdagangan revolving dibuka dalam 24 bulan terakhir  \n",
       "52                                          Kepala sekolah yang tersisa untuk jumlah total yang didanai  \n",
       "53              Kepala sekolah yang tersisa untuk sebagian dari jumlah total yang didanai oleh investor  \n",
       "54         Policy_code yang tersedia untuk umum = 1\\nProduk Baru Tidak Tersedia Umum Kebijakan_Code = 2  \n",
       "55                                                                  Jumlah catatan publik yang menghina  \n",
       "56                                    Kategori yang disediakan oleh peminjam untuk permintaan pinjaman.  \n",
       "57                                Menunjukkan jika rencana pembayaran telah diberlakukan untuk pinjaman  \n",
       "58                                Menunjukkan jika rencana pembayaran telah diberlakukan untuk pinjaman  \n",
       "59                                                                         Total Saldo Revolving Credit  \n",
       "60  Tingkat pemanfaatan jalur bergulir, atau jumlah kredit yang digunakan peminjam relatif terhadap ...  \n",
       "61                                                                      LC Ditugaskan Subgrade Pinjaman  \n",
       "62             Jumlah pembayaran atas pinjaman. Nilai dalam beberapa bulan dan dapat berupa 36 atau 60.  \n",
       "63                                                         Judul pinjaman yang disediakan oleh peminjam  \n",
       "64                                                             Total jumlah pengumpulan yang pernah ada  \n",
       "65                                                                 Total Saldo Saat Ini dari Semua Akun  \n",
       "66                                        Jumlah total jalur kredit saat ini dalam file kredit peminjam  \n",
       "67                                                        Total saldo saat ini dari semua akun angsuran  \n",
       "68                                                                          Jumlah Perdagangan Keuangan  \n",
       "69                                  Pembayaran diterima hingga saat ini untuk jumlah total yang didanai  \n",
       "70      Pembayaran diterima hingga saat ini untuk sebagian dari jumlah total yang didanai oleh investor  \n",
       "71                                                                       Bunga diterima hingga saat ini  \n",
       "72                                                    Biaya keterlambatan yang diterima hingga saat ini  \n",
       "73                                                              Kepala sekolah diterima hingga saat ini  \n",
       "74                                                           Total Batas Kredit/Kredit Tinggi Revolving  \n",
       "75                                                             URL untuk halaman LC dengan data daftar.  \n",
       "76  Menunjukkan jika pendapatan bersama co-peminjam diverifikasi oleh LC, tidak diverifikasi, atau j...  \n",
       "77                 3 nomor pertama dari kode pos yang disediakan oleh peminjam dalam aplikasi pinjaman.  "
      ]
     },
     "execution_count": 107,
     "metadata": {},
     "output_type": "execute_result"
    }
   ],
   "source": [
    "pd.set_option('display.max_rows', None)\n",
    "pd.set_option(\"max_colwidth\", 100)\n",
    "fd.head(78)"
   ]
  },
  {
   "cell_type": "code",
   "execution_count": 108,
   "id": "79af9c91-15da-49f6-b139-3f1f1a8c8d80",
   "metadata": {},
   "outputs": [
    {
     "data": {
      "text/plain": [
       "466285"
      ]
     },
     "execution_count": 108,
     "metadata": {},
     "output_type": "execute_result"
    }
   ],
   "source": [
    "df.id.nunique()"
   ]
  },
  {
   "cell_type": "code",
   "execution_count": 109,
   "id": "aeb2b796-ec95-470f-8288-edc2d6decaaa",
   "metadata": {},
   "outputs": [
    {
     "data": {
      "text/plain": [
       "466285"
      ]
     },
     "execution_count": 109,
     "metadata": {},
     "output_type": "execute_result"
    }
   ],
   "source": [
    "df.member_id.nunique()"
   ]
  },
  {
   "cell_type": "markdown",
   "id": "b2d5d1dc-4f0f-40b0-8c16-2c7d5197249d",
   "metadata": {},
   "source": [
    "1 row of data represents 1 borrower."
   ]
  },
  {
   "cell_type": "code",
   "execution_count": 110,
   "id": "1af52253-75fb-4b10-b8ef-26f08c835e92",
   "metadata": {},
   "outputs": [
    {
     "name": "stdout",
     "output_type": "stream",
     "text": [
      "<class 'pandas.core.frame.DataFrame'>\n",
      "RangeIndex: 466285 entries, 0 to 466284\n",
      "Data columns (total 75 columns):\n",
      " #   Column                       Non-Null Count   Dtype  \n",
      "---  ------                       --------------   -----  \n",
      " 0   Unnamed: 0                   466285 non-null  int64  \n",
      " 1   id                           466285 non-null  int64  \n",
      " 2   member_id                    466285 non-null  int64  \n",
      " 3   loan_amnt                    466285 non-null  int64  \n",
      " 4   funded_amnt                  466285 non-null  int64  \n",
      " 5   funded_amnt_inv              466285 non-null  float64\n",
      " 6   term                         466285 non-null  object \n",
      " 7   int_rate                     466285 non-null  float64\n",
      " 8   installment                  466285 non-null  float64\n",
      " 9   grade                        466285 non-null  object \n",
      " 10  sub_grade                    466285 non-null  object \n",
      " 11  emp_title                    438697 non-null  object \n",
      " 12  emp_length                   445277 non-null  object \n",
      " 13  home_ownership               466285 non-null  object \n",
      " 14  annual_inc                   466281 non-null  float64\n",
      " 15  verification_status          466285 non-null  object \n",
      " 16  issue_d                      466285 non-null  object \n",
      " 17  loan_status                  466285 non-null  object \n",
      " 18  pymnt_plan                   466285 non-null  object \n",
      " 19  url                          466285 non-null  object \n",
      " 20  desc                         125981 non-null  object \n",
      " 21  purpose                      466285 non-null  object \n",
      " 22  title                        466264 non-null  object \n",
      " 23  zip_code                     466285 non-null  object \n",
      " 24  addr_state                   466285 non-null  object \n",
      " 25  dti                          466285 non-null  float64\n",
      " 26  delinq_2yrs                  466256 non-null  float64\n",
      " 27  earliest_cr_line             466256 non-null  object \n",
      " 28  inq_last_6mths               466256 non-null  float64\n",
      " 29  mths_since_last_delinq       215934 non-null  float64\n",
      " 30  mths_since_last_record       62638 non-null   float64\n",
      " 31  open_acc                     466256 non-null  float64\n",
      " 32  pub_rec                      466256 non-null  float64\n",
      " 33  revol_bal                    466285 non-null  int64  \n",
      " 34  revol_util                   465945 non-null  float64\n",
      " 35  total_acc                    466256 non-null  float64\n",
      " 36  initial_list_status          466285 non-null  object \n",
      " 37  out_prncp                    466285 non-null  float64\n",
      " 38  out_prncp_inv                466285 non-null  float64\n",
      " 39  total_pymnt                  466285 non-null  float64\n",
      " 40  total_pymnt_inv              466285 non-null  float64\n",
      " 41  total_rec_prncp              466285 non-null  float64\n",
      " 42  total_rec_int                466285 non-null  float64\n",
      " 43  total_rec_late_fee           466285 non-null  float64\n",
      " 44  recoveries                   466285 non-null  float64\n",
      " 45  collection_recovery_fee      466285 non-null  float64\n",
      " 46  last_pymnt_d                 465909 non-null  object \n",
      " 47  last_pymnt_amnt              466285 non-null  float64\n",
      " 48  next_pymnt_d                 239071 non-null  object \n",
      " 49  last_credit_pull_d           466243 non-null  object \n",
      " 50  collections_12_mths_ex_med   466140 non-null  float64\n",
      " 51  mths_since_last_major_derog  98974 non-null   float64\n",
      " 52  policy_code                  466285 non-null  int64  \n",
      " 53  application_type             466285 non-null  object \n",
      " 54  annual_inc_joint             0 non-null       float64\n",
      " 55  dti_joint                    0 non-null       float64\n",
      " 56  verification_status_joint    0 non-null       float64\n",
      " 57  acc_now_delinq               466256 non-null  float64\n",
      " 58  tot_coll_amt                 396009 non-null  float64\n",
      " 59  tot_cur_bal                  396009 non-null  float64\n",
      " 60  open_acc_6m                  0 non-null       float64\n",
      " 61  open_il_6m                   0 non-null       float64\n",
      " 62  open_il_12m                  0 non-null       float64\n",
      " 63  open_il_24m                  0 non-null       float64\n",
      " 64  mths_since_rcnt_il           0 non-null       float64\n",
      " 65  total_bal_il                 0 non-null       float64\n",
      " 66  il_util                      0 non-null       float64\n",
      " 67  open_rv_12m                  0 non-null       float64\n",
      " 68  open_rv_24m                  0 non-null       float64\n",
      " 69  max_bal_bc                   0 non-null       float64\n",
      " 70  all_util                     0 non-null       float64\n",
      " 71  total_rev_hi_lim             396009 non-null  float64\n",
      " 72  inq_fi                       0 non-null       float64\n",
      " 73  total_cu_tl                  0 non-null       float64\n",
      " 74  inq_last_12m                 0 non-null       float64\n",
      "dtypes: float64(46), int64(7), object(22)\n",
      "memory usage: 266.8+ MB\n"
     ]
    }
   ],
   "source": [
    "# check data type\n",
    "df.info()"
   ]
  },
  {
   "cell_type": "code",
   "execution_count": 111,
   "id": "00de0ba5-6ab3-4652-9f5f-b06c63a52408",
   "metadata": {},
   "outputs": [
    {
     "data": {
      "text/plain": [
       "0"
      ]
     },
     "execution_count": 111,
     "metadata": {},
     "output_type": "execute_result"
    }
   ],
   "source": [
    "# check duplicate rows\n",
    "df.duplicated().sum()"
   ]
  },
  {
   "cell_type": "code",
   "execution_count": 112,
   "id": "b90b942f-ea75-42f3-8ace-5eb9022f1832",
   "metadata": {},
   "outputs": [
    {
     "data": {
      "text/plain": [
       "Unnamed: 0                          0\n",
       "id                                  0\n",
       "member_id                           0\n",
       "loan_amnt                           0\n",
       "funded_amnt                         0\n",
       "funded_amnt_inv                     0\n",
       "term                                0\n",
       "int_rate                            0\n",
       "installment                         0\n",
       "grade                               0\n",
       "sub_grade                           0\n",
       "emp_title                       27588\n",
       "emp_length                      21008\n",
       "home_ownership                      0\n",
       "annual_inc                          4\n",
       "verification_status                 0\n",
       "issue_d                             0\n",
       "loan_status                         0\n",
       "pymnt_plan                          0\n",
       "url                                 0\n",
       "desc                           340304\n",
       "purpose                             0\n",
       "title                              21\n",
       "zip_code                            0\n",
       "addr_state                          0\n",
       "dti                                 0\n",
       "delinq_2yrs                        29\n",
       "earliest_cr_line                   29\n",
       "inq_last_6mths                     29\n",
       "mths_since_last_delinq         250351\n",
       "mths_since_last_record         403647\n",
       "open_acc                           29\n",
       "pub_rec                            29\n",
       "revol_bal                           0\n",
       "revol_util                        340\n",
       "total_acc                          29\n",
       "initial_list_status                 0\n",
       "out_prncp                           0\n",
       "out_prncp_inv                       0\n",
       "total_pymnt                         0\n",
       "total_pymnt_inv                     0\n",
       "total_rec_prncp                     0\n",
       "total_rec_int                       0\n",
       "total_rec_late_fee                  0\n",
       "recoveries                          0\n",
       "collection_recovery_fee             0\n",
       "last_pymnt_d                      376\n",
       "last_pymnt_amnt                     0\n",
       "next_pymnt_d                   227214\n",
       "last_credit_pull_d                 42\n",
       "collections_12_mths_ex_med        145\n",
       "mths_since_last_major_derog    367311\n",
       "policy_code                         0\n",
       "application_type                    0\n",
       "annual_inc_joint               466285\n",
       "dti_joint                      466285\n",
       "verification_status_joint      466285\n",
       "acc_now_delinq                     29\n",
       "tot_coll_amt                    70276\n",
       "tot_cur_bal                     70276\n",
       "open_acc_6m                    466285\n",
       "open_il_6m                     466285\n",
       "open_il_12m                    466285\n",
       "open_il_24m                    466285\n",
       "mths_since_rcnt_il             466285\n",
       "total_bal_il                   466285\n",
       "il_util                        466285\n",
       "open_rv_12m                    466285\n",
       "open_rv_24m                    466285\n",
       "max_bal_bc                     466285\n",
       "all_util                       466285\n",
       "total_rev_hi_lim                70276\n",
       "inq_fi                         466285\n",
       "total_cu_tl                    466285\n",
       "inq_last_12m                   466285\n",
       "dtype: int64"
      ]
     },
     "execution_count": 112,
     "metadata": {},
     "output_type": "execute_result"
    }
   ],
   "source": [
    "# check missing values\n",
    "df.isnull().sum()"
   ]
  },
  {
   "cell_type": "code",
   "execution_count": 113,
   "id": "d6f7a3f0-7f63-42d0-8885-5b52c43e7131",
   "metadata": {},
   "outputs": [
    {
     "data": {
      "text/plain": [
       "array(['Dec-11', 'Nov-11', 'Oct-11', 'Sep-11', 'Aug-11', 'Jul-11',\n",
       "       'Jun-11', 'May-11', 'Apr-11', 'Mar-11', 'Feb-11', 'Jan-11',\n",
       "       'Dec-10', 'Nov-10', 'Oct-10', 'Sep-10', 'Aug-10', 'Jul-10',\n",
       "       'Jun-10', 'May-10', 'Apr-10', 'Mar-10', 'Feb-10', 'Jan-10',\n",
       "       'Dec-09', 'Nov-09', 'Oct-09', 'Sep-09', 'Aug-09', 'Jul-09',\n",
       "       'Jun-09', 'May-09', 'Apr-09', 'Mar-09', 'Feb-09', 'Jan-09',\n",
       "       'Dec-08', 'Nov-08', 'Oct-08', 'Sep-08', 'Aug-08', 'Jul-08',\n",
       "       'Jun-08', 'May-08', 'Apr-08', 'Mar-08', 'Feb-08', 'Jan-08',\n",
       "       'Dec-07', 'Nov-07', 'Oct-07', 'Sep-07', 'Aug-07', 'Jul-07',\n",
       "       'Jun-07', 'Dec-13', 'Nov-13', 'Oct-13', 'Sep-13', 'Aug-13',\n",
       "       'Jul-13', 'Jun-13', 'May-13', 'Apr-13', 'Mar-13', 'Feb-13',\n",
       "       'Jan-13', 'Dec-12', 'Nov-12', 'Oct-12', 'Sep-12', 'Aug-12',\n",
       "       'Jul-12', 'Jun-12', 'May-12', 'Apr-12', 'Mar-12', 'Feb-12',\n",
       "       'Jan-12', 'Dec-14', 'Nov-14', 'Oct-14', 'Sep-14', 'Aug-14',\n",
       "       'Jul-14', 'Jun-14', 'May-14', 'Apr-14', 'Mar-14', 'Feb-14',\n",
       "       'Jan-14'], dtype=object)"
      ]
     },
     "execution_count": 113,
     "metadata": {},
     "output_type": "execute_result"
    }
   ],
   "source": [
    "df['issue_d'].unique()"
   ]
  },
  {
   "cell_type": "code",
   "execution_count": 114,
   "id": "2e1d380b-76cd-43e2-aff3-e0a271e3cb8b",
   "metadata": {},
   "outputs": [
    {
     "data": {
      "text/plain": [
       "array(['Fully Paid', 'Charged Off', 'Current', 'Default',\n",
       "       'Late (31-120 days)', 'In Grace Period', 'Late (16-30 days)',\n",
       "       'Does not meet the credit policy. Status:Fully Paid',\n",
       "       'Does not meet the credit policy. Status:Charged Off'],\n",
       "      dtype=object)"
      ]
     },
     "execution_count": 114,
     "metadata": {},
     "output_type": "execute_result"
    }
   ],
   "source": [
    "df['loan_status'].unique()"
   ]
  },
  {
   "cell_type": "code",
   "execution_count": 115,
   "id": "0c1ad9fb-efae-433e-a063-3236379902b8",
   "metadata": {},
   "outputs": [
    {
     "data": {
      "text/plain": [
       "array(['n', 'y'], dtype=object)"
      ]
     },
     "execution_count": 115,
     "metadata": {},
     "output_type": "execute_result"
    }
   ],
   "source": [
    "df['pymnt_plan'].unique()"
   ]
  },
  {
   "cell_type": "code",
   "execution_count": 116,
   "id": "005865e7-691f-42d7-ab25-80a5fbe11846",
   "metadata": {},
   "outputs": [
    {
     "data": {
      "text/plain": [
       "array(['credit_card', 'car', 'small_business', 'other', 'wedding',\n",
       "       'debt_consolidation', 'home_improvement', 'major_purchase',\n",
       "       'medical', 'moving', 'vacation', 'house', 'renewable_energy',\n",
       "       'educational'], dtype=object)"
      ]
     },
     "execution_count": 116,
     "metadata": {},
     "output_type": "execute_result"
    }
   ],
   "source": [
    "df['purpose'].unique()"
   ]
  },
  {
   "cell_type": "code",
   "execution_count": 117,
   "id": "349791f6-2fd7-475f-b334-e5ddc3702dbf",
   "metadata": {},
   "outputs": [
    {
     "data": {
      "text/plain": [
       "array(['Jan-15', 'Apr-13', 'Jun-14', 'Jan-16', 'Apr-12', 'Nov-12',\n",
       "       'Jun-13', 'Sep-13', 'Jul-12', 'Oct-13', 'May-13', 'Feb-15',\n",
       "       'Aug-15', 'Oct-12', 'Sep-12', nan, 'Dec-12', 'Dec-14', 'Aug-13',\n",
       "       'Nov-13', 'Jan-14', 'Apr-14', 'Aug-14', 'Oct-14', 'Aug-12',\n",
       "       'Jul-14', 'Jul-13', 'Apr-15', 'Feb-14', 'Sep-14', 'Jun-12',\n",
       "       'Feb-13', 'Mar-13', 'May-14', 'Mar-15', 'Jan-13', 'Dec-13',\n",
       "       'Feb-12', 'Mar-14', 'Sep-15', 'Nov-15', 'Dec-15', 'Jan-12',\n",
       "       'Oct-15', 'Nov-14', 'Mar-12', 'May-12', 'Jun-15', 'May-15',\n",
       "       'Jul-15', 'Dec-11', 'Nov-11', 'Oct-11', 'Sep-11', 'Aug-11',\n",
       "       'Jul-11', 'Jun-11', 'May-11', 'Apr-11', 'Mar-11', 'Feb-11',\n",
       "       'Jan-11', 'Dec-10', 'Nov-10', 'Oct-10', 'Sep-10', 'Aug-10',\n",
       "       'Jul-10', 'Jun-10', 'May-10', 'Apr-10', 'Mar-10', 'Feb-10',\n",
       "       'Jan-10', 'Dec-09', 'Nov-09', 'Oct-09', 'Sep-09', 'Aug-09',\n",
       "       'Jul-09', 'Jun-09', 'May-09', 'Apr-09', 'Mar-09', 'Feb-09',\n",
       "       'Jan-09', 'Dec-08', 'Oct-08', 'Aug-08', 'Jul-08', 'Sep-08',\n",
       "       'Jun-08', 'May-08', 'Nov-08', 'Apr-08', 'Mar-08', 'Feb-08',\n",
       "       'Jan-08', 'Dec-07'], dtype=object)"
      ]
     },
     "execution_count": 117,
     "metadata": {},
     "output_type": "execute_result"
    }
   ],
   "source": [
    "df['last_pymnt_d'].unique()"
   ]
  },
  {
   "cell_type": "code",
   "execution_count": 118,
   "id": "0cd04072-8042-4c9d-a401-db288ab43ad8",
   "metadata": {},
   "outputs": [
    {
     "data": {
      "text/plain": [
       "array(['Jan-16', 'Sep-13', 'Jan-15', 'Sep-15', 'Dec-14', 'Aug-12',\n",
       "       'Mar-13', 'Dec-15', 'Aug-13', 'Nov-12', 'Mar-14', 'Apr-15',\n",
       "       'May-14', 'Jul-15', 'Jul-12', 'Sep-12', 'May-13', 'Oct-15',\n",
       "       'Jun-12', 'Mar-15', 'Dec-12', 'Jul-14', 'Sep-14', 'Feb-14',\n",
       "       'Jun-15', 'Oct-13', 'Apr-14', 'Oct-14', 'Feb-13', 'Nov-15',\n",
       "       'Oct-12', 'Nov-13', 'Nov-14', 'Feb-12', 'Apr-12', 'Aug-15',\n",
       "       'Jun-14', 'Jan-12', 'Aug-14', 'Jun-13', 'Dec-13', 'May-12',\n",
       "       'Jan-14', 'Jul-13', 'Apr-13', 'May-15', 'Feb-15', 'Mar-12',\n",
       "       'Nov-11', 'Dec-11', 'Jan-13', 'Oct-11', 'Sep-11', 'Aug-11',\n",
       "       'Jul-11', 'Jun-11', 'May-11', 'Apr-11', 'Mar-11', 'Feb-11',\n",
       "       'Jan-11', 'Dec-10', 'Nov-10', 'Oct-10', nan, 'Sep-10', 'Aug-10',\n",
       "       'Jul-10', 'Jun-10', 'May-10', 'Apr-10', 'Feb-10', 'Mar-10',\n",
       "       'Aug-07', 'Jan-10', 'Dec-09', 'Nov-09', 'Oct-09', 'Sep-09',\n",
       "       'Jul-09', 'Aug-09', 'Jun-09', 'May-09', 'Apr-09', 'Mar-09',\n",
       "       'Feb-09', 'Jan-09', 'Dec-08', 'Jun-08', 'Sep-08', 'May-08',\n",
       "       'Aug-08', 'Mar-08', 'Oct-08', 'Feb-08', 'Jan-08', 'Dec-07',\n",
       "       'Jul-08', 'Oct-07', 'Sep-07', 'Jun-07', 'May-07', 'Jul-07',\n",
       "       'Nov-07'], dtype=object)"
      ]
     },
     "execution_count": 118,
     "metadata": {},
     "output_type": "execute_result"
    }
   ],
   "source": [
    "df['last_credit_pull_d'].unique()"
   ]
  },
  {
   "cell_type": "code",
   "execution_count": 119,
   "id": "f03ef78b-7f48-49a4-8835-b336eabf579b",
   "metadata": {},
   "outputs": [
    {
     "data": {
      "text/plain": [
       "array(['B', 'C', 'A', 'E', 'F', 'D', 'G'], dtype=object)"
      ]
     },
     "execution_count": 119,
     "metadata": {},
     "output_type": "execute_result"
    }
   ],
   "source": [
    "df['grade'].unique()"
   ]
  },
  {
   "cell_type": "code",
   "execution_count": 120,
   "id": "66338945-d474-40f8-bb3d-b07b9f378c0a",
   "metadata": {},
   "outputs": [
    {
     "data": {
      "text/plain": [
       "array(['f', 'w'], dtype=object)"
      ]
     },
     "execution_count": 120,
     "metadata": {},
     "output_type": "execute_result"
    }
   ],
   "source": [
    "df['initial_list_status'].unique()"
   ]
  },
  {
   "cell_type": "code",
   "execution_count": 121,
   "id": "71adb051-1327-4272-8c01-b35db54d91da",
   "metadata": {},
   "outputs": [
    {
     "data": {
      "text/plain": [
       "array(['INDIVIDUAL'], dtype=object)"
      ]
     },
     "execution_count": 121,
     "metadata": {},
     "output_type": "execute_result"
    }
   ],
   "source": [
    "df['application_type'].unique()"
   ]
  },
  {
   "cell_type": "code",
   "execution_count": 122,
   "id": "ba7306a9-411a-472a-8f09-ce6881855d7f",
   "metadata": {},
   "outputs": [
    {
     "data": {
      "text/plain": [
       "array(['Verified', 'Source Verified', 'Not Verified'], dtype=object)"
      ]
     },
     "execution_count": 122,
     "metadata": {},
     "output_type": "execute_result"
    }
   ],
   "source": [
    "df['verification_status'].unique()"
   ]
  },
  {
   "cell_type": "code",
   "execution_count": 123,
   "id": "ec916caa-feea-4a2b-b5c4-a1091364e3fb",
   "metadata": {},
   "outputs": [
    {
     "data": {
      "text/plain": [
       "array(['RENT', 'OWN', 'MORTGAGE', 'OTHER', 'NONE', 'ANY'], dtype=object)"
      ]
     },
     "execution_count": 123,
     "metadata": {},
     "output_type": "execute_result"
    }
   ],
   "source": [
    "df['home_ownership'].unique()"
   ]
  },
  {
   "cell_type": "code",
   "execution_count": 124,
   "id": "1619f3bf-1390-4322-b73c-e31b1ab0d322",
   "metadata": {},
   "outputs": [
    {
     "data": {
      "text/plain": [
       "array([' 36 months', ' 60 months'], dtype=object)"
      ]
     },
     "execution_count": 124,
     "metadata": {},
     "output_type": "execute_result"
    }
   ],
   "source": [
    "df['term'].unique()"
   ]
  },
  {
   "cell_type": "code",
   "execution_count": 125,
   "id": "a7a4d915-88d0-441b-9f8c-c8332f28f130",
   "metadata": {},
   "outputs": [
    {
     "data": {
      "text/plain": [
       "array(['10+ years', '< 1 year', '1 year', '3 years', '8 years', '9 years',\n",
       "       '4 years', '5 years', '6 years', '2 years', '7 years', nan],\n",
       "      dtype=object)"
      ]
     },
     "execution_count": 125,
     "metadata": {},
     "output_type": "execute_result"
    }
   ],
   "source": [
    "df['emp_length'].unique()"
   ]
  },
  {
   "cell_type": "markdown",
   "id": "b8a07888-c9c4-4ec9-9691-991e03160638",
   "metadata": {},
   "source": [
    "**Drop columns**\n",
    "\n",
    "More than 70% missing values: mths_since_last_record, mths_since_last_major_derog, annual_inc_joint, dti_joint, verification_status_joint, open_acc_6m, open_il_6m, open_il_12m, open_il_24m, mths_since_rcnt_il, total_bal_il, il_util, open_rv_12m, open_rv_24m, max_bal_bc, all_util, inq_fi, total_cu_tl, inq_last_12m, mths_since_last_delinq.\n",
    "\n",
    "Identifiers: Unnamed: 0, member id, url, title, desc, zip_code, emp_title, addr_state, and policy_code.\n",
    "\n",
    "Drop sub_grad as it is similar as the grade column.\n",
    "\n",
    "Drop dti_joint because it is similar to dti.\n",
    "\n",
    "Drop out_prncp_inv because it is similar to out_prncp.\n",
    "\n",
    "Drop total_pymnt_inv because it is similar to total_pymnt.\n",
    "\n",
    "Drop funded_amnt_inv because it is similar to funded_amnt\n",
    "\n",
    "Drop features that contain information about the outcome: next_pymnt, recoveries.\n",
    "\n",
    "Drop application_type because only 1 unique value.\n",
    "\n",
    "Columns that are not relevant to predicting bad borrowers: collection_recovery_fee, pymnt_plan (there is no description for this column)\n",
    "\n",
    "For now, column id will not be erased in case groupby id is needed later."
   ]
  },
  {
   "cell_type": "code",
   "execution_count": 126,
   "id": "2cf5259d-0d1c-4de5-b5cb-264450877a8d",
   "metadata": {},
   "outputs": [],
   "source": [
    "# drop unneeded columns\n",
    "df.drop(['mths_since_last_record', 'mths_since_last_major_derog', 'annual_inc_joint',\n",
    "         'dti_joint', 'verification_status_joint', 'open_acc_6m', 'open_il_6m', 'open_il_12m', 'open_il_24m', \n",
    "         'mths_since_rcnt_il', 'total_bal_il', 'il_util', 'open_rv_12m', 'open_rv_24m', \n",
    "         'max_bal_bc', 'all_util', 'inq_fi', 'total_cu_tl', 'inq_last_12m', 'mths_since_last_delinq', \n",
    "         'Unnamed: 0', 'id', 'member_id', 'url', 'title', 'desc', 'zip_code', 'emp_title', 'addr_state', 'policy_code', \n",
    "         'sub_grade', 'dti_joint', 'out_prncp_inv', 'total_pymnt_inv', 'funded_amnt_inv', \n",
    "         'next_pymnt_d', 'recoveries', 'application_type',\n",
    "         'collection_recovery_fee', 'pymnt_plan'], axis=1, inplace=True)"
   ]
  },
  {
   "cell_type": "markdown",
   "id": "e4d896f9-b67f-4227-b527-2373c91956f4",
   "metadata": {},
   "source": [
    "# Defining Label"
   ]
  },
  {
   "cell_type": "code",
   "execution_count": 127,
   "id": "b698014c-7db0-48bf-b69e-b7d180019ca2",
   "metadata": {},
   "outputs": [
    {
     "data": {
      "text/plain": [
       "loan_status\n",
       "Current                                                224226\n",
       "Fully Paid                                             184739\n",
       "Charged Off                                             42475\n",
       "Late (31-120 days)                                       6900\n",
       "In Grace Period                                          3146\n",
       "Does not meet the credit policy. Status:Fully Paid       1988\n",
       "Late (16-30 days)                                        1218\n",
       "Default                                                   832\n",
       "Does not meet the credit policy. Status:Charged Off       761\n",
       "Name: count, dtype: int64"
      ]
     },
     "execution_count": 127,
     "metadata": {},
     "output_type": "execute_result"
    }
   ],
   "source": [
    "df.loan_status.value_counts()"
   ]
  },
  {
   "cell_type": "markdown",
   "id": "d6ab2315-e56f-48d1-92f5-304db41ae73d",
   "metadata": {},
   "source": [
    "We define a \"bad\" borrower as a member that is: Charged Off, Late (31-120 days), Default, or Does not meet the credit policy. Status:Charged Off"
   ]
  },
  {
   "cell_type": "code",
   "execution_count": 128,
   "id": "561f1ca1-2bb1-4e86-9d0f-0cc808697b82",
   "metadata": {},
   "outputs": [],
   "source": [
    "# create new column as target\n",
    "df['bad'] = np.where(df['loan_status'].isin(['Charged Off', 'Late (31-120 days)',\n",
    "                                                     'Default',\n",
    "                                                      'Does not meet the credit policy. Status:Charged Off']),\n",
    "                              1, 0)"
   ]
  },
  {
   "cell_type": "code",
   "execution_count": 129,
   "id": "dba79de3-ff8d-4ecb-ba78-c160c02b8c6d",
   "metadata": {},
   "outputs": [],
   "source": [
    "# drop loan_status\n",
    "df.drop(['loan_status'], axis=1, inplace=True)"
   ]
  },
  {
   "cell_type": "code",
   "execution_count": 130,
   "id": "00995721-b870-4e8c-a07a-75a35fe505f2",
   "metadata": {},
   "outputs": [
    {
     "data": {
      "text/plain": [
       "bad\n",
       "0    89.069346\n",
       "1    10.930654\n",
       "Name: proportion, dtype: float64"
      ]
     },
     "execution_count": 130,
     "metadata": {},
     "output_type": "execute_result"
    }
   ],
   "source": [
    "df['bad'].value_counts(normalize=True)*100"
   ]
  },
  {
   "cell_type": "markdown",
   "id": "710b61ea-99e0-4908-b6da-bbdccf6d90dd",
   "metadata": {},
   "source": [
    "After labeling as bad/good loan, the number of people who have bad loan is much smaller than people with good loan -> imbalanced dataset. Later we will address this imbalance by oversampling (SMOTE)."
   ]
  },
  {
   "cell_type": "markdown",
   "id": "399627ee-3eaf-48e1-9112-f01afe8e8985",
   "metadata": {},
   "source": [
    "# Data Preprocessing"
   ]
  },
  {
   "cell_type": "code",
   "execution_count": 131,
   "id": "a5f3655f-e666-4945-81b6-b07b67d4571b",
   "metadata": {},
   "outputs": [],
   "source": [
    "df1 = df.copy()"
   ]
  },
  {
   "cell_type": "code",
   "execution_count": 132,
   "id": "61dcd1a4-5c54-40e8-8111-bd272e777639",
   "metadata": {},
   "outputs": [
    {
     "data": {
      "text/plain": [
       "loan_amnt                         0\n",
       "funded_amnt                       0\n",
       "term                              0\n",
       "int_rate                          0\n",
       "installment                       0\n",
       "grade                             0\n",
       "emp_length                    21008\n",
       "home_ownership                    0\n",
       "annual_inc                        4\n",
       "verification_status               0\n",
       "issue_d                           0\n",
       "purpose                           0\n",
       "dti                               0\n",
       "delinq_2yrs                      29\n",
       "earliest_cr_line                 29\n",
       "inq_last_6mths                   29\n",
       "open_acc                         29\n",
       "pub_rec                          29\n",
       "revol_bal                         0\n",
       "revol_util                      340\n",
       "total_acc                        29\n",
       "initial_list_status               0\n",
       "out_prncp                         0\n",
       "total_pymnt                       0\n",
       "total_rec_prncp                   0\n",
       "total_rec_int                     0\n",
       "total_rec_late_fee                0\n",
       "last_pymnt_d                    376\n",
       "last_pymnt_amnt                   0\n",
       "last_credit_pull_d               42\n",
       "collections_12_mths_ex_med      145\n",
       "acc_now_delinq                   29\n",
       "tot_coll_amt                  70276\n",
       "tot_cur_bal                   70276\n",
       "total_rev_hi_lim              70276\n",
       "bad                               0\n",
       "dtype: int64"
      ]
     },
     "execution_count": 132,
     "metadata": {},
     "output_type": "execute_result"
    }
   ],
   "source": [
    "# check missing values\n",
    "df1.isnull().sum()"
   ]
  },
  {
   "cell_type": "markdown",
   "id": "c5411dac-5fe2-4033-8db1-392fb3b785bc",
   "metadata": {},
   "source": [
    "### emp_length"
   ]
  },
  {
   "cell_type": "code",
   "execution_count": 133,
   "id": "7852d551-e83f-4adb-ac0e-8a8644d8c7c1",
   "metadata": {},
   "outputs": [],
   "source": [
    "df1['emp_length'] = df1['emp_length'].str.replace('10+ years', '10')\n",
    "df1['emp_length'] = df1['emp_length'].str.replace('< 1 year', '0.5')\n",
    "df1['emp_length'] = df1['emp_length'].str.replace(' years', '')\n",
    "df1['emp_length'] = df1['emp_length'].str.replace(' year', '')"
   ]
  },
  {
   "cell_type": "code",
   "execution_count": 134,
   "id": "ae5a235d-397c-466e-8420-220e52f370f0",
   "metadata": {},
   "outputs": [],
   "source": [
    "df1['emp_length'] = df1['emp_length'].str.replace('10+', '10')"
   ]
  },
  {
   "cell_type": "code",
   "execution_count": 135,
   "id": "af12a650-fc01-4e1f-bdba-9c36cb9f3eff",
   "metadata": {},
   "outputs": [
    {
     "data": {
      "text/plain": [
       "array(['10', '0.5', '1', '3', '8', '9', '4', '5', '6', '2', '7', nan],\n",
       "      dtype=object)"
      ]
     },
     "execution_count": 135,
     "metadata": {},
     "output_type": "execute_result"
    }
   ],
   "source": [
    "df1['emp_length'].unique()"
   ]
  },
  {
   "cell_type": "code",
   "execution_count": 136,
   "id": "fd83ee37-f09f-406e-83c7-e3d845974287",
   "metadata": {},
   "outputs": [],
   "source": [
    "df1['emp_length'] = pd.to_numeric(df1['emp_length'])"
   ]
  },
  {
   "cell_type": "code",
   "execution_count": 137,
   "id": "e4de9649-764c-4550-af0b-5722bdf9cd84",
   "metadata": {},
   "outputs": [],
   "source": [
    "# impute emp_length with 0\n",
    "df1['emp_length'].fillna(value = 0, inplace = True)"
   ]
  },
  {
   "cell_type": "code",
   "execution_count": 138,
   "id": "4603bcf8-9a5e-492e-9632-7a8b39395cff",
   "metadata": {},
   "outputs": [
    {
     "data": {
      "text/plain": [
       "array([10. ,  0.5,  1. ,  3. ,  8. ,  9. ,  4. ,  5. ,  6. ,  2. ,  7. ,\n",
       "        0. ])"
      ]
     },
     "execution_count": 138,
     "metadata": {},
     "output_type": "execute_result"
    }
   ],
   "source": [
    "df1['emp_length'].unique()"
   ]
  },
  {
   "cell_type": "code",
   "execution_count": 139,
   "id": "ef3e9883-9a15-47f0-bfb0-7055260d09cb",
   "metadata": {},
   "outputs": [],
   "source": [
    "df1['earliest_cr_line'] = df1['earliest_cr_line'].fillna(df1['earliest_cr_line'].mode()[0])"
   ]
  },
  {
   "cell_type": "code",
   "execution_count": 140,
   "id": "815e9122-60eb-4422-a786-910cd4ea33ec",
   "metadata": {},
   "outputs": [
    {
     "data": {
      "text/plain": [
       "0"
      ]
     },
     "execution_count": 140,
     "metadata": {},
     "output_type": "execute_result"
    }
   ],
   "source": [
    "df1['earliest_cr_line'].isnull().sum()"
   ]
  },
  {
   "cell_type": "code",
   "execution_count": 141,
   "id": "fd3a417e-831d-4b67-af54-e4fe45a92299",
   "metadata": {},
   "outputs": [],
   "source": [
    "df1['last_pymnt_d'] = df1['last_pymnt_d'].fillna(df1['last_pymnt_d'].mode()[0])"
   ]
  },
  {
   "cell_type": "code",
   "execution_count": 142,
   "id": "08d19213-7a3a-4c36-b9a6-5b6e89a33ec4",
   "metadata": {},
   "outputs": [
    {
     "data": {
      "text/plain": [
       "0"
      ]
     },
     "execution_count": 142,
     "metadata": {},
     "output_type": "execute_result"
    }
   ],
   "source": [
    "df1['last_pymnt_d'].isnull().sum()"
   ]
  },
  {
   "cell_type": "code",
   "execution_count": 143,
   "id": "fd638504-8423-4829-b5d3-62db06034628",
   "metadata": {},
   "outputs": [],
   "source": [
    "df1['last_credit_pull_d'] = df1['last_credit_pull_d'].fillna(df1['last_credit_pull_d'].mode()[0])"
   ]
  },
  {
   "cell_type": "code",
   "execution_count": 144,
   "id": "ee572c2e-38d1-4802-b35f-8c846f5aa5c2",
   "metadata": {},
   "outputs": [
    {
     "data": {
      "text/plain": [
       "0"
      ]
     },
     "execution_count": 144,
     "metadata": {},
     "output_type": "execute_result"
    }
   ],
   "source": [
    "df1['last_credit_pull_d'].isnull().sum()"
   ]
  },
  {
   "cell_type": "code",
   "execution_count": 145,
   "id": "ee072cf8-e2cc-42ff-ba61-1ce540e39272",
   "metadata": {},
   "outputs": [],
   "source": [
    "df1['annual_inc'] = df1['annual_inc'].fillna(df1['annual_inc'].median())"
   ]
  },
  {
   "cell_type": "code",
   "execution_count": 146,
   "id": "aad02d9e-f637-471a-8ae0-2a78c6ae5949",
   "metadata": {},
   "outputs": [
    {
     "data": {
      "text/plain": [
       "0"
      ]
     },
     "execution_count": 146,
     "metadata": {},
     "output_type": "execute_result"
    }
   ],
   "source": [
    "df1['annual_inc'].isnull().sum()"
   ]
  },
  {
   "cell_type": "code",
   "execution_count": 147,
   "id": "77102a5d-3f6f-49d5-a38b-92e0a068e332",
   "metadata": {},
   "outputs": [],
   "source": [
    "df1['delinq_2yrs'].fillna(0, inplace = True)"
   ]
  },
  {
   "cell_type": "code",
   "execution_count": 148,
   "id": "a7e5170a-f53a-4994-8f84-f252a81fb00a",
   "metadata": {},
   "outputs": [
    {
     "data": {
      "text/plain": [
       "0"
      ]
     },
     "execution_count": 148,
     "metadata": {},
     "output_type": "execute_result"
    }
   ],
   "source": [
    "df1['delinq_2yrs'].isnull().sum()"
   ]
  },
  {
   "cell_type": "code",
   "execution_count": 149,
   "id": "071cd55b-1fb4-4981-9c44-25982a526d86",
   "metadata": {},
   "outputs": [],
   "source": [
    "# inq_last_6mths\n",
    "df1['inq_last_6mths'].fillna(0, inplace = True)"
   ]
  },
  {
   "cell_type": "code",
   "execution_count": 150,
   "id": "9534e2d5-99a3-4384-af1f-1d97f19eae68",
   "metadata": {},
   "outputs": [
    {
     "data": {
      "text/plain": [
       "0"
      ]
     },
     "execution_count": 150,
     "metadata": {},
     "output_type": "execute_result"
    }
   ],
   "source": [
    "df1['inq_last_6mths'].isnull().sum()"
   ]
  },
  {
   "cell_type": "code",
   "execution_count": 151,
   "id": "68c0d69d-b468-432f-b76b-fb065eaa764c",
   "metadata": {},
   "outputs": [],
   "source": [
    "# open_acc\n",
    "df1['open_acc'].fillna(0, inplace = True)"
   ]
  },
  {
   "cell_type": "code",
   "execution_count": 152,
   "id": "93a4b05b-8e44-49a4-a474-536b86b0acef",
   "metadata": {},
   "outputs": [
    {
     "data": {
      "text/plain": [
       "0"
      ]
     },
     "execution_count": 152,
     "metadata": {},
     "output_type": "execute_result"
    }
   ],
   "source": [
    "df1['open_acc'].isnull().sum()"
   ]
  },
  {
   "cell_type": "code",
   "execution_count": 153,
   "id": "adab7b23-c8a4-4c25-acf9-7f3842b0bfe2",
   "metadata": {},
   "outputs": [],
   "source": [
    "# pub_rec\n",
    "df1['pub_rec'].fillna(0, inplace = True)"
   ]
  },
  {
   "cell_type": "code",
   "execution_count": 154,
   "id": "3c8f26fb-0323-4f45-9bc0-25409f15041b",
   "metadata": {},
   "outputs": [
    {
     "data": {
      "text/plain": [
       "0"
      ]
     },
     "execution_count": 154,
     "metadata": {},
     "output_type": "execute_result"
    }
   ],
   "source": [
    "df1['pub_rec'].isnull().sum()"
   ]
  },
  {
   "cell_type": "code",
   "execution_count": 155,
   "id": "fee4002f-ca8b-4a6e-a74d-a1b9dc634f2e",
   "metadata": {},
   "outputs": [],
   "source": [
    "# revol_util \n",
    "df1['revol_util'] = df1['revol_util'].fillna(df1['revol_util'].median())"
   ]
  },
  {
   "cell_type": "code",
   "execution_count": 156,
   "id": "2960e9dd-2ee0-4dd5-893d-73bca70a6047",
   "metadata": {},
   "outputs": [
    {
     "data": {
      "text/plain": [
       "0"
      ]
     },
     "execution_count": 156,
     "metadata": {},
     "output_type": "execute_result"
    }
   ],
   "source": [
    "df1['revol_util'].isnull().sum()"
   ]
  },
  {
   "cell_type": "code",
   "execution_count": 157,
   "id": "a20d36b8-542e-4252-8c63-15f75db04c6b",
   "metadata": {},
   "outputs": [],
   "source": [
    "# total_acc\n",
    "df1['total_acc'].fillna(0, inplace = True)"
   ]
  },
  {
   "cell_type": "code",
   "execution_count": 158,
   "id": "75364205-d4e4-4912-9e2d-af3e0ba17838",
   "metadata": {},
   "outputs": [
    {
     "data": {
      "text/plain": [
       "0"
      ]
     },
     "execution_count": 158,
     "metadata": {},
     "output_type": "execute_result"
    }
   ],
   "source": [
    "df1['total_acc'].isnull().sum()"
   ]
  },
  {
   "cell_type": "code",
   "execution_count": 159,
   "id": "f6d597d7-6138-489d-83ca-d3f92a65f9ab",
   "metadata": {},
   "outputs": [],
   "source": [
    "# collections_12_mths_ex_med\n",
    "df1['collections_12_mths_ex_med'].fillna(0, inplace = True)"
   ]
  },
  {
   "cell_type": "code",
   "execution_count": 160,
   "id": "a67f8117-2763-4380-9ae2-84388ed7f839",
   "metadata": {},
   "outputs": [
    {
     "data": {
      "text/plain": [
       "0"
      ]
     },
     "execution_count": 160,
     "metadata": {},
     "output_type": "execute_result"
    }
   ],
   "source": [
    "df1['collections_12_mths_ex_med'].isnull().sum()"
   ]
  },
  {
   "cell_type": "code",
   "execution_count": 161,
   "id": "a8ad7f7f-d129-4cbe-84ed-c155922d39fb",
   "metadata": {},
   "outputs": [],
   "source": [
    "# acc_now_delinq\n",
    "df1['acc_now_delinq'].fillna(0, inplace = True)"
   ]
  },
  {
   "cell_type": "code",
   "execution_count": 162,
   "id": "a64b723b-454e-4364-86f1-bfaa44c16b64",
   "metadata": {},
   "outputs": [
    {
     "data": {
      "text/plain": [
       "0"
      ]
     },
     "execution_count": 162,
     "metadata": {},
     "output_type": "execute_result"
    }
   ],
   "source": [
    "df1['acc_now_delinq'].isnull().sum()"
   ]
  },
  {
   "cell_type": "code",
   "execution_count": 163,
   "id": "dd23440e-dcbb-4d44-8e45-e1e353349537",
   "metadata": {},
   "outputs": [],
   "source": [
    "# tot_coll_amt\n",
    "df1['tot_coll_amt'].fillna(0, inplace = True)"
   ]
  },
  {
   "cell_type": "code",
   "execution_count": 164,
   "id": "b655f651-78b6-44a7-8851-660982e4c221",
   "metadata": {},
   "outputs": [
    {
     "data": {
      "text/plain": [
       "0"
      ]
     },
     "execution_count": 164,
     "metadata": {},
     "output_type": "execute_result"
    }
   ],
   "source": [
    "df1['tot_coll_amt'].isnull().sum()"
   ]
  },
  {
   "cell_type": "code",
   "execution_count": 165,
   "id": "bf03e039-6a13-4f9d-a5ca-a808e748aab2",
   "metadata": {},
   "outputs": [],
   "source": [
    "# tot_cur_bal\n",
    "df1['tot_cur_bal'].fillna(0, inplace = True)"
   ]
  },
  {
   "cell_type": "code",
   "execution_count": 166,
   "id": "118ef95d-0be5-461a-8056-7bd2cc3a0c33",
   "metadata": {},
   "outputs": [
    {
     "data": {
      "text/plain": [
       "0"
      ]
     },
     "execution_count": 166,
     "metadata": {},
     "output_type": "execute_result"
    }
   ],
   "source": [
    "df1['tot_cur_bal'].isnull().sum()"
   ]
  },
  {
   "cell_type": "code",
   "execution_count": 167,
   "id": "680021c8-12f8-473a-a39c-be26f57e4517",
   "metadata": {},
   "outputs": [],
   "source": [
    "# impute total_rev_hi_lim with same value as funded_amnt\n",
    "df1['total_rev_hi_lim'].fillna(df1['funded_amnt'], inplace = True)"
   ]
  },
  {
   "cell_type": "code",
   "execution_count": 168,
   "id": "fbc4452a-1971-4475-9866-68e9068ee3c3",
   "metadata": {},
   "outputs": [
    {
     "data": {
      "text/plain": [
       "0"
      ]
     },
     "execution_count": 168,
     "metadata": {},
     "output_type": "execute_result"
    }
   ],
   "source": [
    "df1['total_rev_hi_lim'].isnull().sum()"
   ]
  },
  {
   "cell_type": "code",
   "execution_count": 169,
   "id": "c8b27631-5967-4f85-823a-8fedfe35c2e2",
   "metadata": {},
   "outputs": [
    {
     "data": {
      "text/plain": [
       "loan_amnt                     0\n",
       "funded_amnt                   0\n",
       "term                          0\n",
       "int_rate                      0\n",
       "installment                   0\n",
       "grade                         0\n",
       "emp_length                    0\n",
       "home_ownership                0\n",
       "annual_inc                    0\n",
       "verification_status           0\n",
       "issue_d                       0\n",
       "purpose                       0\n",
       "dti                           0\n",
       "delinq_2yrs                   0\n",
       "earliest_cr_line              0\n",
       "inq_last_6mths                0\n",
       "open_acc                      0\n",
       "pub_rec                       0\n",
       "revol_bal                     0\n",
       "revol_util                    0\n",
       "total_acc                     0\n",
       "initial_list_status           0\n",
       "out_prncp                     0\n",
       "total_pymnt                   0\n",
       "total_rec_prncp               0\n",
       "total_rec_int                 0\n",
       "total_rec_late_fee            0\n",
       "last_pymnt_d                  0\n",
       "last_pymnt_amnt               0\n",
       "last_credit_pull_d            0\n",
       "collections_12_mths_ex_med    0\n",
       "acc_now_delinq                0\n",
       "tot_coll_amt                  0\n",
       "tot_cur_bal                   0\n",
       "total_rev_hi_lim              0\n",
       "bad                           0\n",
       "dtype: int64"
      ]
     },
     "execution_count": 169,
     "metadata": {},
     "output_type": "execute_result"
    }
   ],
   "source": [
    "df1.isnull().sum()"
   ]
  },
  {
   "cell_type": "markdown",
   "id": "f09ebbc7-7afb-43b6-b458-4b594de8ac94",
   "metadata": {},
   "source": [
    "## date"
   ]
  },
  {
   "cell_type": "code",
   "execution_count": 170,
   "id": "c0a3aa5d-284b-49dc-865d-78f7a0cdb281",
   "metadata": {},
   "outputs": [],
   "source": [
    "# change data type 'issue_d' from object to datetime \n",
    "# change data type 'earliest_cr_line' from object to datetime \n",
    "# change data type 'last_pymnt_d' from object to datetime\n",
    "# change data type 'last_credit_pull_d' from object to datetime\n",
    "# assume present date is the latest date in 'last_pymnt_d'(Last month payment was received) or 'last_credit_pull_d'(The date LC pulled credit for this loan), which is Jan-16"
   ]
  },
  {
   "cell_type": "code",
   "execution_count": 171,
   "id": "235b67d2-2e85-4900-b860-48a8f817c288",
   "metadata": {},
   "outputs": [],
   "source": [
    "df1['issue_d'] = pd.to_datetime(df1['issue_d'], format='%b-%y')\n",
    "df1['earliest_cr_line'] = pd.to_datetime(df1['earliest_cr_line'], format='%b-%y')\n",
    "df1['last_pymnt_d'] = pd.to_datetime(df1['last_pymnt_d'], format='%b-%y')\n",
    "df1['last_credit_pull_d'] = pd.to_datetime(df1['last_credit_pull_d'], format='%b-%y')"
   ]
  },
  {
   "cell_type": "code",
   "execution_count": 172,
   "id": "ec10a61e-5ad3-4a4b-b6e5-36d2b0edc24b",
   "metadata": {},
   "outputs": [],
   "source": [
    "# convert months to duration (calculate the days/months from that date until present date)\n",
    "# assume present date is Jan-16\n",
    "present_date = pd.to_datetime('January 2016')\n",
    "\n",
    "# Calculate the duration in months\n",
    "df1['issue_d'] = ((present_date - df1['issue_d']) / pd.Timedelta(days=30)).astype(int)\n",
    "df1['earliest_cr_line'] = ((present_date - df1['earliest_cr_line']) / pd.Timedelta(days=30)).astype(int)\n",
    "df1['last_pymnt_d'] = ((present_date - df1['last_pymnt_d']) / pd.Timedelta(days=30)).astype(int)\n",
    "df1['last_credit_pull_d'] = ((present_date - df1['last_credit_pull_d']) / pd.Timedelta(days=30)).astype(int)"
   ]
  },
  {
   "cell_type": "code",
   "execution_count": 173,
   "id": "a7b98d2d-711a-471a-8c4b-70ffc8ead50a",
   "metadata": {},
   "outputs": [
    {
     "data": {
      "text/plain": [
       "array([ 49,  50,  51,  52,  53,  54,  55,  56,  57,  58,  59,  60,  61,\n",
       "        62,  63,  64,  65,  67,  68,  69,  70,  71,  72,  73,  74,  75,\n",
       "        76,  77,  78,  79,  80,  81,  82,  83,  84,  85,  86,  87,  88,\n",
       "        89,  90,  91,  92,  93,  94,  95,  96,  97,  98,  99, 100, 101,\n",
       "       102, 103, 104,  25,  26,  27,  28,  29,  30,  31,  32,  33,  34,\n",
       "        35,  36,  37,  38,  39,  40,  41,  42,  43,  44,  45,  46,  47,\n",
       "        48,  13,  14,  15,  16,  17,  18,  19,  20,  21,  22,  23,  24])"
      ]
     },
     "execution_count": 173,
     "metadata": {},
     "output_type": "execute_result"
    }
   ],
   "source": [
    "df1['issue_d'].unique()"
   ]
  },
  {
   "cell_type": "markdown",
   "id": "d2746e76-aa3a-4e68-bdd1-cd0c41be0e36",
   "metadata": {},
   "source": [
    "## term"
   ]
  },
  {
   "cell_type": "code",
   "execution_count": 174,
   "id": "11778f55-6a9a-4b19-8bdd-c76aa6a567f3",
   "metadata": {},
   "outputs": [],
   "source": [
    "df1['term'] = df1['term'].str.replace(' months', '')\n",
    "df1['term'] = df1['term'].str.replace(' ', '')"
   ]
  },
  {
   "cell_type": "code",
   "execution_count": 175,
   "id": "65203637-8b65-470a-bec3-f131f919feb0",
   "metadata": {},
   "outputs": [],
   "source": [
    "df1['term'] = pd.to_numeric(df1['term'])"
   ]
  },
  {
   "cell_type": "code",
   "execution_count": 176,
   "id": "bfc6c174-cbf8-48fd-94f9-dce21a0fff76",
   "metadata": {},
   "outputs": [
    {
     "data": {
      "text/plain": [
       "array([36, 60], dtype=int64)"
      ]
     },
     "execution_count": 176,
     "metadata": {},
     "output_type": "execute_result"
    }
   ],
   "source": [
    "df1['term'].unique()"
   ]
  },
  {
   "cell_type": "markdown",
   "id": "3715f3f4-bd83-4531-bc9d-21208f6ef179",
   "metadata": {},
   "source": [
    "# Feature Selection"
   ]
  },
  {
   "cell_type": "code",
   "execution_count": 177,
   "id": "b49f8839-7603-4f28-98ac-a427b14bdfea",
   "metadata": {},
   "outputs": [
    {
     "data": {
      "text/html": [
       "<div>\n",
       "<style scoped>\n",
       "    .dataframe tbody tr th:only-of-type {\n",
       "        vertical-align: middle;\n",
       "    }\n",
       "\n",
       "    .dataframe tbody tr th {\n",
       "        vertical-align: top;\n",
       "    }\n",
       "\n",
       "    .dataframe thead th {\n",
       "        text-align: right;\n",
       "    }\n",
       "</style>\n",
       "<table border=\"1\" class=\"dataframe\">\n",
       "  <thead>\n",
       "    <tr style=\"text-align: right;\">\n",
       "      <th></th>\n",
       "      <th>loan_amnt</th>\n",
       "      <th>funded_amnt</th>\n",
       "      <th>term</th>\n",
       "      <th>int_rate</th>\n",
       "      <th>installment</th>\n",
       "      <th>emp_length</th>\n",
       "      <th>annual_inc</th>\n",
       "      <th>issue_d</th>\n",
       "      <th>dti</th>\n",
       "      <th>delinq_2yrs</th>\n",
       "      <th>earliest_cr_line</th>\n",
       "      <th>inq_last_6mths</th>\n",
       "      <th>open_acc</th>\n",
       "      <th>pub_rec</th>\n",
       "      <th>revol_bal</th>\n",
       "      <th>revol_util</th>\n",
       "      <th>total_acc</th>\n",
       "      <th>out_prncp</th>\n",
       "      <th>total_pymnt</th>\n",
       "      <th>total_rec_prncp</th>\n",
       "      <th>total_rec_int</th>\n",
       "      <th>total_rec_late_fee</th>\n",
       "      <th>last_pymnt_d</th>\n",
       "      <th>last_pymnt_amnt</th>\n",
       "      <th>last_credit_pull_d</th>\n",
       "      <th>collections_12_mths_ex_med</th>\n",
       "      <th>acc_now_delinq</th>\n",
       "      <th>tot_coll_amt</th>\n",
       "      <th>tot_cur_bal</th>\n",
       "      <th>total_rev_hi_lim</th>\n",
       "      <th>bad</th>\n",
       "    </tr>\n",
       "  </thead>\n",
       "  <tbody>\n",
       "    <tr>\n",
       "      <th>loan_amnt</th>\n",
       "      <td>1.000000</td>\n",
       "      <td>0.998548</td>\n",
       "      <td>0.412870</td>\n",
       "      <td>0.167183</td>\n",
       "      <td>0.949666</td>\n",
       "      <td>0.135590</td>\n",
       "      <td>0.370893</td>\n",
       "      <td>-0.129913</td>\n",
       "      <td>0.057319</td>\n",
       "      <td>0.006869</td>\n",
       "      <td>0.159067</td>\n",
       "      <td>-0.020269</td>\n",
       "      <td>0.204315</td>\n",
       "      <td>-0.081108</td>\n",
       "      <td>0.331423</td>\n",
       "      <td>0.117676</td>\n",
       "      <td>0.235384</td>\n",
       "      <td>0.518700</td>\n",
       "      <td>0.743841</td>\n",
       "      <td>0.612777</td>\n",
       "      <td>0.715876</td>\n",
       "      <td>0.043650</td>\n",
       "      <td>-0.131981</td>\n",
       "      <td>0.304243</td>\n",
       "      <td>-0.087205</td>\n",
       "      <td>-0.008039</td>\n",
       "      <td>0.006288</td>\n",
       "      <td>-0.002024</td>\n",
       "      <td>0.330107</td>\n",
       "      <td>0.315523</td>\n",
       "      <td>0.011819</td>\n",
       "    </tr>\n",
       "    <tr>\n",
       "      <th>funded_amnt</th>\n",
       "      <td>0.998548</td>\n",
       "      <td>1.000000</td>\n",
       "      <td>0.410862</td>\n",
       "      <td>0.167921</td>\n",
       "      <td>0.951787</td>\n",
       "      <td>0.135992</td>\n",
       "      <td>0.370311</td>\n",
       "      <td>-0.137490</td>\n",
       "      <td>0.058673</td>\n",
       "      <td>0.007414</td>\n",
       "      <td>0.158089</td>\n",
       "      <td>-0.020910</td>\n",
       "      <td>0.205117</td>\n",
       "      <td>-0.080564</td>\n",
       "      <td>0.331039</td>\n",
       "      <td>0.118803</td>\n",
       "      <td>0.235258</td>\n",
       "      <td>0.521451</td>\n",
       "      <td>0.743363</td>\n",
       "      <td>0.612318</td>\n",
       "      <td>0.715664</td>\n",
       "      <td>0.043350</td>\n",
       "      <td>-0.137659</td>\n",
       "      <td>0.304178</td>\n",
       "      <td>-0.091535</td>\n",
       "      <td>-0.007794</td>\n",
       "      <td>0.006476</td>\n",
       "      <td>-0.001989</td>\n",
       "      <td>0.333025</td>\n",
       "      <td>0.317144</td>\n",
       "      <td>0.011003</td>\n",
       "    </tr>\n",
       "    <tr>\n",
       "      <th>term</th>\n",
       "      <td>0.412870</td>\n",
       "      <td>0.410862</td>\n",
       "      <td>1.000000</td>\n",
       "      <td>0.443395</td>\n",
       "      <td>0.159631</td>\n",
       "      <td>0.090521</td>\n",
       "      <td>0.069950</td>\n",
       "      <td>-0.087621</td>\n",
       "      <td>0.091912</td>\n",
       "      <td>0.004149</td>\n",
       "      <td>0.051839</td>\n",
       "      <td>0.010003</td>\n",
       "      <td>0.077787</td>\n",
       "      <td>-0.022778</td>\n",
       "      <td>0.092577</td>\n",
       "      <td>0.084113</td>\n",
       "      <td>0.101391</td>\n",
       "      <td>0.434307</td>\n",
       "      <td>0.174923</td>\n",
       "      <td>0.009798</td>\n",
       "      <td>0.534333</td>\n",
       "      <td>0.011915</td>\n",
       "      <td>-0.107388</td>\n",
       "      <td>0.111597</td>\n",
       "      <td>-0.064080</td>\n",
       "      <td>0.000373</td>\n",
       "      <td>0.007726</td>\n",
       "      <td>-0.001435</td>\n",
       "      <td>0.118782</td>\n",
       "      <td>0.074892</td>\n",
       "      <td>0.063565</td>\n",
       "    </tr>\n",
       "    <tr>\n",
       "      <th>int_rate</th>\n",
       "      <td>0.167183</td>\n",
       "      <td>0.167921</td>\n",
       "      <td>0.443395</td>\n",
       "      <td>1.000000</td>\n",
       "      <td>0.148790</td>\n",
       "      <td>0.025673</td>\n",
       "      <td>-0.046069</td>\n",
       "      <td>-0.072762</td>\n",
       "      <td>0.159657</td>\n",
       "      <td>0.079209</td>\n",
       "      <td>-0.077700</td>\n",
       "      <td>0.205677</td>\n",
       "      <td>0.012447</td>\n",
       "      <td>0.066712</td>\n",
       "      <td>-0.004589</td>\n",
       "      <td>0.323249</td>\n",
       "      <td>-0.032869</td>\n",
       "      <td>0.137427</td>\n",
       "      <td>0.127035</td>\n",
       "      <td>-0.032130</td>\n",
       "      <td>0.485154</td>\n",
       "      <td>0.057875</td>\n",
       "      <td>-0.046715</td>\n",
       "      <td>0.075609</td>\n",
       "      <td>-0.050699</td>\n",
       "      <td>0.020319</td>\n",
       "      <td>0.030341</td>\n",
       "      <td>0.001416</td>\n",
       "      <td>-0.044509</td>\n",
       "      <td>-0.099807</td>\n",
       "      <td>0.172361</td>\n",
       "    </tr>\n",
       "    <tr>\n",
       "      <th>installment</th>\n",
       "      <td>0.949666</td>\n",
       "      <td>0.951787</td>\n",
       "      <td>0.159631</td>\n",
       "      <td>0.148790</td>\n",
       "      <td>1.000000</td>\n",
       "      <td>0.118408</td>\n",
       "      <td>0.368145</td>\n",
       "      <td>-0.118169</td>\n",
       "      <td>0.049919</td>\n",
       "      <td>0.017028</td>\n",
       "      <td>0.141813</td>\n",
       "      <td>0.002305</td>\n",
       "      <td>0.196975</td>\n",
       "      <td>-0.070064</td>\n",
       "      <td>0.320239</td>\n",
       "      <td>0.136759</td>\n",
       "      <td>0.216034</td>\n",
       "      <td>0.408838</td>\n",
       "      <td>0.764360</td>\n",
       "      <td>0.663399</td>\n",
       "      <td>0.641948</td>\n",
       "      <td>0.052341</td>\n",
       "      <td>-0.112131</td>\n",
       "      <td>0.299867</td>\n",
       "      <td>-0.079230</td>\n",
       "      <td>-0.006028</td>\n",
       "      <td>0.008927</td>\n",
       "      <td>-0.001522</td>\n",
       "      <td>0.304369</td>\n",
       "      <td>0.297528</td>\n",
       "      <td>0.013936</td>\n",
       "    </tr>\n",
       "    <tr>\n",
       "      <th>emp_length</th>\n",
       "      <td>0.135590</td>\n",
       "      <td>0.135992</td>\n",
       "      <td>0.090521</td>\n",
       "      <td>0.025673</td>\n",
       "      <td>0.118408</td>\n",
       "      <td>1.000000</td>\n",
       "      <td>0.100695</td>\n",
       "      <td>-0.073318</td>\n",
       "      <td>0.034140</td>\n",
       "      <td>0.031677</td>\n",
       "      <td>0.153782</td>\n",
       "      <td>-0.012222</td>\n",
       "      <td>0.056625</td>\n",
       "      <td>0.017057</td>\n",
       "      <td>0.095806</td>\n",
       "      <td>0.048299</td>\n",
       "      <td>0.112875</td>\n",
       "      <td>0.086611</td>\n",
       "      <td>0.098056</td>\n",
       "      <td>0.076708</td>\n",
       "      <td>0.107122</td>\n",
       "      <td>-0.008576</td>\n",
       "      <td>-0.075045</td>\n",
       "      <td>0.050227</td>\n",
       "      <td>-0.067158</td>\n",
       "      <td>-0.001441</td>\n",
       "      <td>0.009519</td>\n",
       "      <td>-0.001356</td>\n",
       "      <td>0.123975</td>\n",
       "      <td>0.083717</td>\n",
       "      <td>-0.020623</td>\n",
       "    </tr>\n",
       "    <tr>\n",
       "      <th>annual_inc</th>\n",
       "      <td>0.370893</td>\n",
       "      <td>0.370311</td>\n",
       "      <td>0.069950</td>\n",
       "      <td>-0.046069</td>\n",
       "      <td>0.368145</td>\n",
       "      <td>0.100695</td>\n",
       "      <td>1.000000</td>\n",
       "      <td>-0.034880</td>\n",
       "      <td>-0.188542</td>\n",
       "      <td>0.058895</td>\n",
       "      <td>0.153781</td>\n",
       "      <td>0.056674</td>\n",
       "      <td>0.157761</td>\n",
       "      <td>-0.015437</td>\n",
       "      <td>0.332316</td>\n",
       "      <td>0.037563</td>\n",
       "      <td>0.224657</td>\n",
       "      <td>0.168317</td>\n",
       "      <td>0.299784</td>\n",
       "      <td>0.275824</td>\n",
       "      <td>0.212952</td>\n",
       "      <td>0.020273</td>\n",
       "      <td>-0.027586</td>\n",
       "      <td>0.142156</td>\n",
       "      <td>-0.019867</td>\n",
       "      <td>-0.000445</td>\n",
       "      <td>0.017133</td>\n",
       "      <td>0.001907</td>\n",
       "      <td>0.430930</td>\n",
       "      <td>0.278310</td>\n",
       "      <td>-0.049863</td>\n",
       "    </tr>\n",
       "    <tr>\n",
       "      <th>issue_d</th>\n",
       "      <td>-0.129913</td>\n",
       "      <td>-0.137490</td>\n",
       "      <td>-0.087621</td>\n",
       "      <td>-0.072762</td>\n",
       "      <td>-0.118169</td>\n",
       "      <td>-0.073318</td>\n",
       "      <td>-0.034880</td>\n",
       "      <td>1.000000</td>\n",
       "      <td>-0.169432</td>\n",
       "      <td>-0.079443</td>\n",
       "      <td>0.030261</td>\n",
       "      <td>0.108230</td>\n",
       "      <td>-0.133788</td>\n",
       "      <td>-0.114001</td>\n",
       "      <td>-0.029703</td>\n",
       "      <td>-0.049052</td>\n",
       "      <td>-0.106050</td>\n",
       "      <td>-0.400534</td>\n",
       "      <td>0.160444</td>\n",
       "      <td>0.173026</td>\n",
       "      <td>0.034342</td>\n",
       "      <td>0.065037</td>\n",
       "      <td>0.758816</td>\n",
       "      <td>0.012640</td>\n",
       "      <td>0.567088</td>\n",
       "      <td>-0.050984</td>\n",
       "      <td>-0.028367</td>\n",
       "      <td>-0.006587</td>\n",
       "      <td>-0.273124</td>\n",
       "      <td>-0.167550</td>\n",
       "      <td>0.087225</td>\n",
       "    </tr>\n",
       "    <tr>\n",
       "      <th>dti</th>\n",
       "      <td>0.057319</td>\n",
       "      <td>0.058673</td>\n",
       "      <td>0.091912</td>\n",
       "      <td>0.159657</td>\n",
       "      <td>0.049919</td>\n",
       "      <td>0.034140</td>\n",
       "      <td>-0.188542</td>\n",
       "      <td>-0.169432</td>\n",
       "      <td>1.000000</td>\n",
       "      <td>-0.003667</td>\n",
       "      <td>0.023958</td>\n",
       "      <td>-0.012485</td>\n",
       "      <td>0.304018</td>\n",
       "      <td>-0.046166</td>\n",
       "      <td>0.143380</td>\n",
       "      <td>0.200284</td>\n",
       "      <td>0.228337</td>\n",
       "      <td>0.119984</td>\n",
       "      <td>-0.026007</td>\n",
       "      <td>-0.063895</td>\n",
       "      <td>0.089582</td>\n",
       "      <td>-0.005747</td>\n",
       "      <td>-0.152255</td>\n",
       "      <td>-0.043068</td>\n",
       "      <td>-0.134059</td>\n",
       "      <td>0.000335</td>\n",
       "      <td>0.009494</td>\n",
       "      <td>-0.002506</td>\n",
       "      <td>0.035464</td>\n",
       "      <td>0.086543</td>\n",
       "      <td>0.048102</td>\n",
       "    </tr>\n",
       "    <tr>\n",
       "      <th>delinq_2yrs</th>\n",
       "      <td>0.006869</td>\n",
       "      <td>0.007414</td>\n",
       "      <td>0.004149</td>\n",
       "      <td>0.079209</td>\n",
       "      <td>0.017028</td>\n",
       "      <td>0.031677</td>\n",
       "      <td>0.058895</td>\n",
       "      <td>-0.079443</td>\n",
       "      <td>-0.003667</td>\n",
       "      <td>1.000000</td>\n",
       "      <td>0.077217</td>\n",
       "      <td>0.018001</td>\n",
       "      <td>0.059174</td>\n",
       "      <td>-0.010803</td>\n",
       "      <td>-0.031103</td>\n",
       "      <td>-0.013167</td>\n",
       "      <td>0.130822</td>\n",
       "      <td>0.043871</td>\n",
       "      <td>-0.019676</td>\n",
       "      <td>-0.032080</td>\n",
       "      <td>0.024292</td>\n",
       "      <td>0.024388</td>\n",
       "      <td>-0.058138</td>\n",
       "      <td>-0.013728</td>\n",
       "      <td>-0.044248</td>\n",
       "      <td>0.039132</td>\n",
       "      <td>0.126533</td>\n",
       "      <td>0.000427</td>\n",
       "      <td>0.089490</td>\n",
       "      <td>-0.020224</td>\n",
       "      <td>0.001228</td>\n",
       "    </tr>\n",
       "    <tr>\n",
       "      <th>earliest_cr_line</th>\n",
       "      <td>0.159067</td>\n",
       "      <td>0.158089</td>\n",
       "      <td>0.051839</td>\n",
       "      <td>-0.077700</td>\n",
       "      <td>0.141813</td>\n",
       "      <td>0.153782</td>\n",
       "      <td>0.153781</td>\n",
       "      <td>0.030261</td>\n",
       "      <td>0.023958</td>\n",
       "      <td>0.077217</td>\n",
       "      <td>1.000000</td>\n",
       "      <td>0.004326</td>\n",
       "      <td>0.122559</td>\n",
       "      <td>0.048160</td>\n",
       "      <td>0.181675</td>\n",
       "      <td>0.000703</td>\n",
       "      <td>0.260332</td>\n",
       "      <td>0.082432</td>\n",
       "      <td>0.127742</td>\n",
       "      <td>0.114389</td>\n",
       "      <td>0.100961</td>\n",
       "      <td>-0.003734</td>\n",
       "      <td>-0.006784</td>\n",
       "      <td>0.033891</td>\n",
       "      <td>-0.007240</td>\n",
       "      <td>0.005055</td>\n",
       "      <td>0.020289</td>\n",
       "      <td>0.002201</td>\n",
       "      <td>0.139410</td>\n",
       "      <td>0.162822</td>\n",
       "      <td>-0.033132</td>\n",
       "    </tr>\n",
       "    <tr>\n",
       "      <th>inq_last_6mths</th>\n",
       "      <td>-0.020269</td>\n",
       "      <td>-0.020910</td>\n",
       "      <td>0.010003</td>\n",
       "      <td>0.205677</td>\n",
       "      <td>0.002305</td>\n",
       "      <td>-0.012222</td>\n",
       "      <td>0.056674</td>\n",
       "      <td>0.108230</td>\n",
       "      <td>-0.012485</td>\n",
       "      <td>0.018001</td>\n",
       "      <td>0.004326</td>\n",
       "      <td>1.000000</td>\n",
       "      <td>0.092875</td>\n",
       "      <td>0.038341</td>\n",
       "      <td>-0.015679</td>\n",
       "      <td>-0.094671</td>\n",
       "      <td>0.124151</td>\n",
       "      <td>-0.070368</td>\n",
       "      <td>0.020683</td>\n",
       "      <td>0.005340</td>\n",
       "      <td>0.044105</td>\n",
       "      <td>0.029926</td>\n",
       "      <td>0.137112</td>\n",
       "      <td>0.041252</td>\n",
       "      <td>0.084226</td>\n",
       "      <td>-0.001825</td>\n",
       "      <td>-0.006915</td>\n",
       "      <td>0.001323</td>\n",
       "      <td>0.028150</td>\n",
       "      <td>-0.006098</td>\n",
       "      <td>0.073099</td>\n",
       "    </tr>\n",
       "    <tr>\n",
       "      <th>open_acc</th>\n",
       "      <td>0.204315</td>\n",
       "      <td>0.205117</td>\n",
       "      <td>0.077787</td>\n",
       "      <td>0.012447</td>\n",
       "      <td>0.196975</td>\n",
       "      <td>0.056625</td>\n",
       "      <td>0.157761</td>\n",
       "      <td>-0.133788</td>\n",
       "      <td>0.304018</td>\n",
       "      <td>0.059174</td>\n",
       "      <td>0.122559</td>\n",
       "      <td>0.092875</td>\n",
       "      <td>1.000000</td>\n",
       "      <td>-0.030429</td>\n",
       "      <td>0.222972</td>\n",
       "      <td>-0.124220</td>\n",
       "      <td>0.682209</td>\n",
       "      <td>0.144628</td>\n",
       "      <td>0.120298</td>\n",
       "      <td>0.097306</td>\n",
       "      <td>0.121888</td>\n",
       "      <td>-0.006625</td>\n",
       "      <td>-0.104776</td>\n",
       "      <td>0.054958</td>\n",
       "      <td>-0.098223</td>\n",
       "      <td>0.011868</td>\n",
       "      <td>0.018199</td>\n",
       "      <td>0.000185</td>\n",
       "      <td>0.253770</td>\n",
       "      <td>0.292539</td>\n",
       "      <td>-0.006170</td>\n",
       "    </tr>\n",
       "    <tr>\n",
       "      <th>pub_rec</th>\n",
       "      <td>-0.081108</td>\n",
       "      <td>-0.080564</td>\n",
       "      <td>-0.022778</td>\n",
       "      <td>0.066712</td>\n",
       "      <td>-0.070064</td>\n",
       "      <td>0.017057</td>\n",
       "      <td>-0.015437</td>\n",
       "      <td>-0.114001</td>\n",
       "      <td>-0.046166</td>\n",
       "      <td>-0.010803</td>\n",
       "      <td>0.048160</td>\n",
       "      <td>0.038341</td>\n",
       "      <td>-0.030429</td>\n",
       "      <td>1.000000</td>\n",
       "      <td>-0.097961</td>\n",
       "      <td>-0.062495</td>\n",
       "      <td>0.007300</td>\n",
       "      <td>0.002380</td>\n",
       "      <td>-0.091161</td>\n",
       "      <td>-0.088757</td>\n",
       "      <td>-0.049250</td>\n",
       "      <td>-0.011815</td>\n",
       "      <td>-0.072327</td>\n",
       "      <td>-0.027225</td>\n",
       "      <td>-0.063850</td>\n",
       "      <td>0.021528</td>\n",
       "      <td>0.002349</td>\n",
       "      <td>0.004373</td>\n",
       "      <td>-0.038369</td>\n",
       "      <td>-0.075173</td>\n",
       "      <td>-0.009110</td>\n",
       "    </tr>\n",
       "    <tr>\n",
       "      <th>revol_bal</th>\n",
       "      <td>0.331423</td>\n",
       "      <td>0.331039</td>\n",
       "      <td>0.092577</td>\n",
       "      <td>-0.004589</td>\n",
       "      <td>0.320239</td>\n",
       "      <td>0.095806</td>\n",
       "      <td>0.332316</td>\n",
       "      <td>-0.029703</td>\n",
       "      <td>0.143380</td>\n",
       "      <td>-0.031103</td>\n",
       "      <td>0.181675</td>\n",
       "      <td>-0.015679</td>\n",
       "      <td>0.222972</td>\n",
       "      <td>-0.097961</td>\n",
       "      <td>1.000000</td>\n",
       "      <td>0.206277</td>\n",
       "      <td>0.198700</td>\n",
       "      <td>0.181301</td>\n",
       "      <td>0.242186</td>\n",
       "      <td>0.209922</td>\n",
       "      <td>0.206982</td>\n",
       "      <td>0.005889</td>\n",
       "      <td>-0.038590</td>\n",
       "      <td>0.087132</td>\n",
       "      <td>-0.028863</td>\n",
       "      <td>-0.016146</td>\n",
       "      <td>0.001003</td>\n",
       "      <td>-0.003635</td>\n",
       "      <td>0.388440</td>\n",
       "      <td>0.754876</td>\n",
       "      <td>-0.018348</td>\n",
       "    </tr>\n",
       "    <tr>\n",
       "      <th>revol_util</th>\n",
       "      <td>0.117676</td>\n",
       "      <td>0.118803</td>\n",
       "      <td>0.084113</td>\n",
       "      <td>0.323249</td>\n",
       "      <td>0.136759</td>\n",
       "      <td>0.048299</td>\n",
       "      <td>0.037563</td>\n",
       "      <td>-0.049052</td>\n",
       "      <td>0.200284</td>\n",
       "      <td>-0.013167</td>\n",
       "      <td>0.000703</td>\n",
       "      <td>-0.094671</td>\n",
       "      <td>-0.124220</td>\n",
       "      <td>-0.062495</td>\n",
       "      <td>0.206277</td>\n",
       "      <td>1.000000</td>\n",
       "      <td>-0.094281</td>\n",
       "      <td>0.096678</td>\n",
       "      <td>0.085911</td>\n",
       "      <td>0.024332</td>\n",
       "      <td>0.209599</td>\n",
       "      <td>0.024642</td>\n",
       "      <td>-0.083876</td>\n",
       "      <td>-0.010454</td>\n",
       "      <td>-0.092490</td>\n",
       "      <td>-0.027665</td>\n",
       "      <td>-0.022747</td>\n",
       "      <td>-0.005136</td>\n",
       "      <td>0.081905</td>\n",
       "      <td>-0.092866</td>\n",
       "      <td>0.050188</td>\n",
       "    </tr>\n",
       "    <tr>\n",
       "      <th>total_acc</th>\n",
       "      <td>0.235384</td>\n",
       "      <td>0.235258</td>\n",
       "      <td>0.101391</td>\n",
       "      <td>-0.032869</td>\n",
       "      <td>0.216034</td>\n",
       "      <td>0.112875</td>\n",
       "      <td>0.224657</td>\n",
       "      <td>-0.106050</td>\n",
       "      <td>0.228337</td>\n",
       "      <td>0.130822</td>\n",
       "      <td>0.260332</td>\n",
       "      <td>0.124151</td>\n",
       "      <td>0.682209</td>\n",
       "      <td>0.007300</td>\n",
       "      <td>0.198700</td>\n",
       "      <td>-0.094281</td>\n",
       "      <td>1.000000</td>\n",
       "      <td>0.123472</td>\n",
       "      <td>0.168762</td>\n",
       "      <td>0.152288</td>\n",
       "      <td>0.126939</td>\n",
       "      <td>-0.005646</td>\n",
       "      <td>-0.059397</td>\n",
       "      <td>0.113064</td>\n",
       "      <td>-0.078190</td>\n",
       "      <td>0.013283</td>\n",
       "      <td>0.027722</td>\n",
       "      <td>0.005128</td>\n",
       "      <td>0.307253</td>\n",
       "      <td>0.234983</td>\n",
       "      <td>-0.023062</td>\n",
       "    </tr>\n",
       "    <tr>\n",
       "      <th>out_prncp</th>\n",
       "      <td>0.518700</td>\n",
       "      <td>0.521451</td>\n",
       "      <td>0.434307</td>\n",
       "      <td>0.137427</td>\n",
       "      <td>0.408838</td>\n",
       "      <td>0.086611</td>\n",
       "      <td>0.168317</td>\n",
       "      <td>-0.400534</td>\n",
       "      <td>0.119984</td>\n",
       "      <td>0.043871</td>\n",
       "      <td>0.082432</td>\n",
       "      <td>-0.070368</td>\n",
       "      <td>0.144628</td>\n",
       "      <td>0.002380</td>\n",
       "      <td>0.181301</td>\n",
       "      <td>0.096678</td>\n",
       "      <td>0.123472</td>\n",
       "      <td>1.000000</td>\n",
       "      <td>-0.022072</td>\n",
       "      <td>-0.189933</td>\n",
       "      <td>0.488106</td>\n",
       "      <td>-0.006700</td>\n",
       "      <td>-0.430692</td>\n",
       "      <td>-0.317381</td>\n",
       "      <td>-0.287768</td>\n",
       "      <td>0.020346</td>\n",
       "      <td>0.016478</td>\n",
       "      <td>0.000633</td>\n",
       "      <td>0.245160</td>\n",
       "      <td>0.194153</td>\n",
       "      <td>-0.158676</td>\n",
       "    </tr>\n",
       "    <tr>\n",
       "      <th>total_pymnt</th>\n",
       "      <td>0.743841</td>\n",
       "      <td>0.743363</td>\n",
       "      <td>0.174923</td>\n",
       "      <td>0.127035</td>\n",
       "      <td>0.764360</td>\n",
       "      <td>0.098056</td>\n",
       "      <td>0.299784</td>\n",
       "      <td>0.160444</td>\n",
       "      <td>-0.026007</td>\n",
       "      <td>-0.019676</td>\n",
       "      <td>0.127742</td>\n",
       "      <td>0.020683</td>\n",
       "      <td>0.120298</td>\n",
       "      <td>-0.091161</td>\n",
       "      <td>0.242186</td>\n",
       "      <td>0.085911</td>\n",
       "      <td>0.168762</td>\n",
       "      <td>-0.022072</td>\n",
       "      <td>1.000000</td>\n",
       "      <td>0.956658</td>\n",
       "      <td>0.624423</td>\n",
       "      <td>0.026158</td>\n",
       "      <td>0.035834</td>\n",
       "      <td>0.614276</td>\n",
       "      <td>0.034281</td>\n",
       "      <td>-0.024729</td>\n",
       "      <td>-0.004289</td>\n",
       "      <td>-0.002591</td>\n",
       "      <td>0.195941</td>\n",
       "      <td>0.206216</td>\n",
       "      <td>-0.194438</td>\n",
       "    </tr>\n",
       "    <tr>\n",
       "      <th>total_rec_prncp</th>\n",
       "      <td>0.612777</td>\n",
       "      <td>0.612318</td>\n",
       "      <td>0.009798</td>\n",
       "      <td>-0.032130</td>\n",
       "      <td>0.663399</td>\n",
       "      <td>0.076708</td>\n",
       "      <td>0.275824</td>\n",
       "      <td>0.173026</td>\n",
       "      <td>-0.063895</td>\n",
       "      <td>-0.032080</td>\n",
       "      <td>0.114389</td>\n",
       "      <td>0.005340</td>\n",
       "      <td>0.097306</td>\n",
       "      <td>-0.088757</td>\n",
       "      <td>0.209922</td>\n",
       "      <td>0.024332</td>\n",
       "      <td>0.152288</td>\n",
       "      <td>-0.189933</td>\n",
       "      <td>0.956658</td>\n",
       "      <td>1.000000</td>\n",
       "      <td>0.378304</td>\n",
       "      <td>-0.001048</td>\n",
       "      <td>0.109514</td>\n",
       "      <td>0.709676</td>\n",
       "      <td>0.082026</td>\n",
       "      <td>-0.026160</td>\n",
       "      <td>-0.008614</td>\n",
       "      <td>-0.002335</td>\n",
       "      <td>0.174676</td>\n",
       "      <td>0.193346</td>\n",
       "      <td>-0.253875</td>\n",
       "    </tr>\n",
       "    <tr>\n",
       "      <th>total_rec_int</th>\n",
       "      <td>0.715876</td>\n",
       "      <td>0.715664</td>\n",
       "      <td>0.534333</td>\n",
       "      <td>0.485154</td>\n",
       "      <td>0.641948</td>\n",
       "      <td>0.107122</td>\n",
       "      <td>0.212952</td>\n",
       "      <td>0.034342</td>\n",
       "      <td>0.089582</td>\n",
       "      <td>0.024292</td>\n",
       "      <td>0.100961</td>\n",
       "      <td>0.044105</td>\n",
       "      <td>0.121888</td>\n",
       "      <td>-0.049250</td>\n",
       "      <td>0.206982</td>\n",
       "      <td>0.209599</td>\n",
       "      <td>0.126939</td>\n",
       "      <td>0.488106</td>\n",
       "      <td>0.624423</td>\n",
       "      <td>0.378304</td>\n",
       "      <td>1.000000</td>\n",
       "      <td>0.071734</td>\n",
       "      <td>-0.222656</td>\n",
       "      <td>0.050888</td>\n",
       "      <td>-0.149003</td>\n",
       "      <td>-0.008005</td>\n",
       "      <td>0.009493</td>\n",
       "      <td>-0.001864</td>\n",
       "      <td>0.157871</td>\n",
       "      <td>0.137175</td>\n",
       "      <td>-0.026726</td>\n",
       "    </tr>\n",
       "    <tr>\n",
       "      <th>total_rec_late_fee</th>\n",
       "      <td>0.043650</td>\n",
       "      <td>0.043350</td>\n",
       "      <td>0.011915</td>\n",
       "      <td>0.057875</td>\n",
       "      <td>0.052341</td>\n",
       "      <td>-0.008576</td>\n",
       "      <td>0.020273</td>\n",
       "      <td>0.065037</td>\n",
       "      <td>-0.005747</td>\n",
       "      <td>0.024388</td>\n",
       "      <td>-0.003734</td>\n",
       "      <td>0.029926</td>\n",
       "      <td>-0.006625</td>\n",
       "      <td>-0.011815</td>\n",
       "      <td>0.005889</td>\n",
       "      <td>0.024642</td>\n",
       "      <td>-0.005646</td>\n",
       "      <td>-0.006700</td>\n",
       "      <td>0.026158</td>\n",
       "      <td>-0.001048</td>\n",
       "      <td>0.071734</td>\n",
       "      <td>1.000000</td>\n",
       "      <td>0.040533</td>\n",
       "      <td>-0.034820</td>\n",
       "      <td>0.038063</td>\n",
       "      <td>-0.000557</td>\n",
       "      <td>0.003450</td>\n",
       "      <td>-0.000608</td>\n",
       "      <td>-0.006713</td>\n",
       "      <td>-0.010161</td>\n",
       "      <td>0.147750</td>\n",
       "    </tr>\n",
       "    <tr>\n",
       "      <th>last_pymnt_d</th>\n",
       "      <td>-0.131981</td>\n",
       "      <td>-0.137659</td>\n",
       "      <td>-0.107388</td>\n",
       "      <td>-0.046715</td>\n",
       "      <td>-0.112131</td>\n",
       "      <td>-0.075045</td>\n",
       "      <td>-0.027586</td>\n",
       "      <td>0.758816</td>\n",
       "      <td>-0.152255</td>\n",
       "      <td>-0.058138</td>\n",
       "      <td>-0.006784</td>\n",
       "      <td>0.137112</td>\n",
       "      <td>-0.104776</td>\n",
       "      <td>-0.072327</td>\n",
       "      <td>-0.038590</td>\n",
       "      <td>-0.083876</td>\n",
       "      <td>-0.059397</td>\n",
       "      <td>-0.430692</td>\n",
       "      <td>0.035834</td>\n",
       "      <td>0.109514</td>\n",
       "      <td>-0.222656</td>\n",
       "      <td>0.040533</td>\n",
       "      <td>1.000000</td>\n",
       "      <td>0.265696</td>\n",
       "      <td>0.706771</td>\n",
       "      <td>-0.033515</td>\n",
       "      <td>-0.018805</td>\n",
       "      <td>-0.004663</td>\n",
       "      <td>-0.217038</td>\n",
       "      <td>-0.140636</td>\n",
       "      <td>0.242112</td>\n",
       "    </tr>\n",
       "    <tr>\n",
       "      <th>last_pymnt_amnt</th>\n",
       "      <td>0.304243</td>\n",
       "      <td>0.304178</td>\n",
       "      <td>0.111597</td>\n",
       "      <td>0.075609</td>\n",
       "      <td>0.299867</td>\n",
       "      <td>0.050227</td>\n",
       "      <td>0.142156</td>\n",
       "      <td>0.012640</td>\n",
       "      <td>-0.043068</td>\n",
       "      <td>-0.013728</td>\n",
       "      <td>0.033891</td>\n",
       "      <td>0.041252</td>\n",
       "      <td>0.054958</td>\n",
       "      <td>-0.027225</td>\n",
       "      <td>0.087132</td>\n",
       "      <td>-0.010454</td>\n",
       "      <td>0.113064</td>\n",
       "      <td>-0.317381</td>\n",
       "      <td>0.614276</td>\n",
       "      <td>0.709676</td>\n",
       "      <td>0.050888</td>\n",
       "      <td>-0.034820</td>\n",
       "      <td>0.265696</td>\n",
       "      <td>1.000000</td>\n",
       "      <td>0.172823</td>\n",
       "      <td>-0.009789</td>\n",
       "      <td>-0.000996</td>\n",
       "      <td>-0.001405</td>\n",
       "      <td>0.123801</td>\n",
       "      <td>0.096507</td>\n",
       "      <td>-0.168030</td>\n",
       "    </tr>\n",
       "    <tr>\n",
       "      <th>last_credit_pull_d</th>\n",
       "      <td>-0.087205</td>\n",
       "      <td>-0.091535</td>\n",
       "      <td>-0.064080</td>\n",
       "      <td>-0.050699</td>\n",
       "      <td>-0.079230</td>\n",
       "      <td>-0.067158</td>\n",
       "      <td>-0.019867</td>\n",
       "      <td>0.567088</td>\n",
       "      <td>-0.134059</td>\n",
       "      <td>-0.044248</td>\n",
       "      <td>-0.007240</td>\n",
       "      <td>0.084226</td>\n",
       "      <td>-0.098223</td>\n",
       "      <td>-0.063850</td>\n",
       "      <td>-0.028863</td>\n",
       "      <td>-0.092490</td>\n",
       "      <td>-0.078190</td>\n",
       "      <td>-0.287768</td>\n",
       "      <td>0.034281</td>\n",
       "      <td>0.082026</td>\n",
       "      <td>-0.149003</td>\n",
       "      <td>0.038063</td>\n",
       "      <td>0.706771</td>\n",
       "      <td>0.172823</td>\n",
       "      <td>1.000000</td>\n",
       "      <td>-0.024490</td>\n",
       "      <td>-0.012303</td>\n",
       "      <td>-0.003534</td>\n",
       "      <td>-0.157874</td>\n",
       "      <td>-0.095165</td>\n",
       "      <td>0.136462</td>\n",
       "    </tr>\n",
       "    <tr>\n",
       "      <th>collections_12_mths_ex_med</th>\n",
       "      <td>-0.008039</td>\n",
       "      <td>-0.007794</td>\n",
       "      <td>0.000373</td>\n",
       "      <td>0.020319</td>\n",
       "      <td>-0.006028</td>\n",
       "      <td>-0.001441</td>\n",
       "      <td>-0.000445</td>\n",
       "      <td>-0.050984</td>\n",
       "      <td>0.000335</td>\n",
       "      <td>0.039132</td>\n",
       "      <td>0.005055</td>\n",
       "      <td>-0.001825</td>\n",
       "      <td>0.011868</td>\n",
       "      <td>0.021528</td>\n",
       "      <td>-0.016146</td>\n",
       "      <td>-0.027665</td>\n",
       "      <td>0.013283</td>\n",
       "      <td>0.020346</td>\n",
       "      <td>-0.024729</td>\n",
       "      <td>-0.026160</td>\n",
       "      <td>-0.008005</td>\n",
       "      <td>-0.000557</td>\n",
       "      <td>-0.033515</td>\n",
       "      <td>-0.009789</td>\n",
       "      <td>-0.024490</td>\n",
       "      <td>1.000000</td>\n",
       "      <td>0.019287</td>\n",
       "      <td>0.006896</td>\n",
       "      <td>0.007563</td>\n",
       "      <td>-0.004674</td>\n",
       "      <td>-0.005119</td>\n",
       "    </tr>\n",
       "    <tr>\n",
       "      <th>acc_now_delinq</th>\n",
       "      <td>0.006288</td>\n",
       "      <td>0.006476</td>\n",
       "      <td>0.007726</td>\n",
       "      <td>0.030341</td>\n",
       "      <td>0.008927</td>\n",
       "      <td>0.009519</td>\n",
       "      <td>0.017133</td>\n",
       "      <td>-0.028367</td>\n",
       "      <td>0.009494</td>\n",
       "      <td>0.126533</td>\n",
       "      <td>0.020289</td>\n",
       "      <td>-0.006915</td>\n",
       "      <td>0.018199</td>\n",
       "      <td>0.002349</td>\n",
       "      <td>0.001003</td>\n",
       "      <td>-0.022747</td>\n",
       "      <td>0.027722</td>\n",
       "      <td>0.016478</td>\n",
       "      <td>-0.004289</td>\n",
       "      <td>-0.008614</td>\n",
       "      <td>0.009493</td>\n",
       "      <td>0.003450</td>\n",
       "      <td>-0.018805</td>\n",
       "      <td>-0.000996</td>\n",
       "      <td>-0.012303</td>\n",
       "      <td>0.019287</td>\n",
       "      <td>1.000000</td>\n",
       "      <td>0.000106</td>\n",
       "      <td>0.030419</td>\n",
       "      <td>0.013608</td>\n",
       "      <td>-0.000197</td>\n",
       "    </tr>\n",
       "    <tr>\n",
       "      <th>tot_coll_amt</th>\n",
       "      <td>-0.002024</td>\n",
       "      <td>-0.001989</td>\n",
       "      <td>-0.001435</td>\n",
       "      <td>0.001416</td>\n",
       "      <td>-0.001522</td>\n",
       "      <td>-0.001356</td>\n",
       "      <td>0.001907</td>\n",
       "      <td>-0.006587</td>\n",
       "      <td>-0.002506</td>\n",
       "      <td>0.000427</td>\n",
       "      <td>0.002201</td>\n",
       "      <td>0.001323</td>\n",
       "      <td>0.000185</td>\n",
       "      <td>0.004373</td>\n",
       "      <td>-0.003635</td>\n",
       "      <td>-0.005136</td>\n",
       "      <td>0.005128</td>\n",
       "      <td>0.000633</td>\n",
       "      <td>-0.002591</td>\n",
       "      <td>-0.002335</td>\n",
       "      <td>-0.001864</td>\n",
       "      <td>-0.000608</td>\n",
       "      <td>-0.004663</td>\n",
       "      <td>-0.001405</td>\n",
       "      <td>-0.003534</td>\n",
       "      <td>0.006896</td>\n",
       "      <td>0.000106</td>\n",
       "      <td>1.000000</td>\n",
       "      <td>0.002398</td>\n",
       "      <td>-0.002187</td>\n",
       "      <td>-0.001394</td>\n",
       "    </tr>\n",
       "    <tr>\n",
       "      <th>tot_cur_bal</th>\n",
       "      <td>0.330107</td>\n",
       "      <td>0.333025</td>\n",
       "      <td>0.118782</td>\n",
       "      <td>-0.044509</td>\n",
       "      <td>0.304369</td>\n",
       "      <td>0.123975</td>\n",
       "      <td>0.430930</td>\n",
       "      <td>-0.273124</td>\n",
       "      <td>0.035464</td>\n",
       "      <td>0.089490</td>\n",
       "      <td>0.139410</td>\n",
       "      <td>0.028150</td>\n",
       "      <td>0.253770</td>\n",
       "      <td>-0.038369</td>\n",
       "      <td>0.388440</td>\n",
       "      <td>0.081905</td>\n",
       "      <td>0.307253</td>\n",
       "      <td>0.245160</td>\n",
       "      <td>0.195941</td>\n",
       "      <td>0.174676</td>\n",
       "      <td>0.157871</td>\n",
       "      <td>-0.006713</td>\n",
       "      <td>-0.217038</td>\n",
       "      <td>0.123801</td>\n",
       "      <td>-0.157874</td>\n",
       "      <td>0.007563</td>\n",
       "      <td>0.030419</td>\n",
       "      <td>0.002398</td>\n",
       "      <td>1.000000</td>\n",
       "      <td>0.391980</td>\n",
       "      <td>-0.063741</td>\n",
       "    </tr>\n",
       "    <tr>\n",
       "      <th>total_rev_hi_lim</th>\n",
       "      <td>0.315523</td>\n",
       "      <td>0.317144</td>\n",
       "      <td>0.074892</td>\n",
       "      <td>-0.099807</td>\n",
       "      <td>0.297528</td>\n",
       "      <td>0.083717</td>\n",
       "      <td>0.278310</td>\n",
       "      <td>-0.167550</td>\n",
       "      <td>0.086543</td>\n",
       "      <td>-0.020224</td>\n",
       "      <td>0.162822</td>\n",
       "      <td>-0.006098</td>\n",
       "      <td>0.292539</td>\n",
       "      <td>-0.075173</td>\n",
       "      <td>0.754876</td>\n",
       "      <td>-0.092866</td>\n",
       "      <td>0.234983</td>\n",
       "      <td>0.194153</td>\n",
       "      <td>0.206216</td>\n",
       "      <td>0.193346</td>\n",
       "      <td>0.137175</td>\n",
       "      <td>-0.010161</td>\n",
       "      <td>-0.140636</td>\n",
       "      <td>0.096507</td>\n",
       "      <td>-0.095165</td>\n",
       "      <td>-0.004674</td>\n",
       "      <td>0.013608</td>\n",
       "      <td>-0.002187</td>\n",
       "      <td>0.391980</td>\n",
       "      <td>1.000000</td>\n",
       "      <td>-0.042336</td>\n",
       "    </tr>\n",
       "    <tr>\n",
       "      <th>bad</th>\n",
       "      <td>0.011819</td>\n",
       "      <td>0.011003</td>\n",
       "      <td>0.063565</td>\n",
       "      <td>0.172361</td>\n",
       "      <td>0.013936</td>\n",
       "      <td>-0.020623</td>\n",
       "      <td>-0.049863</td>\n",
       "      <td>0.087225</td>\n",
       "      <td>0.048102</td>\n",
       "      <td>0.001228</td>\n",
       "      <td>-0.033132</td>\n",
       "      <td>0.073099</td>\n",
       "      <td>-0.006170</td>\n",
       "      <td>-0.009110</td>\n",
       "      <td>-0.018348</td>\n",
       "      <td>0.050188</td>\n",
       "      <td>-0.023062</td>\n",
       "      <td>-0.158676</td>\n",
       "      <td>-0.194438</td>\n",
       "      <td>-0.253875</td>\n",
       "      <td>-0.026726</td>\n",
       "      <td>0.147750</td>\n",
       "      <td>0.242112</td>\n",
       "      <td>-0.168030</td>\n",
       "      <td>0.136462</td>\n",
       "      <td>-0.005119</td>\n",
       "      <td>-0.000197</td>\n",
       "      <td>-0.001394</td>\n",
       "      <td>-0.063741</td>\n",
       "      <td>-0.042336</td>\n",
       "      <td>1.000000</td>\n",
       "    </tr>\n",
       "  </tbody>\n",
       "</table>\n",
       "</div>"
      ],
      "text/plain": [
       "                            loan_amnt  funded_amnt      term  int_rate  \\\n",
       "loan_amnt                    1.000000     0.998548  0.412870  0.167183   \n",
       "funded_amnt                  0.998548     1.000000  0.410862  0.167921   \n",
       "term                         0.412870     0.410862  1.000000  0.443395   \n",
       "int_rate                     0.167183     0.167921  0.443395  1.000000   \n",
       "installment                  0.949666     0.951787  0.159631  0.148790   \n",
       "emp_length                   0.135590     0.135992  0.090521  0.025673   \n",
       "annual_inc                   0.370893     0.370311  0.069950 -0.046069   \n",
       "issue_d                     -0.129913    -0.137490 -0.087621 -0.072762   \n",
       "dti                          0.057319     0.058673  0.091912  0.159657   \n",
       "delinq_2yrs                  0.006869     0.007414  0.004149  0.079209   \n",
       "earliest_cr_line             0.159067     0.158089  0.051839 -0.077700   \n",
       "inq_last_6mths              -0.020269    -0.020910  0.010003  0.205677   \n",
       "open_acc                     0.204315     0.205117  0.077787  0.012447   \n",
       "pub_rec                     -0.081108    -0.080564 -0.022778  0.066712   \n",
       "revol_bal                    0.331423     0.331039  0.092577 -0.004589   \n",
       "revol_util                   0.117676     0.118803  0.084113  0.323249   \n",
       "total_acc                    0.235384     0.235258  0.101391 -0.032869   \n",
       "out_prncp                    0.518700     0.521451  0.434307  0.137427   \n",
       "total_pymnt                  0.743841     0.743363  0.174923  0.127035   \n",
       "total_rec_prncp              0.612777     0.612318  0.009798 -0.032130   \n",
       "total_rec_int                0.715876     0.715664  0.534333  0.485154   \n",
       "total_rec_late_fee           0.043650     0.043350  0.011915  0.057875   \n",
       "last_pymnt_d                -0.131981    -0.137659 -0.107388 -0.046715   \n",
       "last_pymnt_amnt              0.304243     0.304178  0.111597  0.075609   \n",
       "last_credit_pull_d          -0.087205    -0.091535 -0.064080 -0.050699   \n",
       "collections_12_mths_ex_med  -0.008039    -0.007794  0.000373  0.020319   \n",
       "acc_now_delinq               0.006288     0.006476  0.007726  0.030341   \n",
       "tot_coll_amt                -0.002024    -0.001989 -0.001435  0.001416   \n",
       "tot_cur_bal                  0.330107     0.333025  0.118782 -0.044509   \n",
       "total_rev_hi_lim             0.315523     0.317144  0.074892 -0.099807   \n",
       "bad                          0.011819     0.011003  0.063565  0.172361   \n",
       "\n",
       "                            installment  emp_length  annual_inc   issue_d  \\\n",
       "loan_amnt                      0.949666    0.135590    0.370893 -0.129913   \n",
       "funded_amnt                    0.951787    0.135992    0.370311 -0.137490   \n",
       "term                           0.159631    0.090521    0.069950 -0.087621   \n",
       "int_rate                       0.148790    0.025673   -0.046069 -0.072762   \n",
       "installment                    1.000000    0.118408    0.368145 -0.118169   \n",
       "emp_length                     0.118408    1.000000    0.100695 -0.073318   \n",
       "annual_inc                     0.368145    0.100695    1.000000 -0.034880   \n",
       "issue_d                       -0.118169   -0.073318   -0.034880  1.000000   \n",
       "dti                            0.049919    0.034140   -0.188542 -0.169432   \n",
       "delinq_2yrs                    0.017028    0.031677    0.058895 -0.079443   \n",
       "earliest_cr_line               0.141813    0.153782    0.153781  0.030261   \n",
       "inq_last_6mths                 0.002305   -0.012222    0.056674  0.108230   \n",
       "open_acc                       0.196975    0.056625    0.157761 -0.133788   \n",
       "pub_rec                       -0.070064    0.017057   -0.015437 -0.114001   \n",
       "revol_bal                      0.320239    0.095806    0.332316 -0.029703   \n",
       "revol_util                     0.136759    0.048299    0.037563 -0.049052   \n",
       "total_acc                      0.216034    0.112875    0.224657 -0.106050   \n",
       "out_prncp                      0.408838    0.086611    0.168317 -0.400534   \n",
       "total_pymnt                    0.764360    0.098056    0.299784  0.160444   \n",
       "total_rec_prncp                0.663399    0.076708    0.275824  0.173026   \n",
       "total_rec_int                  0.641948    0.107122    0.212952  0.034342   \n",
       "total_rec_late_fee             0.052341   -0.008576    0.020273  0.065037   \n",
       "last_pymnt_d                  -0.112131   -0.075045   -0.027586  0.758816   \n",
       "last_pymnt_amnt                0.299867    0.050227    0.142156  0.012640   \n",
       "last_credit_pull_d            -0.079230   -0.067158   -0.019867  0.567088   \n",
       "collections_12_mths_ex_med    -0.006028   -0.001441   -0.000445 -0.050984   \n",
       "acc_now_delinq                 0.008927    0.009519    0.017133 -0.028367   \n",
       "tot_coll_amt                  -0.001522   -0.001356    0.001907 -0.006587   \n",
       "tot_cur_bal                    0.304369    0.123975    0.430930 -0.273124   \n",
       "total_rev_hi_lim               0.297528    0.083717    0.278310 -0.167550   \n",
       "bad                            0.013936   -0.020623   -0.049863  0.087225   \n",
       "\n",
       "                                 dti  delinq_2yrs  earliest_cr_line  \\\n",
       "loan_amnt                   0.057319     0.006869          0.159067   \n",
       "funded_amnt                 0.058673     0.007414          0.158089   \n",
       "term                        0.091912     0.004149          0.051839   \n",
       "int_rate                    0.159657     0.079209         -0.077700   \n",
       "installment                 0.049919     0.017028          0.141813   \n",
       "emp_length                  0.034140     0.031677          0.153782   \n",
       "annual_inc                 -0.188542     0.058895          0.153781   \n",
       "issue_d                    -0.169432    -0.079443          0.030261   \n",
       "dti                         1.000000    -0.003667          0.023958   \n",
       "delinq_2yrs                -0.003667     1.000000          0.077217   \n",
       "earliest_cr_line            0.023958     0.077217          1.000000   \n",
       "inq_last_6mths             -0.012485     0.018001          0.004326   \n",
       "open_acc                    0.304018     0.059174          0.122559   \n",
       "pub_rec                    -0.046166    -0.010803          0.048160   \n",
       "revol_bal                   0.143380    -0.031103          0.181675   \n",
       "revol_util                  0.200284    -0.013167          0.000703   \n",
       "total_acc                   0.228337     0.130822          0.260332   \n",
       "out_prncp                   0.119984     0.043871          0.082432   \n",
       "total_pymnt                -0.026007    -0.019676          0.127742   \n",
       "total_rec_prncp            -0.063895    -0.032080          0.114389   \n",
       "total_rec_int               0.089582     0.024292          0.100961   \n",
       "total_rec_late_fee         -0.005747     0.024388         -0.003734   \n",
       "last_pymnt_d               -0.152255    -0.058138         -0.006784   \n",
       "last_pymnt_amnt            -0.043068    -0.013728          0.033891   \n",
       "last_credit_pull_d         -0.134059    -0.044248         -0.007240   \n",
       "collections_12_mths_ex_med  0.000335     0.039132          0.005055   \n",
       "acc_now_delinq              0.009494     0.126533          0.020289   \n",
       "tot_coll_amt               -0.002506     0.000427          0.002201   \n",
       "tot_cur_bal                 0.035464     0.089490          0.139410   \n",
       "total_rev_hi_lim            0.086543    -0.020224          0.162822   \n",
       "bad                         0.048102     0.001228         -0.033132   \n",
       "\n",
       "                            inq_last_6mths  open_acc   pub_rec  revol_bal  \\\n",
       "loan_amnt                        -0.020269  0.204315 -0.081108   0.331423   \n",
       "funded_amnt                      -0.020910  0.205117 -0.080564   0.331039   \n",
       "term                              0.010003  0.077787 -0.022778   0.092577   \n",
       "int_rate                          0.205677  0.012447  0.066712  -0.004589   \n",
       "installment                       0.002305  0.196975 -0.070064   0.320239   \n",
       "emp_length                       -0.012222  0.056625  0.017057   0.095806   \n",
       "annual_inc                        0.056674  0.157761 -0.015437   0.332316   \n",
       "issue_d                           0.108230 -0.133788 -0.114001  -0.029703   \n",
       "dti                              -0.012485  0.304018 -0.046166   0.143380   \n",
       "delinq_2yrs                       0.018001  0.059174 -0.010803  -0.031103   \n",
       "earliest_cr_line                  0.004326  0.122559  0.048160   0.181675   \n",
       "inq_last_6mths                    1.000000  0.092875  0.038341  -0.015679   \n",
       "open_acc                          0.092875  1.000000 -0.030429   0.222972   \n",
       "pub_rec                           0.038341 -0.030429  1.000000  -0.097961   \n",
       "revol_bal                        -0.015679  0.222972 -0.097961   1.000000   \n",
       "revol_util                       -0.094671 -0.124220 -0.062495   0.206277   \n",
       "total_acc                         0.124151  0.682209  0.007300   0.198700   \n",
       "out_prncp                        -0.070368  0.144628  0.002380   0.181301   \n",
       "total_pymnt                       0.020683  0.120298 -0.091161   0.242186   \n",
       "total_rec_prncp                   0.005340  0.097306 -0.088757   0.209922   \n",
       "total_rec_int                     0.044105  0.121888 -0.049250   0.206982   \n",
       "total_rec_late_fee                0.029926 -0.006625 -0.011815   0.005889   \n",
       "last_pymnt_d                      0.137112 -0.104776 -0.072327  -0.038590   \n",
       "last_pymnt_amnt                   0.041252  0.054958 -0.027225   0.087132   \n",
       "last_credit_pull_d                0.084226 -0.098223 -0.063850  -0.028863   \n",
       "collections_12_mths_ex_med       -0.001825  0.011868  0.021528  -0.016146   \n",
       "acc_now_delinq                   -0.006915  0.018199  0.002349   0.001003   \n",
       "tot_coll_amt                      0.001323  0.000185  0.004373  -0.003635   \n",
       "tot_cur_bal                       0.028150  0.253770 -0.038369   0.388440   \n",
       "total_rev_hi_lim                 -0.006098  0.292539 -0.075173   0.754876   \n",
       "bad                               0.073099 -0.006170 -0.009110  -0.018348   \n",
       "\n",
       "                            revol_util  total_acc  out_prncp  total_pymnt  \\\n",
       "loan_amnt                     0.117676   0.235384   0.518700     0.743841   \n",
       "funded_amnt                   0.118803   0.235258   0.521451     0.743363   \n",
       "term                          0.084113   0.101391   0.434307     0.174923   \n",
       "int_rate                      0.323249  -0.032869   0.137427     0.127035   \n",
       "installment                   0.136759   0.216034   0.408838     0.764360   \n",
       "emp_length                    0.048299   0.112875   0.086611     0.098056   \n",
       "annual_inc                    0.037563   0.224657   0.168317     0.299784   \n",
       "issue_d                      -0.049052  -0.106050  -0.400534     0.160444   \n",
       "dti                           0.200284   0.228337   0.119984    -0.026007   \n",
       "delinq_2yrs                  -0.013167   0.130822   0.043871    -0.019676   \n",
       "earliest_cr_line              0.000703   0.260332   0.082432     0.127742   \n",
       "inq_last_6mths               -0.094671   0.124151  -0.070368     0.020683   \n",
       "open_acc                     -0.124220   0.682209   0.144628     0.120298   \n",
       "pub_rec                      -0.062495   0.007300   0.002380    -0.091161   \n",
       "revol_bal                     0.206277   0.198700   0.181301     0.242186   \n",
       "revol_util                    1.000000  -0.094281   0.096678     0.085911   \n",
       "total_acc                    -0.094281   1.000000   0.123472     0.168762   \n",
       "out_prncp                     0.096678   0.123472   1.000000    -0.022072   \n",
       "total_pymnt                   0.085911   0.168762  -0.022072     1.000000   \n",
       "total_rec_prncp               0.024332   0.152288  -0.189933     0.956658   \n",
       "total_rec_int                 0.209599   0.126939   0.488106     0.624423   \n",
       "total_rec_late_fee            0.024642  -0.005646  -0.006700     0.026158   \n",
       "last_pymnt_d                 -0.083876  -0.059397  -0.430692     0.035834   \n",
       "last_pymnt_amnt              -0.010454   0.113064  -0.317381     0.614276   \n",
       "last_credit_pull_d           -0.092490  -0.078190  -0.287768     0.034281   \n",
       "collections_12_mths_ex_med   -0.027665   0.013283   0.020346    -0.024729   \n",
       "acc_now_delinq               -0.022747   0.027722   0.016478    -0.004289   \n",
       "tot_coll_amt                 -0.005136   0.005128   0.000633    -0.002591   \n",
       "tot_cur_bal                   0.081905   0.307253   0.245160     0.195941   \n",
       "total_rev_hi_lim             -0.092866   0.234983   0.194153     0.206216   \n",
       "bad                           0.050188  -0.023062  -0.158676    -0.194438   \n",
       "\n",
       "                            total_rec_prncp  total_rec_int  \\\n",
       "loan_amnt                          0.612777       0.715876   \n",
       "funded_amnt                        0.612318       0.715664   \n",
       "term                               0.009798       0.534333   \n",
       "int_rate                          -0.032130       0.485154   \n",
       "installment                        0.663399       0.641948   \n",
       "emp_length                         0.076708       0.107122   \n",
       "annual_inc                         0.275824       0.212952   \n",
       "issue_d                            0.173026       0.034342   \n",
       "dti                               -0.063895       0.089582   \n",
       "delinq_2yrs                       -0.032080       0.024292   \n",
       "earliest_cr_line                   0.114389       0.100961   \n",
       "inq_last_6mths                     0.005340       0.044105   \n",
       "open_acc                           0.097306       0.121888   \n",
       "pub_rec                           -0.088757      -0.049250   \n",
       "revol_bal                          0.209922       0.206982   \n",
       "revol_util                         0.024332       0.209599   \n",
       "total_acc                          0.152288       0.126939   \n",
       "out_prncp                         -0.189933       0.488106   \n",
       "total_pymnt                        0.956658       0.624423   \n",
       "total_rec_prncp                    1.000000       0.378304   \n",
       "total_rec_int                      0.378304       1.000000   \n",
       "total_rec_late_fee                -0.001048       0.071734   \n",
       "last_pymnt_d                       0.109514      -0.222656   \n",
       "last_pymnt_amnt                    0.709676       0.050888   \n",
       "last_credit_pull_d                 0.082026      -0.149003   \n",
       "collections_12_mths_ex_med        -0.026160      -0.008005   \n",
       "acc_now_delinq                    -0.008614       0.009493   \n",
       "tot_coll_amt                      -0.002335      -0.001864   \n",
       "tot_cur_bal                        0.174676       0.157871   \n",
       "total_rev_hi_lim                   0.193346       0.137175   \n",
       "bad                               -0.253875      -0.026726   \n",
       "\n",
       "                            total_rec_late_fee  last_pymnt_d  last_pymnt_amnt  \\\n",
       "loan_amnt                             0.043650     -0.131981         0.304243   \n",
       "funded_amnt                           0.043350     -0.137659         0.304178   \n",
       "term                                  0.011915     -0.107388         0.111597   \n",
       "int_rate                              0.057875     -0.046715         0.075609   \n",
       "installment                           0.052341     -0.112131         0.299867   \n",
       "emp_length                           -0.008576     -0.075045         0.050227   \n",
       "annual_inc                            0.020273     -0.027586         0.142156   \n",
       "issue_d                               0.065037      0.758816         0.012640   \n",
       "dti                                  -0.005747     -0.152255        -0.043068   \n",
       "delinq_2yrs                           0.024388     -0.058138        -0.013728   \n",
       "earliest_cr_line                     -0.003734     -0.006784         0.033891   \n",
       "inq_last_6mths                        0.029926      0.137112         0.041252   \n",
       "open_acc                             -0.006625     -0.104776         0.054958   \n",
       "pub_rec                              -0.011815     -0.072327        -0.027225   \n",
       "revol_bal                             0.005889     -0.038590         0.087132   \n",
       "revol_util                            0.024642     -0.083876        -0.010454   \n",
       "total_acc                            -0.005646     -0.059397         0.113064   \n",
       "out_prncp                            -0.006700     -0.430692        -0.317381   \n",
       "total_pymnt                           0.026158      0.035834         0.614276   \n",
       "total_rec_prncp                      -0.001048      0.109514         0.709676   \n",
       "total_rec_int                         0.071734     -0.222656         0.050888   \n",
       "total_rec_late_fee                    1.000000      0.040533        -0.034820   \n",
       "last_pymnt_d                          0.040533      1.000000         0.265696   \n",
       "last_pymnt_amnt                      -0.034820      0.265696         1.000000   \n",
       "last_credit_pull_d                    0.038063      0.706771         0.172823   \n",
       "collections_12_mths_ex_med           -0.000557     -0.033515        -0.009789   \n",
       "acc_now_delinq                        0.003450     -0.018805        -0.000996   \n",
       "tot_coll_amt                         -0.000608     -0.004663        -0.001405   \n",
       "tot_cur_bal                          -0.006713     -0.217038         0.123801   \n",
       "total_rev_hi_lim                     -0.010161     -0.140636         0.096507   \n",
       "bad                                   0.147750      0.242112        -0.168030   \n",
       "\n",
       "                            last_credit_pull_d  collections_12_mths_ex_med  \\\n",
       "loan_amnt                            -0.087205                   -0.008039   \n",
       "funded_amnt                          -0.091535                   -0.007794   \n",
       "term                                 -0.064080                    0.000373   \n",
       "int_rate                             -0.050699                    0.020319   \n",
       "installment                          -0.079230                   -0.006028   \n",
       "emp_length                           -0.067158                   -0.001441   \n",
       "annual_inc                           -0.019867                   -0.000445   \n",
       "issue_d                               0.567088                   -0.050984   \n",
       "dti                                  -0.134059                    0.000335   \n",
       "delinq_2yrs                          -0.044248                    0.039132   \n",
       "earliest_cr_line                     -0.007240                    0.005055   \n",
       "inq_last_6mths                        0.084226                   -0.001825   \n",
       "open_acc                             -0.098223                    0.011868   \n",
       "pub_rec                              -0.063850                    0.021528   \n",
       "revol_bal                            -0.028863                   -0.016146   \n",
       "revol_util                           -0.092490                   -0.027665   \n",
       "total_acc                            -0.078190                    0.013283   \n",
       "out_prncp                            -0.287768                    0.020346   \n",
       "total_pymnt                           0.034281                   -0.024729   \n",
       "total_rec_prncp                       0.082026                   -0.026160   \n",
       "total_rec_int                        -0.149003                   -0.008005   \n",
       "total_rec_late_fee                    0.038063                   -0.000557   \n",
       "last_pymnt_d                          0.706771                   -0.033515   \n",
       "last_pymnt_amnt                       0.172823                   -0.009789   \n",
       "last_credit_pull_d                    1.000000                   -0.024490   \n",
       "collections_12_mths_ex_med           -0.024490                    1.000000   \n",
       "acc_now_delinq                       -0.012303                    0.019287   \n",
       "tot_coll_amt                         -0.003534                    0.006896   \n",
       "tot_cur_bal                          -0.157874                    0.007563   \n",
       "total_rev_hi_lim                     -0.095165                   -0.004674   \n",
       "bad                                   0.136462                   -0.005119   \n",
       "\n",
       "                            acc_now_delinq  tot_coll_amt  tot_cur_bal  \\\n",
       "loan_amnt                         0.006288     -0.002024     0.330107   \n",
       "funded_amnt                       0.006476     -0.001989     0.333025   \n",
       "term                              0.007726     -0.001435     0.118782   \n",
       "int_rate                          0.030341      0.001416    -0.044509   \n",
       "installment                       0.008927     -0.001522     0.304369   \n",
       "emp_length                        0.009519     -0.001356     0.123975   \n",
       "annual_inc                        0.017133      0.001907     0.430930   \n",
       "issue_d                          -0.028367     -0.006587    -0.273124   \n",
       "dti                               0.009494     -0.002506     0.035464   \n",
       "delinq_2yrs                       0.126533      0.000427     0.089490   \n",
       "earliest_cr_line                  0.020289      0.002201     0.139410   \n",
       "inq_last_6mths                   -0.006915      0.001323     0.028150   \n",
       "open_acc                          0.018199      0.000185     0.253770   \n",
       "pub_rec                           0.002349      0.004373    -0.038369   \n",
       "revol_bal                         0.001003     -0.003635     0.388440   \n",
       "revol_util                       -0.022747     -0.005136     0.081905   \n",
       "total_acc                         0.027722      0.005128     0.307253   \n",
       "out_prncp                         0.016478      0.000633     0.245160   \n",
       "total_pymnt                      -0.004289     -0.002591     0.195941   \n",
       "total_rec_prncp                  -0.008614     -0.002335     0.174676   \n",
       "total_rec_int                     0.009493     -0.001864     0.157871   \n",
       "total_rec_late_fee                0.003450     -0.000608    -0.006713   \n",
       "last_pymnt_d                     -0.018805     -0.004663    -0.217038   \n",
       "last_pymnt_amnt                  -0.000996     -0.001405     0.123801   \n",
       "last_credit_pull_d               -0.012303     -0.003534    -0.157874   \n",
       "collections_12_mths_ex_med        0.019287      0.006896     0.007563   \n",
       "acc_now_delinq                    1.000000      0.000106     0.030419   \n",
       "tot_coll_amt                      0.000106      1.000000     0.002398   \n",
       "tot_cur_bal                       0.030419      0.002398     1.000000   \n",
       "total_rev_hi_lim                  0.013608     -0.002187     0.391980   \n",
       "bad                              -0.000197     -0.001394    -0.063741   \n",
       "\n",
       "                            total_rev_hi_lim       bad  \n",
       "loan_amnt                           0.315523  0.011819  \n",
       "funded_amnt                         0.317144  0.011003  \n",
       "term                                0.074892  0.063565  \n",
       "int_rate                           -0.099807  0.172361  \n",
       "installment                         0.297528  0.013936  \n",
       "emp_length                          0.083717 -0.020623  \n",
       "annual_inc                          0.278310 -0.049863  \n",
       "issue_d                            -0.167550  0.087225  \n",
       "dti                                 0.086543  0.048102  \n",
       "delinq_2yrs                        -0.020224  0.001228  \n",
       "earliest_cr_line                    0.162822 -0.033132  \n",
       "inq_last_6mths                     -0.006098  0.073099  \n",
       "open_acc                            0.292539 -0.006170  \n",
       "pub_rec                            -0.075173 -0.009110  \n",
       "revol_bal                           0.754876 -0.018348  \n",
       "revol_util                         -0.092866  0.050188  \n",
       "total_acc                           0.234983 -0.023062  \n",
       "out_prncp                           0.194153 -0.158676  \n",
       "total_pymnt                         0.206216 -0.194438  \n",
       "total_rec_prncp                     0.193346 -0.253875  \n",
       "total_rec_int                       0.137175 -0.026726  \n",
       "total_rec_late_fee                 -0.010161  0.147750  \n",
       "last_pymnt_d                       -0.140636  0.242112  \n",
       "last_pymnt_amnt                     0.096507 -0.168030  \n",
       "last_credit_pull_d                 -0.095165  0.136462  \n",
       "collections_12_mths_ex_med         -0.004674 -0.005119  \n",
       "acc_now_delinq                      0.013608 -0.000197  \n",
       "tot_coll_amt                       -0.002187 -0.001394  \n",
       "tot_cur_bal                         0.391980 -0.063741  \n",
       "total_rev_hi_lim                    1.000000 -0.042336  \n",
       "bad                                -0.042336  1.000000  "
      ]
     },
     "execution_count": 177,
     "metadata": {},
     "output_type": "execute_result"
    }
   ],
   "source": [
    "# check correlation between features\n",
    "numerical = df1.select_dtypes(exclude='object')\n",
    "corr = numerical.corr()\n",
    "corr"
   ]
  },
  {
   "cell_type": "code",
   "execution_count": 178,
   "id": "8c8c794f-8c14-4992-8cad-aaaaaf6a52e6",
   "metadata": {},
   "outputs": [
    {
     "data": {
      "text/plain": [
       "<Axes: >"
      ]
     },
     "execution_count": 178,
     "metadata": {},
     "output_type": "execute_result"
    },
    {
     "data": {
      "image/png": "[encoded data removed]",
      "text/plain": [
       "<Figure size 2000x2000 with 2 Axes>"
      ]
     },
     "metadata": {},
     "output_type": "display_data"
    }
   ],
   "source": [
    "#create and apply mask\n",
    "mask = corr.where(np.triu(np.ones(corr.shape, dtype=bool), k=1))\n",
    "\n",
    "#create heatmap\n",
    "plt.figure(figsize=(20,20))\n",
    "sns.heatmap(mask, cmap='coolwarm', annot=True, fmt='.1f')"
   ]
  },
  {
   "cell_type": "markdown",
   "id": "7dcbc0cd-8b0f-46d4-9256-37ec1b1ccd00",
   "metadata": {},
   "source": [
    "Multicollinearity: loan_amnt & installment, funded_amnt & installment, installment & total_pymnt, total_pymnt & total_rec_prncp, issue_d & last_payment_d, revol_bal & total_rev_hi_lim"
   ]
  },
  {
   "cell_type": "code",
   "execution_count": 179,
   "id": "67e1bb5f-f26e-4d24-9199-678142d19a1d",
   "metadata": {},
   "outputs": [],
   "source": [
    "# drop redundant features\n",
    "df2 = df1.copy()\n",
    "df2.drop(['installment', 'total_rec_prncp', 'last_pymnt_d', 'revol_bal'], axis=1, inplace=True)"
   ]
  },
  {
   "cell_type": "markdown",
   "id": "155bd55c-9952-4b05-b3be-a00de6ce7770",
   "metadata": {},
   "source": [
    "# Feature Encoding"
   ]
  },
  {
   "cell_type": "markdown",
   "id": "1044700b-445d-4de0-9c77-956ea3ae8725",
   "metadata": {},
   "source": [
    "## Purpose"
   ]
  },
  {
   "cell_type": "code",
   "execution_count": 180,
   "id": "e3ef9e13-4739-46ac-aebd-23bd41d8d82b",
   "metadata": {},
   "outputs": [],
   "source": [
    "# one-hot encoding 'purpose'\n",
    "dummy_purpose = pd.get_dummies(df2['purpose'], prefix='prps', dtype=int)\n",
    "df2 = pd.concat([df2, dummy_purpose], axis=1)"
   ]
  },
  {
   "cell_type": "code",
   "execution_count": 181,
   "id": "2d5ac0ee-190a-4e49-ac5c-79277086a8d5",
   "metadata": {},
   "outputs": [],
   "source": [
    "df2.drop(['purpose'], axis=1, inplace=True)"
   ]
  },
  {
   "cell_type": "markdown",
   "id": "14f489d3-636c-41bc-82bc-08ca610e5b79",
   "metadata": {},
   "source": [
    "## Grade"
   ]
  },
  {
   "cell_type": "code",
   "execution_count": 182,
   "id": "dff98b4e-2a45-438a-942a-24d33f0045de",
   "metadata": {},
   "outputs": [
    {
     "data": {
      "text/plain": [
       "array(['B', 'C', 'A', 'E', 'F', 'D', 'G'], dtype=object)"
      ]
     },
     "execution_count": 182,
     "metadata": {},
     "output_type": "execute_result"
    }
   ],
   "source": [
    "df2['grade'].unique()"
   ]
  },
  {
   "cell_type": "markdown",
   "id": "7174ad19-040e-4d03-b79a-6b69d0ec9b0c",
   "metadata": {},
   "source": [
    "Loans graded A have the lowest expected risk of loss."
   ]
  },
  {
   "cell_type": "code",
   "execution_count": 183,
   "id": "d577b944-b076-4fa6-bab2-ed7f8cc4e268",
   "metadata": {},
   "outputs": [],
   "source": [
    "# label encoding 'grade'\n",
    "from sklearn.preprocessing import LabelEncoder\n",
    "\n",
    "le = LabelEncoder()\n",
    "df2['grade']=le.fit_transform(df2['grade'])"
   ]
  },
  {
   "cell_type": "code",
   "execution_count": 184,
   "id": "d2dc5cd3-1875-4e34-ad76-27edb2164dad",
   "metadata": {},
   "outputs": [
    {
     "data": {
      "text/plain": [
       "array([1, 2, 0, 4, 5, 3, 6])"
      ]
     },
     "execution_count": 184,
     "metadata": {},
     "output_type": "execute_result"
    }
   ],
   "source": [
    "df2['grade'].unique()"
   ]
  },
  {
   "cell_type": "markdown",
   "id": "a0920716-c39e-4aad-890a-1d7db7846a6a",
   "metadata": {},
   "source": [
    "## Home_ownership"
   ]
  },
  {
   "cell_type": "code",
   "execution_count": 185,
   "id": "98fb8743-b63c-4223-8a40-455e372e8e95",
   "metadata": {},
   "outputs": [],
   "source": [
    "# one-hot encoding 'home_ownership'\n",
    "dummy_home = pd.get_dummies(df2['home_ownership'], prefix='home', dtype=int)\n",
    "df2 = pd.concat([df2, dummy_home], axis=1)"
   ]
  },
  {
   "cell_type": "code",
   "execution_count": 186,
   "id": "8b728773-a6f1-4653-ac5a-27fdd9cb7e16",
   "metadata": {},
   "outputs": [],
   "source": [
    "df2.drop(['home_ownership'], axis=1, inplace=True)"
   ]
  },
  {
   "cell_type": "markdown",
   "id": "d51bcbc9-e60f-41f6-ba63-dff8219f213c",
   "metadata": {},
   "source": [
    "## Verification_status"
   ]
  },
  {
   "cell_type": "code",
   "execution_count": 187,
   "id": "50fa54a5-2399-430c-8bb4-f04738208941",
   "metadata": {},
   "outputs": [],
   "source": [
    "# label encoding 'verification_status'\n",
    "map_ver = {'Not Verified':0, 'Verified':1, 'Source Verified':1}\n",
    "df2['verification_status'] = df2['verification_status'].map(map_ver)"
   ]
  },
  {
   "cell_type": "code",
   "execution_count": 188,
   "id": "0c47e17c-c8b9-477e-aa13-8a6fca226519",
   "metadata": {},
   "outputs": [
    {
     "data": {
      "text/plain": [
       "array([1, 0], dtype=int64)"
      ]
     },
     "execution_count": 188,
     "metadata": {},
     "output_type": "execute_result"
    }
   ],
   "source": [
    "df2['verification_status'].unique()"
   ]
  },
  {
   "cell_type": "markdown",
   "id": "018f7a80-ced8-4f76-bbcd-a56244a0e0e8",
   "metadata": {},
   "source": [
    "## List_status"
   ]
  },
  {
   "cell_type": "code",
   "execution_count": 189,
   "id": "b8941963-191b-4702-9909-90ad9c82669c",
   "metadata": {},
   "outputs": [],
   "source": [
    "# label encoding 'initial_list_status'\n",
    "df2['initial_list_status']=le.fit_transform(df2['initial_list_status'])"
   ]
  },
  {
   "cell_type": "code",
   "execution_count": 190,
   "id": "c7dfc98b-8dab-4384-9099-d6d5f1ad3ea7",
   "metadata": {},
   "outputs": [
    {
     "data": {
      "text/plain": [
       "array([0, 1])"
      ]
     },
     "execution_count": 190,
     "metadata": {},
     "output_type": "execute_result"
    }
   ],
   "source": [
    "df2['initial_list_status'].unique()"
   ]
  },
  {
   "cell_type": "code",
   "execution_count": 191,
   "id": "d0f6631d-6843-47ad-b10c-28bb1619d0ad",
   "metadata": {},
   "outputs": [
    {
     "data": {
      "text/plain": [
       "(466285, 50)"
      ]
     },
     "execution_count": 191,
     "metadata": {},
     "output_type": "execute_result"
    }
   ],
   "source": [
    "df2.shape"
   ]
  },
  {
   "cell_type": "code",
   "execution_count": 192,
   "id": "50a5b303-d212-4dad-ab61-59b299f00f93",
   "metadata": {},
   "outputs": [
    {
     "name": "stdout",
     "output_type": "stream",
     "text": [
      "<class 'pandas.core.frame.DataFrame'>\n",
      "RangeIndex: 466285 entries, 0 to 466284\n",
      "Data columns (total 50 columns):\n",
      " #   Column                      Non-Null Count   Dtype  \n",
      "---  ------                      --------------   -----  \n",
      " 0   loan_amnt                   466285 non-null  int64  \n",
      " 1   funded_amnt                 466285 non-null  int64  \n",
      " 2   term                        466285 non-null  int64  \n",
      " 3   int_rate                    466285 non-null  float64\n",
      " 4   grade                       466285 non-null  int32  \n",
      " 5   emp_length                  466285 non-null  float64\n",
      " 6   annual_inc                  466285 non-null  float64\n",
      " 7   verification_status         466285 non-null  int64  \n",
      " 8   issue_d                     466285 non-null  int32  \n",
      " 9   dti                         466285 non-null  float64\n",
      " 10  delinq_2yrs                 466285 non-null  float64\n",
      " 11  earliest_cr_line            466285 non-null  int32  \n",
      " 12  inq_last_6mths              466285 non-null  float64\n",
      " 13  open_acc                    466285 non-null  float64\n",
      " 14  pub_rec                     466285 non-null  float64\n",
      " 15  revol_util                  466285 non-null  float64\n",
      " 16  total_acc                   466285 non-null  float64\n",
      " 17  initial_list_status         466285 non-null  int32  \n",
      " 18  out_prncp                   466285 non-null  float64\n",
      " 19  total_pymnt                 466285 non-null  float64\n",
      " 20  total_rec_int               466285 non-null  float64\n",
      " 21  total_rec_late_fee          466285 non-null  float64\n",
      " 22  last_pymnt_amnt             466285 non-null  float64\n",
      " 23  last_credit_pull_d          466285 non-null  int32  \n",
      " 24  collections_12_mths_ex_med  466285 non-null  float64\n",
      " 25  acc_now_delinq              466285 non-null  float64\n",
      " 26  tot_coll_amt                466285 non-null  float64\n",
      " 27  tot_cur_bal                 466285 non-null  float64\n",
      " 28  total_rev_hi_lim            466285 non-null  float64\n",
      " 29  bad                         466285 non-null  int32  \n",
      " 30  prps_car                    466285 non-null  int32  \n",
      " 31  prps_credit_card            466285 non-null  int32  \n",
      " 32  prps_debt_consolidation     466285 non-null  int32  \n",
      " 33  prps_educational            466285 non-null  int32  \n",
      " 34  prps_home_improvement       466285 non-null  int32  \n",
      " 35  prps_house                  466285 non-null  int32  \n",
      " 36  prps_major_purchase         466285 non-null  int32  \n",
      " 37  prps_medical                466285 non-null  int32  \n",
      " 38  prps_moving                 466285 non-null  int32  \n",
      " 39  prps_other                  466285 non-null  int32  \n",
      " 40  prps_renewable_energy       466285 non-null  int32  \n",
      " 41  prps_small_business         466285 non-null  int32  \n",
      " 42  prps_vacation               466285 non-null  int32  \n",
      " 43  prps_wedding                466285 non-null  int32  \n",
      " 44  home_ANY                    466285 non-null  int32  \n",
      " 45  home_MORTGAGE               466285 non-null  int32  \n",
      " 46  home_NONE                   466285 non-null  int32  \n",
      " 47  home_OTHER                  466285 non-null  int32  \n",
      " 48  home_OWN                    466285 non-null  int32  \n",
      " 49  home_RENT                   466285 non-null  int32  \n",
      "dtypes: float64(20), int32(26), int64(4)\n",
      "memory usage: 131.6 MB\n"
     ]
    }
   ],
   "source": [
    "df2.info()"
   ]
  },
  {
   "cell_type": "markdown",
   "id": "9f1a7efd-88a0-4be9-ad1c-0a886893c135",
   "metadata": {},
   "source": [
    "# Feature Scaling"
   ]
  },
  {
   "cell_type": "code",
   "execution_count": 193,
   "id": "68b4c4f6-99f1-463e-bc6c-7117d5de8451",
   "metadata": {},
   "outputs": [],
   "source": [
    "from sklearn.preprocessing import MinMaxScaler, StandardScaler"
   ]
  },
  {
   "cell_type": "code",
   "execution_count": 194,
   "id": "afc55810-6c05-4075-9c50-53afaa11022f",
   "metadata": {},
   "outputs": [],
   "source": [
    "categorical_cols = [col for col in df2.select_dtypes(include='object').columns.tolist()]\n",
    "numerical_cols = [col for col in df2.columns.tolist() if col not in categorical_cols + ['bad']]"
   ]
  },
  {
   "cell_type": "code",
   "execution_count": 195,
   "id": "a4638bfc-8499-4579-9348-eeaa55584558",
   "metadata": {},
   "outputs": [],
   "source": [
    "# normalize all numerical data\n",
    "scaler = StandardScaler()\n",
    "\n",
    "df2[numerical_cols] = scaler.fit_transform(df2[numerical_cols])"
   ]
  },
  {
   "cell_type": "code",
   "execution_count": 94,
   "id": "64d11de6-5f10-4bae-91ac-9604ef285157",
   "metadata": {},
   "outputs": [
    {
     "data": {
      "text/html": [
       "<div>\n",
       "<style scoped>\n",
       "    .dataframe tbody tr th:only-of-type {\n",
       "        vertical-align: middle;\n",
       "    }\n",
       "\n",
       "    .dataframe tbody tr th {\n",
       "        vertical-align: top;\n",
       "    }\n",
       "\n",
       "    .dataframe thead th {\n",
       "        text-align: right;\n",
       "    }\n",
       "</style>\n",
       "<table border=\"1\" class=\"dataframe\">\n",
       "  <thead>\n",
       "    <tr style=\"text-align: right;\">\n",
       "      <th></th>\n",
       "      <th>loan_amnt</th>\n",
       "      <th>funded_amnt</th>\n",
       "      <th>term</th>\n",
       "      <th>int_rate</th>\n",
       "      <th>grade</th>\n",
       "      <th>emp_length</th>\n",
       "      <th>annual_inc</th>\n",
       "      <th>verification_status</th>\n",
       "      <th>issue_d</th>\n",
       "      <th>dti</th>\n",
       "      <th>delinq_2yrs</th>\n",
       "      <th>earliest_cr_line</th>\n",
       "      <th>inq_last_6mths</th>\n",
       "      <th>open_acc</th>\n",
       "      <th>pub_rec</th>\n",
       "      <th>revol_util</th>\n",
       "      <th>total_acc</th>\n",
       "      <th>initial_list_status</th>\n",
       "      <th>out_prncp</th>\n",
       "      <th>total_pymnt</th>\n",
       "      <th>total_rec_int</th>\n",
       "      <th>total_rec_late_fee</th>\n",
       "      <th>last_pymnt_amnt</th>\n",
       "      <th>last_credit_pull_d</th>\n",
       "      <th>collections_12_mths_ex_med</th>\n",
       "      <th>acc_now_delinq</th>\n",
       "      <th>tot_coll_amt</th>\n",
       "      <th>tot_cur_bal</th>\n",
       "      <th>total_rev_hi_lim</th>\n",
       "      <th>bad</th>\n",
       "      <th>prps_car</th>\n",
       "      <th>prps_credit_card</th>\n",
       "      <th>prps_debt_consolidation</th>\n",
       "      <th>prps_educational</th>\n",
       "      <th>prps_home_improvement</th>\n",
       "      <th>prps_house</th>\n",
       "      <th>prps_major_purchase</th>\n",
       "      <th>prps_medical</th>\n",
       "      <th>prps_moving</th>\n",
       "      <th>prps_other</th>\n",
       "      <th>prps_renewable_energy</th>\n",
       "      <th>prps_small_business</th>\n",
       "      <th>prps_vacation</th>\n",
       "      <th>prps_wedding</th>\n",
       "      <th>home_ANY</th>\n",
       "      <th>home_MORTGAGE</th>\n",
       "      <th>home_NONE</th>\n",
       "      <th>home_OTHER</th>\n",
       "      <th>home_OWN</th>\n",
       "      <th>home_RENT</th>\n",
       "    </tr>\n",
       "  </thead>\n",
       "  <tbody>\n",
       "    <tr>\n",
       "      <th>0</th>\n",
       "      <td>-1.124392</td>\n",
       "      <td>-1.122963</td>\n",
       "      <td>-0.616225</td>\n",
       "      <td>-0.729587</td>\n",
       "      <td>-0.618831</td>\n",
       "      <td>1.145732</td>\n",
       "      <td>-0.896549</td>\n",
       "      <td>0.682703</td>\n",
       "      <td>1.433732</td>\n",
       "      <td>1.328632</td>\n",
       "      <td>-0.357012</td>\n",
       "      <td>1.655900</td>\n",
       "      <td>0.178920</td>\n",
       "      <td>-1.641166</td>\n",
       "      <td>-0.31429</td>\n",
       "      <td>1.160093</td>\n",
       "      <td>-1.384557</td>\n",
       "      <td>-0.734077</td>\n",
       "      <td>-0.693944</td>\n",
       "      <td>-0.687137</td>\n",
       "      <td>-0.695548</td>\n",
       "      <td>-0.123464</td>\n",
       "      <td>-0.531492</td>\n",
       "      <td>-0.419305</td>\n",
       "      <td>-0.083608</td>\n",
       "      <td>-0.058307</td>\n",
       "      <td>-0.012089</td>\n",
       "      <td>-0.792648</td>\n",
       "      <td>-0.643296</td>\n",
       "      <td>0</td>\n",
       "      <td>-0.108213</td>\n",
       "      <td>1.864605</td>\n",
       "      <td>-1.194751</td>\n",
       "      <td>-0.030097</td>\n",
       "      <td>-0.245654</td>\n",
       "      <td>-0.069928</td>\n",
       "      <td>-0.146735</td>\n",
       "      <td>-0.099839</td>\n",
       "      <td>-0.080389</td>\n",
       "      <td>-0.231355</td>\n",
       "      <td>-0.027447</td>\n",
       "      <td>-0.123571</td>\n",
       "      <td>-0.073227</td>\n",
       "      <td>-0.071065</td>\n",
       "      <td>-0.001464</td>\n",
       "      <td>-1.01179</td>\n",
       "      <td>-0.010356</td>\n",
       "      <td>-0.01976</td>\n",
       "      <td>-0.313407</td>\n",
       "      <td>1.21409</td>\n",
       "    </tr>\n",
       "    <tr>\n",
       "      <th>1</th>\n",
       "      <td>-1.426088</td>\n",
       "      <td>-1.425101</td>\n",
       "      <td>1.622784</td>\n",
       "      <td>0.330634</td>\n",
       "      <td>0.138524</td>\n",
       "      <td>-1.422685</td>\n",
       "      <td>-0.787386</td>\n",
       "      <td>0.682703</td>\n",
       "      <td>1.433732</td>\n",
       "      <td>-2.065791</td>\n",
       "      <td>-0.357012</td>\n",
       "      <td>-0.169444</td>\n",
       "      <td>3.843328</td>\n",
       "      <td>-1.641166</td>\n",
       "      <td>-0.31429</td>\n",
       "      <td>-1.971760</td>\n",
       "      <td>-1.815538</td>\n",
       "      <td>-0.734077</td>\n",
       "      <td>-0.693944</td>\n",
       "      <td>-1.274191</td>\n",
       "      <td>-0.867019</td>\n",
       "      <td>-0.123464</td>\n",
       "      <td>-0.540846</td>\n",
       "      <td>2.481383</td>\n",
       "      <td>-0.083608</td>\n",
       "      <td>-0.058307</td>\n",
       "      <td>-0.012089</td>\n",
       "      <td>-0.792648</td>\n",
       "      <td>-0.714540</td>\n",
       "      <td>1</td>\n",
       "      <td>9.241054</td>\n",
       "      <td>-0.536307</td>\n",
       "      <td>-1.194751</td>\n",
       "      <td>-0.030097</td>\n",
       "      <td>-0.245654</td>\n",
       "      <td>-0.069928</td>\n",
       "      <td>-0.146735</td>\n",
       "      <td>-0.099839</td>\n",
       "      <td>-0.080389</td>\n",
       "      <td>-0.231355</td>\n",
       "      <td>-0.027447</td>\n",
       "      <td>-0.123571</td>\n",
       "      <td>-0.073227</td>\n",
       "      <td>-0.071065</td>\n",
       "      <td>-0.001464</td>\n",
       "      <td>-1.01179</td>\n",
       "      <td>-0.010356</td>\n",
       "      <td>-0.01976</td>\n",
       "      <td>-0.313407</td>\n",
       "      <td>1.21409</td>\n",
       "    </tr>\n",
       "    <tr>\n",
       "      <th>2</th>\n",
       "      <td>-1.438156</td>\n",
       "      <td>-1.437186</td>\n",
       "      <td>-0.616225</td>\n",
       "      <td>0.488979</td>\n",
       "      <td>0.138524</td>\n",
       "      <td>1.145732</td>\n",
       "      <td>-1.110292</td>\n",
       "      <td>-1.464765</td>\n",
       "      <td>1.433732</td>\n",
       "      <td>-1.082491</td>\n",
       "      <td>-0.357012</td>\n",
       "      <td>-0.494649</td>\n",
       "      <td>1.095022</td>\n",
       "      <td>-1.841641</td>\n",
       "      <td>-0.31429</td>\n",
       "      <td>1.783934</td>\n",
       "      <td>-1.298361</td>\n",
       "      <td>-0.734077</td>\n",
       "      <td>-0.693944</td>\n",
       "      <td>-1.032837</td>\n",
       "      <td>-0.799187</td>\n",
       "      <td>-0.123464</td>\n",
       "      <td>-0.445387</td>\n",
       "      <td>-0.419305</td>\n",
       "      <td>-0.083608</td>\n",
       "      <td>-0.058307</td>\n",
       "      <td>-0.012089</td>\n",
       "      <td>-0.792648</td>\n",
       "      <td>-0.717390</td>\n",
       "      <td>0</td>\n",
       "      <td>-0.108213</td>\n",
       "      <td>-0.536307</td>\n",
       "      <td>-1.194751</td>\n",
       "      <td>-0.030097</td>\n",
       "      <td>-0.245654</td>\n",
       "      <td>-0.069928</td>\n",
       "      <td>-0.146735</td>\n",
       "      <td>-0.099839</td>\n",
       "      <td>-0.080389</td>\n",
       "      <td>-0.231355</td>\n",
       "      <td>-0.027447</td>\n",
       "      <td>8.092507</td>\n",
       "      <td>-0.073227</td>\n",
       "      <td>-0.071065</td>\n",
       "      <td>-0.001464</td>\n",
       "      <td>-1.01179</td>\n",
       "      <td>-0.010356</td>\n",
       "      <td>-0.01976</td>\n",
       "      <td>-0.313407</td>\n",
       "      <td>1.21409</td>\n",
       "    </tr>\n",
       "  </tbody>\n",
       "</table>\n",
       "</div>"
      ],
      "text/plain": [
       "   loan_amnt  funded_amnt      term  int_rate     grade  emp_length  \\\n",
       "0  -1.124392    -1.122963 -0.616225 -0.729587 -0.618831    1.145732   \n",
       "1  -1.426088    -1.425101  1.622784  0.330634  0.138524   -1.422685   \n",
       "2  -1.438156    -1.437186 -0.616225  0.488979  0.138524    1.145732   \n",
       "\n",
       "   annual_inc  verification_status   issue_d       dti  delinq_2yrs  \\\n",
       "0   -0.896549             0.682703  1.433732  1.328632    -0.357012   \n",
       "1   -0.787386             0.682703  1.433732 -2.065791    -0.357012   \n",
       "2   -1.110292            -1.464765  1.433732 -1.082491    -0.357012   \n",
       "\n",
       "   earliest_cr_line  inq_last_6mths  open_acc  pub_rec  revol_util  total_acc  \\\n",
       "0          1.655900        0.178920 -1.641166 -0.31429    1.160093  -1.384557   \n",
       "1         -0.169444        3.843328 -1.641166 -0.31429   -1.971760  -1.815538   \n",
       "2         -0.494649        1.095022 -1.841641 -0.31429    1.783934  -1.298361   \n",
       "\n",
       "   initial_list_status  out_prncp  total_pymnt  total_rec_int  \\\n",
       "0            -0.734077  -0.693944    -0.687137      -0.695548   \n",
       "1            -0.734077  -0.693944    -1.274191      -0.867019   \n",
       "2            -0.734077  -0.693944    -1.032837      -0.799187   \n",
       "\n",
       "   total_rec_late_fee  last_pymnt_amnt  last_credit_pull_d  \\\n",
       "0           -0.123464        -0.531492           -0.419305   \n",
       "1           -0.123464        -0.540846            2.481383   \n",
       "2           -0.123464        -0.445387           -0.419305   \n",
       "\n",
       "   collections_12_mths_ex_med  acc_now_delinq  tot_coll_amt  tot_cur_bal  \\\n",
       "0                   -0.083608       -0.058307     -0.012089    -0.792648   \n",
       "1                   -0.083608       -0.058307     -0.012089    -0.792648   \n",
       "2                   -0.083608       -0.058307     -0.012089    -0.792648   \n",
       "\n",
       "   total_rev_hi_lim  bad  prps_car  prps_credit_card  prps_debt_consolidation  \\\n",
       "0         -0.643296    0 -0.108213          1.864605                -1.194751   \n",
       "1         -0.714540    1  9.241054         -0.536307                -1.194751   \n",
       "2         -0.717390    0 -0.108213         -0.536307                -1.194751   \n",
       "\n",
       "   prps_educational  prps_home_improvement  prps_house  prps_major_purchase  \\\n",
       "0         -0.030097              -0.245654   -0.069928            -0.146735   \n",
       "1         -0.030097              -0.245654   -0.069928            -0.146735   \n",
       "2         -0.030097              -0.245654   -0.069928            -0.146735   \n",
       "\n",
       "   prps_medical  prps_moving  prps_other  prps_renewable_energy  \\\n",
       "0     -0.099839    -0.080389   -0.231355              -0.027447   \n",
       "1     -0.099839    -0.080389   -0.231355              -0.027447   \n",
       "2     -0.099839    -0.080389   -0.231355              -0.027447   \n",
       "\n",
       "   prps_small_business  prps_vacation  prps_wedding  home_ANY  home_MORTGAGE  \\\n",
       "0            -0.123571      -0.073227     -0.071065 -0.001464       -1.01179   \n",
       "1            -0.123571      -0.073227     -0.071065 -0.001464       -1.01179   \n",
       "2             8.092507      -0.073227     -0.071065 -0.001464       -1.01179   \n",
       "\n",
       "   home_NONE  home_OTHER  home_OWN  home_RENT  \n",
       "0  -0.010356    -0.01976 -0.313407    1.21409  \n",
       "1  -0.010356    -0.01976 -0.313407    1.21409  \n",
       "2  -0.010356    -0.01976 -0.313407    1.21409  "
      ]
     },
     "execution_count": 94,
     "metadata": {},
     "output_type": "execute_result"
    }
   ],
   "source": [
    "df2.head(3)"
   ]
  },
  {
   "cell_type": "markdown",
   "id": "947cf146-a590-45f0-8c5f-c339b140490e",
   "metadata": {},
   "source": [
    "# Modeling - Train"
   ]
  },
  {
   "cell_type": "code",
   "execution_count": 96,
   "id": "b947b565-b786-4a59-9fd3-7e3ef1fccc83",
   "metadata": {},
   "outputs": [],
   "source": [
    "from sklearn.model_selection import train_test_split"
   ]
  },
  {
   "cell_type": "code",
   "execution_count": 196,
   "id": "95a3aef5-ec06-44e3-b8a6-69c45805cb9c",
   "metadata": {},
   "outputs": [],
   "source": [
    "X = df2.drop('bad', axis=1)\n",
    "y = df2['bad']\n",
    "\n",
    "X_train, X_test, y_train, y_test = train_test_split(X, y, test_size=0.2, random_state=42)"
   ]
  },
  {
   "cell_type": "code",
   "execution_count": 197,
   "id": "897cefff-16ba-4dab-8e52-a2bdd24fdcbe",
   "metadata": {},
   "outputs": [
    {
     "data": {
      "text/plain": [
       "((373028, 49), (93257, 49))"
      ]
     },
     "execution_count": 197,
     "metadata": {},
     "output_type": "execute_result"
    }
   ],
   "source": [
    "X_train.shape, X_test.shape"
   ]
  },
  {
   "cell_type": "markdown",
   "id": "43498bcc-933f-4eb2-a6f5-740fa0255482",
   "metadata": {},
   "source": [
    "## Imbalance Resampling"
   ]
  },
  {
   "cell_type": "code",
   "execution_count": 198,
   "id": "1f42f5af-a7fa-4112-b0a8-326c8b7d9830",
   "metadata": {},
   "outputs": [
    {
     "data": {
      "text/plain": [
       "bad\n",
       "0    332250\n",
       "1     40778\n",
       "Name: count, dtype: int64"
      ]
     },
     "execution_count": 198,
     "metadata": {},
     "output_type": "execute_result"
    }
   ],
   "source": [
    "# before resampling\n",
    "y_train.value_counts()"
   ]
  },
  {
   "cell_type": "code",
   "execution_count": 200,
   "id": "c473f062-975b-45aa-91b2-3f5056c58ae2",
   "metadata": {},
   "outputs": [],
   "source": [
    "from imblearn.over_sampling import SMOTE"
   ]
  },
  {
   "cell_type": "code",
   "execution_count": 201,
   "id": "8c8d8295-15d9-4760-889e-ff52555c0d61",
   "metadata": {},
   "outputs": [],
   "source": [
    "smote = SMOTE()\n",
    "X_train, y_train = smote.fit_resample(X_train, y_train)"
   ]
  },
  {
   "cell_type": "code",
   "execution_count": 202,
   "id": "e18c888c-0d99-41e9-bd55-468b406ca888",
   "metadata": {},
   "outputs": [
    {
     "data": {
      "text/plain": [
       "bad\n",
       "0    332250\n",
       "1    332250\n",
       "Name: count, dtype: int64"
      ]
     },
     "execution_count": 202,
     "metadata": {},
     "output_type": "execute_result"
    }
   ],
   "source": [
    "# after resampling\n",
    "y_train.value_counts()"
   ]
  },
  {
   "cell_type": "code",
   "execution_count": 204,
   "id": "97fc1dca-b8d5-49fe-a37a-f52d216bfd0f",
   "metadata": {},
   "outputs": [],
   "source": [
    "from sklearn.linear_model import LogisticRegression\n",
    "from sklearn.ensemble import RandomForestClassifier\n",
    "from sklearn.tree import DecisionTreeClassifier"
   ]
  },
  {
   "cell_type": "code",
   "execution_count": 205,
   "id": "3f3b6224-386c-4a33-ba4f-6020ce4316b7",
   "metadata": {},
   "outputs": [
    {
     "name": "stderr",
     "output_type": "stream",
     "text": [
      "C:\\Users\\athiy\\anaconda3\\lib\\site-packages\\sklearn\\linear_model\\_logistic.py:458: ConvergenceWarning: lbfgs failed to converge (status=1):\n",
      "STOP: TOTAL NO. of ITERATIONS REACHED LIMIT.\n",
      "\n",
      "Increase the number of iterations (max_iter) or scale the data as shown in:\n",
      "    https://scikit-learn.org/stable/modules/preprocessing.html\n",
      "Please also refer to the documentation for alternative solver options:\n",
      "    https://scikit-learn.org/stable/modules/linear_model.html#logistic-regression\n",
      "  n_iter_i = _check_optimize_result(\n"
     ]
    },
    {
     "data": {
      "text/html": [
       "<style>#sk-container-id-1 {color: black;background-color: white;}#sk-container-id-1 pre{padding: 0;}#sk-container-id-1 div.sk-toggleable {background-color: white;}#sk-container-id-1 label.sk-toggleable__label {cursor: pointer;display: block;width: 100%;margin-bottom: 0;padding: 0.3em;box-sizing: border-box;text-align: center;}#sk-container-id-1 label.sk-toggleable__label-arrow:before {content: \"▸\";float: left;margin-right: 0.25em;color: #696969;}#sk-container-id-1 label.sk-toggleable__label-arrow:hover:before {color: black;}#sk-container-id-1 div.sk-estimator:hover label.sk-toggleable__label-arrow:before {color: black;}#sk-container-id-1 div.sk-toggleable__content {max-height: 0;max-width: 0;overflow: hidden;text-align: left;background-color: #f0f8ff;}#sk-container-id-1 div.sk-toggleable__content pre {margin: 0.2em;color: black;border-radius: 0.25em;background-color: #f0f8ff;}#sk-container-id-1 input.sk-toggleable__control:checked~div.sk-toggleable__content {max-height: 200px;max-width: 100%;overflow: auto;}#sk-container-id-1 input.sk-toggleable__control:checked~label.sk-toggleable__label-arrow:before {content: \"▾\";}#sk-container-id-1 div.sk-estimator input.sk-toggleable__control:checked~label.sk-toggleable__label {background-color: #d4ebff;}#sk-container-id-1 div.sk-label input.sk-toggleable__control:checked~label.sk-toggleable__label {background-color: #d4ebff;}#sk-container-id-1 input.sk-hidden--visually {border: 0;clip: rect(1px 1px 1px 1px);clip: rect(1px, 1px, 1px, 1px);height: 1px;margin: -1px;overflow: hidden;padding: 0;position: absolute;width: 1px;}#sk-container-id-1 div.sk-estimator {font-family: monospace;background-color: #f0f8ff;border: 1px dotted black;border-radius: 0.25em;box-sizing: border-box;margin-bottom: 0.5em;}#sk-container-id-1 div.sk-estimator:hover {background-color: #d4ebff;}#sk-container-id-1 div.sk-parallel-item::after {content: \"\";width: 100%;border-bottom: 1px solid gray;flex-grow: 1;}#sk-container-id-1 div.sk-label:hover label.sk-toggleable__label {background-color: #d4ebff;}#sk-container-id-1 div.sk-serial::before {content: \"\";position: absolute;border-left: 1px solid gray;box-sizing: border-box;top: 0;bottom: 0;left: 50%;z-index: 0;}#sk-container-id-1 div.sk-serial {display: flex;flex-direction: column;align-items: center;background-color: white;padding-right: 0.2em;padding-left: 0.2em;position: relative;}#sk-container-id-1 div.sk-item {position: relative;z-index: 1;}#sk-container-id-1 div.sk-parallel {display: flex;align-items: stretch;justify-content: center;background-color: white;position: relative;}#sk-container-id-1 div.sk-item::before, #sk-container-id-1 div.sk-parallel-item::before {content: \"\";position: absolute;border-left: 1px solid gray;box-sizing: border-box;top: 0;bottom: 0;left: 50%;z-index: -1;}#sk-container-id-1 div.sk-parallel-item {display: flex;flex-direction: column;z-index: 1;position: relative;background-color: white;}#sk-container-id-1 div.sk-parallel-item:first-child::after {align-self: flex-end;width: 50%;}#sk-container-id-1 div.sk-parallel-item:last-child::after {align-self: flex-start;width: 50%;}#sk-container-id-1 div.sk-parallel-item:only-child::after {width: 0;}#sk-container-id-1 div.sk-dashed-wrapped {border: 1px dashed gray;margin: 0 0.4em 0.5em 0.4em;box-sizing: border-box;padding-bottom: 0.4em;background-color: white;}#sk-container-id-1 div.sk-label label {font-family: monospace;font-weight: bold;display: inline-block;line-height: 1.2em;}#sk-container-id-1 div.sk-label-container {text-align: center;}#sk-container-id-1 div.sk-container {/* jupyter's `normalize.less` sets `[hidden] { display: none; }` but bootstrap.min.css set `[hidden] { display: none !important; }` so we also need the `!important` here to be able to override the default hidden behavior on the sphinx rendered scikit-learn.org. See: https://github.com/scikit-learn/scikit-learn/issues/21755 */display: inline-block !important;position: relative;}#sk-container-id-1 div.sk-text-repr-fallback {display: none;}</style><div id=\"sk-container-id-1\" class=\"sk-top-container\"><div class=\"sk-text-repr-fallback\"><pre>LogisticRegression()</pre><b>In a Jupyter environment, please rerun this cell to show the HTML representation or trust the notebook. <br />On GitHub, the HTML representation is unable to render, please try loading this page with nbviewer.org.</b></div><div class=\"sk-container\" hidden><div class=\"sk-item\"><div class=\"sk-estimator sk-toggleable\"><input class=\"sk-toggleable__control sk-hidden--visually\" id=\"sk-estimator-id-1\" type=\"checkbox\" checked><label for=\"sk-estimator-id-1\" class=\"sk-toggleable__label sk-toggleable__label-arrow\">LogisticRegression</label><div class=\"sk-toggleable__content\"><pre>LogisticRegression()</pre></div></div></div></div></div>"
      ],
      "text/plain": [
       "LogisticRegression()"
      ]
     },
     "execution_count": 205,
     "metadata": {},
     "output_type": "execute_result"
    }
   ],
   "source": [
    "lr = LogisticRegression()\n",
    "lr.fit(X_train, y_train)"
   ]
  },
  {
   "cell_type": "code",
   "execution_count": 206,
   "id": "741153db-8f77-41c0-a856-8c1f3f38cf27",
   "metadata": {},
   "outputs": [
    {
     "data": {
      "text/html": [
       "<style>#sk-container-id-2 {color: black;background-color: white;}#sk-container-id-2 pre{padding: 0;}#sk-container-id-2 div.sk-toggleable {background-color: white;}#sk-container-id-2 label.sk-toggleable__label {cursor: pointer;display: block;width: 100%;margin-bottom: 0;padding: 0.3em;box-sizing: border-box;text-align: center;}#sk-container-id-2 label.sk-toggleable__label-arrow:before {content: \"▸\";float: left;margin-right: 0.25em;color: #696969;}#sk-container-id-2 label.sk-toggleable__label-arrow:hover:before {color: black;}#sk-container-id-2 div.sk-estimator:hover label.sk-toggleable__label-arrow:before {color: black;}#sk-container-id-2 div.sk-toggleable__content {max-height: 0;max-width: 0;overflow: hidden;text-align: left;background-color: #f0f8ff;}#sk-container-id-2 div.sk-toggleable__content pre {margin: 0.2em;color: black;border-radius: 0.25em;background-color: #f0f8ff;}#sk-container-id-2 input.sk-toggleable__control:checked~div.sk-toggleable__content {max-height: 200px;max-width: 100%;overflow: auto;}#sk-container-id-2 input.sk-toggleable__control:checked~label.sk-toggleable__label-arrow:before {content: \"▾\";}#sk-container-id-2 div.sk-estimator input.sk-toggleable__control:checked~label.sk-toggleable__label {background-color: #d4ebff;}#sk-container-id-2 div.sk-label input.sk-toggleable__control:checked~label.sk-toggleable__label {background-color: #d4ebff;}#sk-container-id-2 input.sk-hidden--visually {border: 0;clip: rect(1px 1px 1px 1px);clip: rect(1px, 1px, 1px, 1px);height: 1px;margin: -1px;overflow: hidden;padding: 0;position: absolute;width: 1px;}#sk-container-id-2 div.sk-estimator {font-family: monospace;background-color: #f0f8ff;border: 1px dotted black;border-radius: 0.25em;box-sizing: border-box;margin-bottom: 0.5em;}#sk-container-id-2 div.sk-estimator:hover {background-color: #d4ebff;}#sk-container-id-2 div.sk-parallel-item::after {content: \"\";width: 100%;border-bottom: 1px solid gray;flex-grow: 1;}#sk-container-id-2 div.sk-label:hover label.sk-toggleable__label {background-color: #d4ebff;}#sk-container-id-2 div.sk-serial::before {content: \"\";position: absolute;border-left: 1px solid gray;box-sizing: border-box;top: 0;bottom: 0;left: 50%;z-index: 0;}#sk-container-id-2 div.sk-serial {display: flex;flex-direction: column;align-items: center;background-color: white;padding-right: 0.2em;padding-left: 0.2em;position: relative;}#sk-container-id-2 div.sk-item {position: relative;z-index: 1;}#sk-container-id-2 div.sk-parallel {display: flex;align-items: stretch;justify-content: center;background-color: white;position: relative;}#sk-container-id-2 div.sk-item::before, #sk-container-id-2 div.sk-parallel-item::before {content: \"\";position: absolute;border-left: 1px solid gray;box-sizing: border-box;top: 0;bottom: 0;left: 50%;z-index: -1;}#sk-container-id-2 div.sk-parallel-item {display: flex;flex-direction: column;z-index: 1;position: relative;background-color: white;}#sk-container-id-2 div.sk-parallel-item:first-child::after {align-self: flex-end;width: 50%;}#sk-container-id-2 div.sk-parallel-item:last-child::after {align-self: flex-start;width: 50%;}#sk-container-id-2 div.sk-parallel-item:only-child::after {width: 0;}#sk-container-id-2 div.sk-dashed-wrapped {border: 1px dashed gray;margin: 0 0.4em 0.5em 0.4em;box-sizing: border-box;padding-bottom: 0.4em;background-color: white;}#sk-container-id-2 div.sk-label label {font-family: monospace;font-weight: bold;display: inline-block;line-height: 1.2em;}#sk-container-id-2 div.sk-label-container {text-align: center;}#sk-container-id-2 div.sk-container {/* jupyter's `normalize.less` sets `[hidden] { display: none; }` but bootstrap.min.css set `[hidden] { display: none !important; }` so we also need the `!important` here to be able to override the default hidden behavior on the sphinx rendered scikit-learn.org. See: https://github.com/scikit-learn/scikit-learn/issues/21755 */display: inline-block !important;position: relative;}#sk-container-id-2 div.sk-text-repr-fallback {display: none;}</style><div id=\"sk-container-id-2\" class=\"sk-top-container\"><div class=\"sk-text-repr-fallback\"><pre>DecisionTreeClassifier()</pre><b>In a Jupyter environment, please rerun this cell to show the HTML representation or trust the notebook. <br />On GitHub, the HTML representation is unable to render, please try loading this page with nbviewer.org.</b></div><div class=\"sk-container\" hidden><div class=\"sk-item\"><div class=\"sk-estimator sk-toggleable\"><input class=\"sk-toggleable__control sk-hidden--visually\" id=\"sk-estimator-id-2\" type=\"checkbox\" checked><label for=\"sk-estimator-id-2\" class=\"sk-toggleable__label sk-toggleable__label-arrow\">DecisionTreeClassifier</label><div class=\"sk-toggleable__content\"><pre>DecisionTreeClassifier()</pre></div></div></div></div></div>"
      ],
      "text/plain": [
       "DecisionTreeClassifier()"
      ]
     },
     "execution_count": 206,
     "metadata": {},
     "output_type": "execute_result"
    }
   ],
   "source": [
    "dt = DecisionTreeClassifier()\n",
    "dt.fit(X_train, y_train)"
   ]
  },
  {
   "cell_type": "code",
   "execution_count": 207,
   "id": "d5934861-e71a-4c12-a15e-f36fc503f826",
   "metadata": {},
   "outputs": [
    {
     "data": {
      "text/html": [
       "<style>#sk-container-id-3 {color: black;background-color: white;}#sk-container-id-3 pre{padding: 0;}#sk-container-id-3 div.sk-toggleable {background-color: white;}#sk-container-id-3 label.sk-toggleable__label {cursor: pointer;display: block;width: 100%;margin-bottom: 0;padding: 0.3em;box-sizing: border-box;text-align: center;}#sk-container-id-3 label.sk-toggleable__label-arrow:before {content: \"▸\";float: left;margin-right: 0.25em;color: #696969;}#sk-container-id-3 label.sk-toggleable__label-arrow:hover:before {color: black;}#sk-container-id-3 div.sk-estimator:hover label.sk-toggleable__label-arrow:before {color: black;}#sk-container-id-3 div.sk-toggleable__content {max-height: 0;max-width: 0;overflow: hidden;text-align: left;background-color: #f0f8ff;}#sk-container-id-3 div.sk-toggleable__content pre {margin: 0.2em;color: black;border-radius: 0.25em;background-color: #f0f8ff;}#sk-container-id-3 input.sk-toggleable__control:checked~div.sk-toggleable__content {max-height: 200px;max-width: 100%;overflow: auto;}#sk-container-id-3 input.sk-toggleable__control:checked~label.sk-toggleable__label-arrow:before {content: \"▾\";}#sk-container-id-3 div.sk-estimator input.sk-toggleable__control:checked~label.sk-toggleable__label {background-color: #d4ebff;}#sk-container-id-3 div.sk-label input.sk-toggleable__control:checked~label.sk-toggleable__label {background-color: #d4ebff;}#sk-container-id-3 input.sk-hidden--visually {border: 0;clip: rect(1px 1px 1px 1px);clip: rect(1px, 1px, 1px, 1px);height: 1px;margin: -1px;overflow: hidden;padding: 0;position: absolute;width: 1px;}#sk-container-id-3 div.sk-estimator {font-family: monospace;background-color: #f0f8ff;border: 1px dotted black;border-radius: 0.25em;box-sizing: border-box;margin-bottom: 0.5em;}#sk-container-id-3 div.sk-estimator:hover {background-color: #d4ebff;}#sk-container-id-3 div.sk-parallel-item::after {content: \"\";width: 100%;border-bottom: 1px solid gray;flex-grow: 1;}#sk-container-id-3 div.sk-label:hover label.sk-toggleable__label {background-color: #d4ebff;}#sk-container-id-3 div.sk-serial::before {content: \"\";position: absolute;border-left: 1px solid gray;box-sizing: border-box;top: 0;bottom: 0;left: 50%;z-index: 0;}#sk-container-id-3 div.sk-serial {display: flex;flex-direction: column;align-items: center;background-color: white;padding-right: 0.2em;padding-left: 0.2em;position: relative;}#sk-container-id-3 div.sk-item {position: relative;z-index: 1;}#sk-container-id-3 div.sk-parallel {display: flex;align-items: stretch;justify-content: center;background-color: white;position: relative;}#sk-container-id-3 div.sk-item::before, #sk-container-id-3 div.sk-parallel-item::before {content: \"\";position: absolute;border-left: 1px solid gray;box-sizing: border-box;top: 0;bottom: 0;left: 50%;z-index: -1;}#sk-container-id-3 div.sk-parallel-item {display: flex;flex-direction: column;z-index: 1;position: relative;background-color: white;}#sk-container-id-3 div.sk-parallel-item:first-child::after {align-self: flex-end;width: 50%;}#sk-container-id-3 div.sk-parallel-item:last-child::after {align-self: flex-start;width: 50%;}#sk-container-id-3 div.sk-parallel-item:only-child::after {width: 0;}#sk-container-id-3 div.sk-dashed-wrapped {border: 1px dashed gray;margin: 0 0.4em 0.5em 0.4em;box-sizing: border-box;padding-bottom: 0.4em;background-color: white;}#sk-container-id-3 div.sk-label label {font-family: monospace;font-weight: bold;display: inline-block;line-height: 1.2em;}#sk-container-id-3 div.sk-label-container {text-align: center;}#sk-container-id-3 div.sk-container {/* jupyter's `normalize.less` sets `[hidden] { display: none; }` but bootstrap.min.css set `[hidden] { display: none !important; }` so we also need the `!important` here to be able to override the default hidden behavior on the sphinx rendered scikit-learn.org. See: https://github.com/scikit-learn/scikit-learn/issues/21755 */display: inline-block !important;position: relative;}#sk-container-id-3 div.sk-text-repr-fallback {display: none;}</style><div id=\"sk-container-id-3\" class=\"sk-top-container\"><div class=\"sk-text-repr-fallback\"><pre>RandomForestClassifier()</pre><b>In a Jupyter environment, please rerun this cell to show the HTML representation or trust the notebook. <br />On GitHub, the HTML representation is unable to render, please try loading this page with nbviewer.org.</b></div><div class=\"sk-container\" hidden><div class=\"sk-item\"><div class=\"sk-estimator sk-toggleable\"><input class=\"sk-toggleable__control sk-hidden--visually\" id=\"sk-estimator-id-3\" type=\"checkbox\" checked><label for=\"sk-estimator-id-3\" class=\"sk-toggleable__label sk-toggleable__label-arrow\">RandomForestClassifier</label><div class=\"sk-toggleable__content\"><pre>RandomForestClassifier()</pre></div></div></div></div></div>"
      ],
      "text/plain": [
       "RandomForestClassifier()"
      ]
     },
     "execution_count": 207,
     "metadata": {},
     "output_type": "execute_result"
    }
   ],
   "source": [
    "rf = RandomForestClassifier()\n",
    "rf.fit(X_train, y_train)"
   ]
  },
  {
   "cell_type": "markdown",
   "id": "7daa1742-7a69-4445-81f5-4e0cf3321e08",
   "metadata": {},
   "source": [
    "# Modeling - Evaluation"
   ]
  },
  {
   "cell_type": "code",
   "execution_count": 230,
   "id": "40a14b10-c8af-442f-998f-3978f0271ac1",
   "metadata": {},
   "outputs": [],
   "source": [
    "from sklearn.metrics import accuracy_score, precision_score, recall_score, f1_score, roc_auc_score, roc_curve\n",
    "from sklearn.model_selection import cross_validate"
   ]
  },
  {
   "cell_type": "code",
   "execution_count": 235,
   "id": "b37cd374-1b62-49ca-83c8-ce8b8279b18d",
   "metadata": {},
   "outputs": [],
   "source": [
    "def eval_classification(model):\n",
    "    y_pred_train = model.predict(X_train)\n",
    "    y_pred = model.predict(X_test)\n",
    "    y_pred_proba_train = model.predict_proba(X_train)\n",
    "    y_pred_proba = model.predict_proba(X_test)\n",
    "\n",
    "    # Generate predicted probabilities of positive class for training and test sets\n",
    "    train_probabilities = model.predict_proba(X_train)[:, 1]\n",
    "    test_probabilities = model.predict_proba(X_test)[:, 1]\n",
    "\n",
    "    # Calculate KS statistic for training set\n",
    "    fpr_train, tpr_train, _ = roc_curve(y_train, train_probabilities)\n",
    "    ks_train = max(tpr_train - fpr_train)\n",
    "\n",
    "    # Calculate KS statistic for test set\n",
    "    fpr_test, tpr_test, _ = roc_curve(y_test, test_probabilities)\n",
    "    ks_test = max(tpr_test - fpr_test)\n",
    "\n",
    "    print(f\"{model}\")\n",
    "    print(\"AUC (Train): %.4f\" % roc_auc_score(y_train, y_pred_proba_train[:, 1]))\n",
    "    print(\"AUC (Test): %.4f\" % roc_auc_score(y_test, y_pred_proba[:, 1]))\n",
    "    print(\"KS (Train): %.4f\" % ks_train)\n",
    "    print(\"KS (Test): %.4f\" % ks_test)"
   ]
  },
  {
   "cell_type": "markdown",
   "id": "0ddc537c-8867-4e37-93ee-ef1439263656",
   "metadata": {},
   "source": [
    "## Logistic Regression"
   ]
  },
  {
   "cell_type": "code",
   "execution_count": 236,
   "id": "bad8f054-6e3f-47c4-8ccc-45a6a6907178",
   "metadata": {},
   "outputs": [
    {
     "name": "stdout",
     "output_type": "stream",
     "text": [
      "LogisticRegression()\n",
      "AUC (Train): 0.9855\n",
      "AUC (Test): 0.9714\n",
      "KS (Train): 0.9004\n",
      "KS (Test): 0.8474\n"
     ]
    }
   ],
   "source": [
    "eval_classification(lr)"
   ]
  },
  {
   "cell_type": "markdown",
   "id": "30303932-5120-462d-9222-29482009261e",
   "metadata": {},
   "source": [
    "## Decision Tree"
   ]
  },
  {
   "cell_type": "code",
   "execution_count": 237,
   "id": "e7085204-7b05-4a75-b4f1-ec33cbf24309",
   "metadata": {},
   "outputs": [
    {
     "name": "stdout",
     "output_type": "stream",
     "text": [
      "DecisionTreeClassifier()\n",
      "AUC (Train): 1.0000\n",
      "AUC (Test): 0.9309\n",
      "KS (Train): 1.0000\n",
      "KS (Test): 0.8618\n"
     ]
    }
   ],
   "source": [
    "eval_classification(dt)"
   ]
  },
  {
   "cell_type": "markdown",
   "id": "7fb18135-e2ff-457a-a9ec-91b77a8b5f27",
   "metadata": {},
   "source": [
    "## Random Forest"
   ]
  },
  {
   "cell_type": "code",
   "execution_count": 238,
   "id": "0bf8b381-5507-440b-8613-a8879184c9d0",
   "metadata": {},
   "outputs": [
    {
     "name": "stdout",
     "output_type": "stream",
     "text": [
      "RandomForestClassifier()\n",
      "AUC (Train): 1.0000\n",
      "AUC (Test): 0.9814\n",
      "KS (Train): 1.0000\n",
      "KS (Test): 0.8750\n"
     ]
    }
   ],
   "source": [
    "eval_classification(rf)"
   ]
  },
  {
   "cell_type": "markdown",
   "id": "e8f55bfa-f1c3-496c-9c72-fe92ccce8606",
   "metadata": {},
   "source": [
    "I am not tuning hyperparameter due to hardware capacity."
   ]
  },
  {
   "cell_type": "code",
   "execution_count": 241,
   "id": "445de950-f9b4-4bf0-9337-99c1b49252f4",
   "metadata": {},
   "outputs": [],
   "source": [
    "def show_feature_importance(model):\n",
    "    feat_importances = pd.Series(model.feature_importances_, index=X.columns)\n",
    "    ax = feat_importances.nlargest(25).plot(kind='barh', figsize=(10, 8))\n",
    "    ax.invert_yaxis()\n",
    "\n",
    "    plt.xlabel('score')\n",
    "    plt.ylabel('feature')\n",
    "    plt.title('Feature Importance Score')"
   ]
  },
  {
   "cell_type": "code",
   "execution_count": 240,
   "id": "3f9d8a84-1b9a-4a1f-8934-fb9e102d932d",
   "metadata": {},
   "outputs": [
    {
     "data": {
      "image/png": "[encoded data removed]",
      "text/plain": [
       "<Figure size 1000x800 with 1 Axes>"
      ]
     },
     "metadata": {},
     "output_type": "display_data"
    }
   ],
   "source": [
    "show_feature_importance(rf)"
   ]
  },
  {
   "cell_type": "markdown",
   "id": "145a9493-92b1-4790-96b3-90d68a159cf0",
   "metadata": {},
   "source": [
    "# Conclusion"
   ]
  },
  {
   "cell_type": "markdown",
   "id": "e0544059-1c59-420e-80eb-b4939be23c64",
   "metadata": {},
   "source": [
    "The best fit model uses Random Forest algorithm and results in `AUC = 0.98` dan `KS = 0.87`."
   ]
  }
 ],
 "metadata": {
  "kernelspec": {
   "display_name": "Python 3 (ipykernel)",
   "language": "python",
   "name": "python3"
  },
  "language_info": {
   "codemirror_mode": {
    "name": "ipython",
    "version": 3
   },
   "file_extension": ".py",
   "mimetype": "text/x-python",
   "name": "python",
   "nbconvert_exporter": "python",
   "pygments_lexer": "ipython3",
   "version": "3.10.13"
  }
 },
 "nbformat": 4,
 "nbformat_minor": 5
}
